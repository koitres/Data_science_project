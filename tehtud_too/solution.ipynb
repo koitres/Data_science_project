{
 "cells": [
  {
   "cell_type": "code",
   "execution_count": 21,
   "id": "initial_id",
   "metadata": {
    "ExecuteTime": {
     "end_time": "2023-12-10T17:57:59.076083Z",
     "start_time": "2023-12-10T17:57:46.637193Z"
    },
    "collapsed": true,
    "jupyter": {
     "outputs_hidden": true
    }
   },
   "outputs": [
    {
     "name": "stdout",
     "output_type": "stream",
     "text": [
      "Requirement already satisfied: pandas in /Users/johannmkammiste/anaconda3/lib/python3.11/site-packages (1.5.3)\r\n",
      "Requirement already satisfied: python-dateutil>=2.8.1 in /Users/johannmkammiste/anaconda3/lib/python3.11/site-packages (from pandas) (2.8.2)\r\n",
      "Requirement already satisfied: pytz>=2020.1 in /Users/johannmkammiste/anaconda3/lib/python3.11/site-packages (from pandas) (2022.7)\r\n",
      "Requirement already satisfied: numpy>=1.21.0 in /Users/johannmkammiste/anaconda3/lib/python3.11/site-packages (from pandas) (1.24.3)\r\n",
      "Requirement already satisfied: six>=1.5 in /Users/johannmkammiste/anaconda3/lib/python3.11/site-packages (from python-dateutil>=2.8.1->pandas) (1.16.0)\r\n",
      "Requirement already satisfied: scikit-learn in /Users/johannmkammiste/anaconda3/lib/python3.11/site-packages (1.3.0)\r\n",
      "Requirement already satisfied: numpy>=1.17.3 in /Users/johannmkammiste/anaconda3/lib/python3.11/site-packages (from scikit-learn) (1.24.3)\r\n",
      "Requirement already satisfied: scipy>=1.5.0 in /Users/johannmkammiste/anaconda3/lib/python3.11/site-packages (from scikit-learn) (1.10.1)\r\n",
      "Requirement already satisfied: joblib>=1.1.1 in /Users/johannmkammiste/anaconda3/lib/python3.11/site-packages (from scikit-learn) (1.2.0)\r\n",
      "Requirement already satisfied: threadpoolctl>=2.0.0 in /Users/johannmkammiste/anaconda3/lib/python3.11/site-packages (from scikit-learn) (2.2.0)\r\n",
      "Requirement already satisfied: seaborn in /Users/johannmkammiste/anaconda3/lib/python3.11/site-packages (0.12.2)\r\n",
      "Requirement already satisfied: numpy!=1.24.0,>=1.17 in /Users/johannmkammiste/anaconda3/lib/python3.11/site-packages (from seaborn) (1.24.3)\r\n",
      "Requirement already satisfied: pandas>=0.25 in /Users/johannmkammiste/anaconda3/lib/python3.11/site-packages (from seaborn) (1.5.3)\r\n",
      "Requirement already satisfied: matplotlib!=3.6.1,>=3.1 in /Users/johannmkammiste/anaconda3/lib/python3.11/site-packages (from seaborn) (3.7.1)\r\n",
      "Requirement already satisfied: contourpy>=1.0.1 in /Users/johannmkammiste/anaconda3/lib/python3.11/site-packages (from matplotlib!=3.6.1,>=3.1->seaborn) (1.0.5)\r\n",
      "Requirement already satisfied: cycler>=0.10 in /Users/johannmkammiste/anaconda3/lib/python3.11/site-packages (from matplotlib!=3.6.1,>=3.1->seaborn) (0.11.0)\r\n",
      "Requirement already satisfied: fonttools>=4.22.0 in /Users/johannmkammiste/anaconda3/lib/python3.11/site-packages (from matplotlib!=3.6.1,>=3.1->seaborn) (4.25.0)\r\n",
      "Requirement already satisfied: kiwisolver>=1.0.1 in /Users/johannmkammiste/anaconda3/lib/python3.11/site-packages (from matplotlib!=3.6.1,>=3.1->seaborn) (1.4.4)\r\n",
      "Requirement already satisfied: packaging>=20.0 in /Users/johannmkammiste/anaconda3/lib/python3.11/site-packages (from matplotlib!=3.6.1,>=3.1->seaborn) (23.0)\r\n",
      "Requirement already satisfied: pillow>=6.2.0 in /Users/johannmkammiste/anaconda3/lib/python3.11/site-packages (from matplotlib!=3.6.1,>=3.1->seaborn) (9.4.0)\r\n",
      "Requirement already satisfied: pyparsing>=2.3.1 in /Users/johannmkammiste/anaconda3/lib/python3.11/site-packages (from matplotlib!=3.6.1,>=3.1->seaborn) (3.0.9)\r\n",
      "Requirement already satisfied: python-dateutil>=2.7 in /Users/johannmkammiste/anaconda3/lib/python3.11/site-packages (from matplotlib!=3.6.1,>=3.1->seaborn) (2.8.2)\r\n",
      "Requirement already satisfied: pytz>=2020.1 in /Users/johannmkammiste/anaconda3/lib/python3.11/site-packages (from pandas>=0.25->seaborn) (2022.7)\r\n",
      "Requirement already satisfied: six>=1.5 in /Users/johannmkammiste/anaconda3/lib/python3.11/site-packages (from python-dateutil>=2.7->matplotlib!=3.6.1,>=3.1->seaborn) (1.16.0)\r\n",
      "zsh:1: no matches found: lightgbm[scikit-learn]\r\n",
      "Requirement already satisfied: xgboost in /Users/johannmkammiste/anaconda3/lib/python3.11/site-packages (2.0.2)\r\n",
      "Requirement already satisfied: numpy in /Users/johannmkammiste/anaconda3/lib/python3.11/site-packages (from xgboost) (1.24.3)\r\n",
      "Requirement already satisfied: scipy in /Users/johannmkammiste/anaconda3/lib/python3.11/site-packages (from xgboost) (1.10.1)\r\n",
      "Requirement already satisfied: catboost in /Users/johannmkammiste/anaconda3/lib/python3.11/site-packages (1.2.2)\r\n",
      "Requirement already satisfied: graphviz in /Users/johannmkammiste/anaconda3/lib/python3.11/site-packages (from catboost) (0.20.1)\r\n",
      "Requirement already satisfied: matplotlib in /Users/johannmkammiste/anaconda3/lib/python3.11/site-packages (from catboost) (3.7.1)\r\n",
      "Requirement already satisfied: numpy>=1.16.0 in /Users/johannmkammiste/anaconda3/lib/python3.11/site-packages (from catboost) (1.24.3)\r\n",
      "Requirement already satisfied: pandas>=0.24 in /Users/johannmkammiste/anaconda3/lib/python3.11/site-packages (from catboost) (1.5.3)\r\n",
      "Requirement already satisfied: scipy in /Users/johannmkammiste/anaconda3/lib/python3.11/site-packages (from catboost) (1.10.1)\r\n",
      "Requirement already satisfied: plotly in /Users/johannmkammiste/anaconda3/lib/python3.11/site-packages (from catboost) (5.9.0)\r\n",
      "Requirement already satisfied: six in /Users/johannmkammiste/anaconda3/lib/python3.11/site-packages (from catboost) (1.16.0)\r\n",
      "Requirement already satisfied: python-dateutil>=2.8.1 in /Users/johannmkammiste/anaconda3/lib/python3.11/site-packages (from pandas>=0.24->catboost) (2.8.2)\r\n",
      "Requirement already satisfied: pytz>=2020.1 in /Users/johannmkammiste/anaconda3/lib/python3.11/site-packages (from pandas>=0.24->catboost) (2022.7)\r\n",
      "Requirement already satisfied: contourpy>=1.0.1 in /Users/johannmkammiste/anaconda3/lib/python3.11/site-packages (from matplotlib->catboost) (1.0.5)\r\n",
      "Requirement already satisfied: cycler>=0.10 in /Users/johannmkammiste/anaconda3/lib/python3.11/site-packages (from matplotlib->catboost) (0.11.0)\r\n",
      "Requirement already satisfied: fonttools>=4.22.0 in /Users/johannmkammiste/anaconda3/lib/python3.11/site-packages (from matplotlib->catboost) (4.25.0)\r\n",
      "Requirement already satisfied: kiwisolver>=1.0.1 in /Users/johannmkammiste/anaconda3/lib/python3.11/site-packages (from matplotlib->catboost) (1.4.4)\r\n",
      "Requirement already satisfied: packaging>=20.0 in /Users/johannmkammiste/anaconda3/lib/python3.11/site-packages (from matplotlib->catboost) (23.0)\r\n",
      "Requirement already satisfied: pillow>=6.2.0 in /Users/johannmkammiste/anaconda3/lib/python3.11/site-packages (from matplotlib->catboost) (9.4.0)\r\n",
      "Requirement already satisfied: pyparsing>=2.3.1 in /Users/johannmkammiste/anaconda3/lib/python3.11/site-packages (from matplotlib->catboost) (3.0.9)\r\n",
      "Requirement already satisfied: tenacity>=6.2.0 in /Users/johannmkammiste/anaconda3/lib/python3.11/site-packages (from plotly->catboost) (8.2.2)\r\n",
      "Requirement already satisfied: joblib in /Users/johannmkammiste/anaconda3/lib/python3.11/site-packages (1.2.0)\r\n"
     ]
    }
   ],
   "source": [
    "!pip install pandas\n",
    "!pip install scikit-learn\n",
    "!pip install seaborn\n",
    "!pip install lightgbm[scikit-learn]\n",
    "!pip install xgboost\n",
    "!pip install catboost\n",
    "!pip install joblib"
   ]
  },
  {
   "cell_type": "code",
   "execution_count": 2,
   "id": "6d3434d62fd41d99",
   "metadata": {
    "ExecuteTime": {
     "end_time": "2023-12-10T18:01:05.389512Z",
     "start_time": "2023-12-10T18:01:02.798603Z"
    },
    "collapsed": false,
    "jupyter": {
     "outputs_hidden": false
    }
   },
   "outputs": [
    {
     "ename": "ModuleNotFoundError",
     "evalue": "No module named 'plotly'",
     "output_type": "error",
     "traceback": [
      "\u001b[1;31m---------------------------------------------------------------------------\u001b[0m",
      "\u001b[1;31mModuleNotFoundError\u001b[0m                       Traceback (most recent call last)",
      "Cell \u001b[1;32mIn[2], line 6\u001b[0m\n\u001b[0;32m      4\u001b[0m \u001b[38;5;28;01mimport\u001b[39;00m \u001b[38;5;21;01mpandas\u001b[39;00m \u001b[38;5;28;01mas\u001b[39;00m \u001b[38;5;21;01mpd\u001b[39;00m\n\u001b[0;32m      5\u001b[0m \u001b[38;5;28;01mimport\u001b[39;00m \u001b[38;5;21;01mseaborn\u001b[39;00m \u001b[38;5;28;01mas\u001b[39;00m \u001b[38;5;21;01msns\u001b[39;00m \n\u001b[1;32m----> 6\u001b[0m \u001b[38;5;28;01mimport\u001b[39;00m \u001b[38;5;21;01mplotly\u001b[39;00m\u001b[38;5;21;01m.\u001b[39;00m\u001b[38;5;21;01mexpress\u001b[39;00m \u001b[38;5;28;01mas\u001b[39;00m \u001b[38;5;21;01mpx\u001b[39;00m\n\u001b[0;32m      7\u001b[0m \u001b[38;5;28;01mimport\u001b[39;00m \u001b[38;5;21;01mplotly\u001b[39;00m\u001b[38;5;21;01m.\u001b[39;00m\u001b[38;5;21;01mgraph_objects\u001b[39;00m \u001b[38;5;28;01mas\u001b[39;00m \u001b[38;5;21;01mgo\u001b[39;00m\n\u001b[0;32m      8\u001b[0m get_ipython()\u001b[38;5;241m.\u001b[39mrun_line_magic(\u001b[38;5;124m'\u001b[39m\u001b[38;5;124mmatplotlib\u001b[39m\u001b[38;5;124m'\u001b[39m, \u001b[38;5;124m'\u001b[39m\u001b[38;5;124minline\u001b[39m\u001b[38;5;124m'\u001b[39m)\n",
      "\u001b[1;31mModuleNotFoundError\u001b[0m: No module named 'plotly'"
     ]
    }
   ],
   "source": [
    "#imports\n",
    "# Data Analytic Tools\n",
    "import matplotlib.pyplot as plt \n",
    "import pandas as pd\n",
    "import seaborn as sns \n",
    "import plotly.express as px\n",
    "import plotly.graph_objects as go\n",
    "%matplotlib inline\n",
    "%config InlineBackend.figure_format='retina'\n",
    "\n",
    "# Computing Tools \n",
    "import lightgbm as lgb \n",
    "import xgboost as xgb \n",
    "import catboost as cbt \n",
    "import numpy as np \n",
    "import joblib \n",
    "import os\n",
    "for dirname, _, filenames in os.walk('data/'):\n",
    "    for filename in filenames:\n",
    "        print(os.path.join(dirname, filename))"
   ]
  },
  {
   "cell_type": "code",
   "execution_count": 5,
   "id": "66df93101e0f7265",
   "metadata": {
    "ExecuteTime": {
     "end_time": "2023-12-10T18:01:16.610489Z",
     "start_time": "2023-12-10T18:01:10.085529Z"
    },
    "collapsed": false,
    "jupyter": {
     "outputs_hidden": false
    }
   },
   "outputs": [],
   "source": [
    "# load the train.csv file using pandas build in function \n",
    "train = pd.read_csv('../data/train.csv')\n",
    "\n",
    "# Print the first five value row of the dataset \n",
    "train.head()\n",
    "\n",
    "# Print out the nan/ null values counts in each features\n",
    "train.isnull().sum()\n",
    "\n",
    "# Drop the nan/null values in the target since it would help for the inference \n",
    "trian = train.dropna(subset=['target'])\n",
    "\n",
    "# Drop the index inplace \n",
    "train.reset_index(drop=True, inplace=True)"
   ]
  },
  {
   "cell_type": "code",
   "execution_count": 6,
   "id": "3b23488067496995",
   "metadata": {
    "ExecuteTime": {
     "end_time": "2023-12-10T18:01:31.405425Z",
     "start_time": "2023-12-10T18:01:31.341887Z"
    },
    "collapsed": false,
    "jupyter": {
     "outputs_hidden": false
    }
   },
   "outputs": [
    {
     "data": {
      "text/html": [
       "<div>\n",
       "<style scoped>\n",
       "    .dataframe tbody tr th:only-of-type {\n",
       "        vertical-align: middle;\n",
       "    }\n",
       "\n",
       "    .dataframe tbody tr th {\n",
       "        vertical-align: top;\n",
       "    }\n",
       "\n",
       "    .dataframe thead th {\n",
       "        text-align: right;\n",
       "    }\n",
       "</style>\n",
       "<table border=\"1\" class=\"dataframe\">\n",
       "  <thead>\n",
       "    <tr style=\"text-align: right;\">\n",
       "      <th></th>\n",
       "      <th>stock_id</th>\n",
       "      <th>date_id</th>\n",
       "      <th>seconds_in_bucket</th>\n",
       "      <th>imbalance_size</th>\n",
       "      <th>imbalance_buy_sell_flag</th>\n",
       "      <th>reference_price</th>\n",
       "      <th>matched_size</th>\n",
       "      <th>far_price</th>\n",
       "      <th>near_price</th>\n",
       "      <th>bid_price</th>\n",
       "      <th>bid_size</th>\n",
       "      <th>ask_price</th>\n",
       "      <th>ask_size</th>\n",
       "      <th>wap</th>\n",
       "      <th>target</th>\n",
       "      <th>time_id</th>\n",
       "      <th>row_id</th>\n",
       "    </tr>\n",
       "  </thead>\n",
       "  <tbody>\n",
       "    <tr>\n",
       "      <th>0</th>\n",
       "      <td>0</td>\n",
       "      <td>0</td>\n",
       "      <td>0</td>\n",
       "      <td>3180602.69</td>\n",
       "      <td>1</td>\n",
       "      <td>0.999812</td>\n",
       "      <td>13380276.64</td>\n",
       "      <td>NaN</td>\n",
       "      <td>NaN</td>\n",
       "      <td>0.999812</td>\n",
       "      <td>60651.50</td>\n",
       "      <td>1.000026</td>\n",
       "      <td>8493.03</td>\n",
       "      <td>1.000000</td>\n",
       "      <td>-3.029704</td>\n",
       "      <td>0</td>\n",
       "      <td>0_0_0</td>\n",
       "    </tr>\n",
       "    <tr>\n",
       "      <th>191</th>\n",
       "      <td>0</td>\n",
       "      <td>0</td>\n",
       "      <td>10</td>\n",
       "      <td>1299772.70</td>\n",
       "      <td>1</td>\n",
       "      <td>1.000026</td>\n",
       "      <td>15261106.63</td>\n",
       "      <td>NaN</td>\n",
       "      <td>NaN</td>\n",
       "      <td>0.999812</td>\n",
       "      <td>13996.50</td>\n",
       "      <td>1.000026</td>\n",
       "      <td>23519.16</td>\n",
       "      <td>0.999892</td>\n",
       "      <td>0.389814</td>\n",
       "      <td>1</td>\n",
       "      <td>0_10_0</td>\n",
       "    </tr>\n",
       "    <tr>\n",
       "      <th>382</th>\n",
       "      <td>0</td>\n",
       "      <td>0</td>\n",
       "      <td>20</td>\n",
       "      <td>1299772.70</td>\n",
       "      <td>1</td>\n",
       "      <td>0.999919</td>\n",
       "      <td>15261106.63</td>\n",
       "      <td>NaN</td>\n",
       "      <td>NaN</td>\n",
       "      <td>0.999812</td>\n",
       "      <td>4665.50</td>\n",
       "      <td>0.999919</td>\n",
       "      <td>12131.60</td>\n",
       "      <td>0.999842</td>\n",
       "      <td>4.220009</td>\n",
       "      <td>2</td>\n",
       "      <td>0_20_0</td>\n",
       "    </tr>\n",
       "    <tr>\n",
       "      <th>573</th>\n",
       "      <td>0</td>\n",
       "      <td>0</td>\n",
       "      <td>30</td>\n",
       "      <td>1299772.70</td>\n",
       "      <td>1</td>\n",
       "      <td>1.000133</td>\n",
       "      <td>15261106.63</td>\n",
       "      <td>NaN</td>\n",
       "      <td>NaN</td>\n",
       "      <td>1.000026</td>\n",
       "      <td>55998.00</td>\n",
       "      <td>1.000133</td>\n",
       "      <td>46203.30</td>\n",
       "      <td>1.000085</td>\n",
       "      <td>5.450249</td>\n",
       "      <td>3</td>\n",
       "      <td>0_30_0</td>\n",
       "    </tr>\n",
       "    <tr>\n",
       "      <th>764</th>\n",
       "      <td>0</td>\n",
       "      <td>0</td>\n",
       "      <td>40</td>\n",
       "      <td>1218204.43</td>\n",
       "      <td>1</td>\n",
       "      <td>1.000455</td>\n",
       "      <td>15342674.90</td>\n",
       "      <td>NaN</td>\n",
       "      <td>NaN</td>\n",
       "      <td>1.000241</td>\n",
       "      <td>14655.95</td>\n",
       "      <td>1.000455</td>\n",
       "      <td>26610.45</td>\n",
       "      <td>1.000317</td>\n",
       "      <td>3.169775</td>\n",
       "      <td>4</td>\n",
       "      <td>0_40_0</td>\n",
       "    </tr>\n",
       "    <tr>\n",
       "      <th>...</th>\n",
       "      <td>...</td>\n",
       "      <td>...</td>\n",
       "      <td>...</td>\n",
       "      <td>...</td>\n",
       "      <td>...</td>\n",
       "      <td>...</td>\n",
       "      <td>...</td>\n",
       "      <td>...</td>\n",
       "      <td>...</td>\n",
       "      <td>...</td>\n",
       "      <td>...</td>\n",
       "      <td>...</td>\n",
       "      <td>...</td>\n",
       "      <td>...</td>\n",
       "      <td>...</td>\n",
       "      <td>...</td>\n",
       "      <td>...</td>\n",
       "    </tr>\n",
       "    <tr>\n",
       "      <th>51620</th>\n",
       "      <td>0</td>\n",
       "      <td>4</td>\n",
       "      <td>500</td>\n",
       "      <td>4810061.00</td>\n",
       "      <td>-1</td>\n",
       "      <td>1.000232</td>\n",
       "      <td>29092018.29</td>\n",
       "      <td>0.996317</td>\n",
       "      <td>0.996935</td>\n",
       "      <td>1.000129</td>\n",
       "      <td>11647.20</td>\n",
       "      <td>1.000232</td>\n",
       "      <td>5338.85</td>\n",
       "      <td>1.000200</td>\n",
       "      <td>-4.889965</td>\n",
       "      <td>270</td>\n",
       "      <td>4_500_0</td>\n",
       "    </tr>\n",
       "    <tr>\n",
       "      <th>51812</th>\n",
       "      <td>0</td>\n",
       "      <td>4</td>\n",
       "      <td>510</td>\n",
       "      <td>2403283.64</td>\n",
       "      <td>-1</td>\n",
       "      <td>1.000129</td>\n",
       "      <td>29092018.29</td>\n",
       "      <td>0.996317</td>\n",
       "      <td>0.996832</td>\n",
       "      <td>1.000129</td>\n",
       "      <td>60177.20</td>\n",
       "      <td>1.000335</td>\n",
       "      <td>143095.92</td>\n",
       "      <td>1.000190</td>\n",
       "      <td>-4.959702</td>\n",
       "      <td>271</td>\n",
       "      <td>4_510_0</td>\n",
       "    </tr>\n",
       "    <tr>\n",
       "      <th>52004</th>\n",
       "      <td>0</td>\n",
       "      <td>4</td>\n",
       "      <td>520</td>\n",
       "      <td>2361456.18</td>\n",
       "      <td>-1</td>\n",
       "      <td>1.000129</td>\n",
       "      <td>29133845.76</td>\n",
       "      <td>0.996317</td>\n",
       "      <td>0.996935</td>\n",
       "      <td>1.000129</td>\n",
       "      <td>71533.22</td>\n",
       "      <td>1.000232</td>\n",
       "      <td>76879.44</td>\n",
       "      <td>1.000179</td>\n",
       "      <td>-5.750060</td>\n",
       "      <td>272</td>\n",
       "      <td>4_520_0</td>\n",
       "    </tr>\n",
       "    <tr>\n",
       "      <th>52196</th>\n",
       "      <td>0</td>\n",
       "      <td>4</td>\n",
       "      <td>530</td>\n",
       "      <td>2351751.43</td>\n",
       "      <td>-1</td>\n",
       "      <td>1.000129</td>\n",
       "      <td>29143550.50</td>\n",
       "      <td>0.996317</td>\n",
       "      <td>0.996832</td>\n",
       "      <td>1.000129</td>\n",
       "      <td>108318.96</td>\n",
       "      <td>1.000232</td>\n",
       "      <td>225493.61</td>\n",
       "      <td>1.000163</td>\n",
       "      <td>-6.920099</td>\n",
       "      <td>273</td>\n",
       "      <td>4_530_0</td>\n",
       "    </tr>\n",
       "    <tr>\n",
       "      <th>52388</th>\n",
       "      <td>0</td>\n",
       "      <td>4</td>\n",
       "      <td>540</td>\n",
       "      <td>2351751.43</td>\n",
       "      <td>-1</td>\n",
       "      <td>1.000129</td>\n",
       "      <td>29143550.50</td>\n",
       "      <td>0.996317</td>\n",
       "      <td>0.996935</td>\n",
       "      <td>1.000129</td>\n",
       "      <td>141901.72</td>\n",
       "      <td>1.000232</td>\n",
       "      <td>373331.22</td>\n",
       "      <td>1.000157</td>\n",
       "      <td>-12.429953</td>\n",
       "      <td>274</td>\n",
       "      <td>4_540_0</td>\n",
       "    </tr>\n",
       "  </tbody>\n",
       "</table>\n",
       "<p>275 rows × 17 columns</p>\n",
       "</div>"
      ],
      "text/plain": [
       "       stock_id  date_id  seconds_in_bucket  imbalance_size  \\\n",
       "0             0        0                  0      3180602.69   \n",
       "191           0        0                 10      1299772.70   \n",
       "382           0        0                 20      1299772.70   \n",
       "573           0        0                 30      1299772.70   \n",
       "764           0        0                 40      1218204.43   \n",
       "...         ...      ...                ...             ...   \n",
       "51620         0        4                500      4810061.00   \n",
       "51812         0        4                510      2403283.64   \n",
       "52004         0        4                520      2361456.18   \n",
       "52196         0        4                530      2351751.43   \n",
       "52388         0        4                540      2351751.43   \n",
       "\n",
       "       imbalance_buy_sell_flag  reference_price  matched_size  far_price  \\\n",
       "0                            1         0.999812   13380276.64        NaN   \n",
       "191                          1         1.000026   15261106.63        NaN   \n",
       "382                          1         0.999919   15261106.63        NaN   \n",
       "573                          1         1.000133   15261106.63        NaN   \n",
       "764                          1         1.000455   15342674.90        NaN   \n",
       "...                        ...              ...           ...        ...   \n",
       "51620                       -1         1.000232   29092018.29   0.996317   \n",
       "51812                       -1         1.000129   29092018.29   0.996317   \n",
       "52004                       -1         1.000129   29133845.76   0.996317   \n",
       "52196                       -1         1.000129   29143550.50   0.996317   \n",
       "52388                       -1         1.000129   29143550.50   0.996317   \n",
       "\n",
       "       near_price  bid_price   bid_size  ask_price   ask_size       wap  \\\n",
       "0             NaN   0.999812   60651.50   1.000026    8493.03  1.000000   \n",
       "191           NaN   0.999812   13996.50   1.000026   23519.16  0.999892   \n",
       "382           NaN   0.999812    4665.50   0.999919   12131.60  0.999842   \n",
       "573           NaN   1.000026   55998.00   1.000133   46203.30  1.000085   \n",
       "764           NaN   1.000241   14655.95   1.000455   26610.45  1.000317   \n",
       "...           ...        ...        ...        ...        ...       ...   \n",
       "51620    0.996935   1.000129   11647.20   1.000232    5338.85  1.000200   \n",
       "51812    0.996832   1.000129   60177.20   1.000335  143095.92  1.000190   \n",
       "52004    0.996935   1.000129   71533.22   1.000232   76879.44  1.000179   \n",
       "52196    0.996832   1.000129  108318.96   1.000232  225493.61  1.000163   \n",
       "52388    0.996935   1.000129  141901.72   1.000232  373331.22  1.000157   \n",
       "\n",
       "          target  time_id   row_id  \n",
       "0      -3.029704        0    0_0_0  \n",
       "191     0.389814        1   0_10_0  \n",
       "382     4.220009        2   0_20_0  \n",
       "573     5.450249        3   0_30_0  \n",
       "764     3.169775        4   0_40_0  \n",
       "...          ...      ...      ...  \n",
       "51620  -4.889965      270  4_500_0  \n",
       "51812  -4.959702      271  4_510_0  \n",
       "52004  -5.750060      272  4_520_0  \n",
       "52196  -6.920099      273  4_530_0  \n",
       "52388 -12.429953      274  4_540_0  \n",
       "\n",
       "[275 rows x 17 columns]"
      ]
     },
     "execution_count": 6,
     "metadata": {},
     "output_type": "execute_result"
    }
   ],
   "source": [
    "# define the df of stock00: \n",
    "\n",
    "stock00 = train.query('stock_id ==0 & date_id <5')\n",
    "stock00"
   ]
  },
  {
   "cell_type": "code",
   "execution_count": 7,
   "id": "9fdb40bc6f29f577",
   "metadata": {
    "ExecuteTime": {
     "end_time": "2023-12-10T18:01:53.112742Z",
     "start_time": "2023-12-10T18:01:52.886529Z"
    },
    "collapsed": false,
    "jupyter": {
     "outputs_hidden": false
    }
   },
   "outputs": [
    {
     "ename": "NameError",
     "evalue": "name 'go' is not defined",
     "output_type": "error",
     "traceback": [
      "\u001b[1;31m---------------------------------------------------------------------------\u001b[0m",
      "\u001b[1;31mNameError\u001b[0m                                 Traceback (most recent call last)",
      "Cell \u001b[1;32mIn[7], line 2\u001b[0m\n\u001b[0;32m      1\u001b[0m \u001b[38;5;66;03m# PLot the Prices changes of stock 0 at date 0 \u001b[39;00m\n\u001b[1;32m----> 2\u001b[0m fig \u001b[38;5;241m=\u001b[39m \u001b[43mgo\u001b[49m\u001b[38;5;241m.\u001b[39mFigure()\n\u001b[0;32m      4\u001b[0m fig\u001b[38;5;241m.\u001b[39madd_trace(\n\u001b[0;32m      5\u001b[0m     go\u001b[38;5;241m.\u001b[39mScatter(x \u001b[38;5;241m=\u001b[39m stock00[\u001b[38;5;124m'\u001b[39m\u001b[38;5;124mtime_id\u001b[39m\u001b[38;5;124m'\u001b[39m], \n\u001b[0;32m      6\u001b[0m             y \u001b[38;5;241m=\u001b[39m stock00[\u001b[38;5;124m'\u001b[39m\u001b[38;5;124mask_price\u001b[39m\u001b[38;5;124m'\u001b[39m], \n\u001b[0;32m      7\u001b[0m             name \u001b[38;5;241m=\u001b[39m \u001b[38;5;124m'\u001b[39m\u001b[38;5;124mask price\u001b[39m\u001b[38;5;124m'\u001b[39m,\n\u001b[0;32m      8\u001b[0m             line \u001b[38;5;241m=\u001b[39m \u001b[38;5;28mdict\u001b[39m(color \u001b[38;5;241m=\u001b[39m \u001b[38;5;124m'\u001b[39m\u001b[38;5;124mred\u001b[39m\u001b[38;5;124m'\u001b[39m)))\n\u001b[0;32m     10\u001b[0m fig\u001b[38;5;241m.\u001b[39madd_trace(\n\u001b[0;32m     11\u001b[0m     go\u001b[38;5;241m.\u001b[39mScatter(x \u001b[38;5;241m=\u001b[39m stock00[\u001b[38;5;124m'\u001b[39m\u001b[38;5;124mtime_id\u001b[39m\u001b[38;5;124m'\u001b[39m], \n\u001b[0;32m     12\u001b[0m             y \u001b[38;5;241m=\u001b[39m stock00[\u001b[38;5;124m'\u001b[39m\u001b[38;5;124mbid_price\u001b[39m\u001b[38;5;124m'\u001b[39m], \n\u001b[0;32m     13\u001b[0m             name \u001b[38;5;241m=\u001b[39m \u001b[38;5;124m'\u001b[39m\u001b[38;5;124mbid price\u001b[39m\u001b[38;5;124m'\u001b[39m,\n\u001b[0;32m     14\u001b[0m             line \u001b[38;5;241m=\u001b[39m \u001b[38;5;28mdict\u001b[39m(color \u001b[38;5;241m=\u001b[39m \u001b[38;5;124m'\u001b[39m\u001b[38;5;124mgreen\u001b[39m\u001b[38;5;124m'\u001b[39m)))\n",
      "\u001b[1;31mNameError\u001b[0m: name 'go' is not defined"
     ]
    }
   ],
   "source": [
    "# PLot the Prices changes of stock 0 at date 0 \n",
    "fig = go.Figure()\n",
    "\n",
    "fig.add_trace(\n",
    "    go.Scatter(x = stock00['time_id'], \n",
    "            y = stock00['ask_price'], \n",
    "            name = 'ask price',\n",
    "            line = dict(color = 'red')))\n",
    "\n",
    "fig.add_trace(\n",
    "    go.Scatter(x = stock00['time_id'], \n",
    "            y = stock00['bid_price'], \n",
    "            name = 'bid price',\n",
    "            line = dict(color = 'green')))\n",
    "\n",
    "fig.add_trace(\n",
    "    go.Scatter(x = stock00['time_id'], \n",
    "            y = stock00['wap'], \n",
    "            name = 'WAP',\n",
    "            line = dict(color = 'orange')))\n",
    "\n",
    "fig.update_layout(title = \"Overview for Ask/Bid Price and WAP\") "
   ]
  },
  {
   "cell_type": "code",
   "execution_count": null,
   "id": "39ddd103360be725",
   "metadata": {
    "ExecuteTime": {
     "end_time": "2023-12-10T18:02:01.399884Z",
     "start_time": "2023-12-10T18:02:01.297692Z"
    },
    "collapsed": false,
    "jupyter": {
     "outputs_hidden": false
    }
   },
   "outputs": [],
   "source": [
    "# Examine the volume changes \n",
    "# PLot the Prices changes of stock 0 at date 0 \n",
    "fig = go.Figure()\n",
    "\n",
    "fig.add_trace(\n",
    "    go.Scatter(x = stock00['time_id'], \n",
    "            y = stock00['ask_size'],  \n",
    "            name = 'ask size',\n",
    "            line = dict(color = 'red')))\n",
    "\n",
    "fig.add_trace(\n",
    "    go.Scatter(x = stock00['time_id'], \n",
    "            y = stock00['bid_size'], \n",
    "            name = 'bid size',\n",
    "            line = dict(color = 'green')))\n",
    "\n",
    "fig.update_layout(title = \"Overview for Normalized Ask/Bid Sizes Comparison for 5 days (WHy large ask Size)\")"
   ]
  },
  {
   "cell_type": "code",
   "execution_count": 31,
   "id": "cc02d65a4339629f",
   "metadata": {
    "ExecuteTime": {
     "end_time": "2023-12-10T18:02:18.266322Z",
     "start_time": "2023-12-10T18:02:18.219975Z"
    },
    "collapsed": false,
    "jupyter": {
     "outputs_hidden": false
    }
   },
   "outputs": [
    {
     "data": {
      "application/vnd.plotly.v1+json": {
       "config": {
        "plotlyServerURL": "https://plot.ly"
       },
       "data": [
        {
         "line": {
          "color": "red"
         },
         "name": "ask size",
         "type": "scatter",
         "x": [
          0,
          1,
          2,
          3,
          4,
          5,
          6,
          7,
          8,
          9,
          10,
          11,
          12,
          13,
          14,
          15,
          16,
          17,
          18,
          19,
          20,
          21,
          22,
          23,
          24,
          25,
          26,
          27,
          28,
          29,
          30,
          31,
          32,
          33,
          34,
          35,
          36,
          37,
          38,
          39,
          40,
          41,
          42,
          43,
          44,
          45,
          46,
          47,
          48,
          49,
          50,
          51,
          52,
          53,
          54,
          55,
          56,
          57,
          58,
          59,
          60,
          61,
          62,
          63,
          64,
          65,
          66,
          67,
          68,
          69,
          70,
          71,
          72,
          73,
          74,
          75,
          76,
          77,
          78,
          79,
          80,
          81,
          82,
          83,
          84,
          85,
          86,
          87,
          88,
          89,
          90,
          91,
          92,
          93,
          94,
          95,
          96,
          97,
          98,
          99,
          100,
          101,
          102,
          103,
          104,
          105,
          106,
          107,
          108,
          109,
          110,
          111,
          112,
          113,
          114,
          115,
          116,
          117,
          118,
          119,
          120,
          121,
          122,
          123,
          124,
          125,
          126,
          127,
          128,
          129,
          130,
          131,
          132,
          133,
          134,
          135,
          136,
          137,
          138,
          139,
          140,
          141,
          142,
          143,
          144,
          145,
          146,
          147,
          148,
          149,
          150,
          151,
          152,
          153,
          154,
          155,
          156,
          157,
          158,
          159,
          160,
          161,
          162,
          163,
          164,
          165,
          166,
          167,
          168,
          169,
          170,
          171,
          172,
          173,
          174,
          175,
          176,
          177,
          178,
          179,
          180,
          181,
          182,
          183,
          184,
          185,
          186,
          187,
          188,
          189,
          190,
          191,
          192,
          193,
          194,
          195,
          196,
          197,
          198,
          199,
          200,
          201,
          202,
          203,
          204,
          205,
          206,
          207,
          208,
          209,
          210,
          211,
          212,
          213,
          214,
          215,
          216,
          217,
          218,
          219,
          220,
          221,
          222,
          223,
          224,
          225,
          226,
          227,
          228,
          229,
          230,
          231,
          232,
          233,
          234,
          235,
          236,
          237,
          238,
          239,
          240,
          241,
          242,
          243,
          244,
          245,
          246,
          247,
          248,
          249,
          250,
          251,
          252,
          253,
          254,
          255,
          256,
          257,
          258,
          259,
          260,
          261,
          262,
          263,
          264,
          265,
          266,
          267,
          268,
          269,
          270,
          271,
          272,
          273,
          274
         ],
         "y": [
          0.008253034544758722,
          0.023182537517031514,
          0.01186820635744919,
          0.045720804892160856,
          0.02625394866834973,
          0.009648194760904576,
          0.009834806965660711,
          0.017069760753058834,
          0.06140042295454513,
          0.03998814790933822,
          0.04211301530011429,
          0.02800750923855603,
          0.06760012710534623,
          0.013724094640187883,
          0.02484899185791735,
          0.015482603186007457,
          0,
          0.02780702680497232,
          0.009084622325691214,
          0.0208597809088064,
          0.05912355931691785,
          0.07413613462674606,
          0.08377383729478394,
          0.009080648048090188,
          0.0368946298388643,
          0.050788704332048025,
          0.013529812079661769,
          0.04133087746823255,
          0.023646186677661107,
          0.009372956165645586,
          0.015860318529208883,
          0.01835859910768327,
          0.03718073808336209,
          0.013999243814200852,
          0.0395701433269564,
          0.03706005914400697,
          0.0961606471363909,
          0.022055472132156806,
          0.002594428289337186,
          0.0496658516814304,
          0.041233765995051505,
          0.009263941731049465,
          0.06447069150105304,
          0.03399526516489446,
          0.08745244851368077,
          0.0347475462362985,
          0.06348588538290703,
          0.018441333631642607,
          0.018350650552481217,
          0.03299055785166132,
          0.08118779473118491,
          0.009083628756290959,
          0.07776698496457259,
          0.03475503774957643,
          0.009544992707299959,
          0.022952367229768147,
          0.022917592300759175,
          0.051890095883620105,
          0.041346317536712536,
          0.0044312400395909585,
          0.01763477386390257,
          0.0037840587393460296,
          0.0051710518150217795,
          0.01514344827122998,
          0.009784373382903703,
          0.012092186707348962,
          0.01791566586904902,
          0.015324794558164753,
          0.01975627305441177,
          0.014493892340118438,
          0.004247529057483573,
          0.009141196167341806,
          0.009048853827281989,
          0.013482756632865633,
          0.022720448260360328,
          0.009513695271191886,
          0.00424705214417145,
          0.050499655122125474,
          0.004247529057483573,
          0.0042484828841078195,
          0.013488638563715152,
          0.0172785891696047,
          0.032617313570761045,
          0.004250390537356311,
          0.00425182127729268,
          0.006284147614128882,
          0.01533981732749663,
          0.03427684273292709,
          0.029469268411601066,
          0.04406563749966193,
          0.07398945397618624,
          0.08941560254887113,
          0.010901662044879886,
          0.006375158571192357,
          0.01829103638846584,
          0.004988016460106569,
          0.11803825047451383,
          0.01311477826978672,
          0.03205249917379736,
          0.04582089707354267,
          0.027809401435838932,
          0.03261378639939013,
          0.004803252294434912,
          0.013308206360628612,
          0.04131201952101569,
          0.013211462508125656,
          0.027535206088450205,
          0.022637902514587034,
          0.08900168153672437,
          0.08486098106115636,
          0.022897104899725892,
          0.019226899277955227,
          0.0032934242338054794,
          0.00896837470586123,
          0.01830319767792498,
          0.013726817020344584,
          0.03146942297125697,
          0.03157814927072701,
          0.03313790419371932,
          0.03644156219234744,
          0.0072307708602230465,
          0.017853388939040957,
          0.055298416482871225,
          0.09291841159808663,
          0.05007418883354773,
          0.036429639359544366,
          0.02306768089436189,
          0.032222429348323194,
          0.033229451678258935,
          0.05473714912866646,
          0.04573155531307163,
          0.0509452312553644,
          0.036389896583534115,
          0.07753708294104729,
          0.029169468780767736,
          0.05011655463277466,
          0.04810447724031568,
          0.026880324625353294,
          0.004388019770679811,
          0.03870118740088027,
          0.010791971983091593,
          0.02542287754350537,
          0.05668917518657395,
          0.09581428884346156,
          0.018100271063616637,
          0.013536310023539446,
          0.01975680958188791,
          0.018207675915784337,
          0.031933837180324755,
          0.11880156016626071,
          0.14604017585304044,
          0.06264630930399648,
          0.06282237973741589,
          0.008957445442458412,
          0.012343013302443657,
          0.018195693468817248,
          0.018746438923073303,
          0.03658076126532334,
          0.06493276088633623,
          0.03008395005676361,
          0.05560403843039005,
          0.0029248696004744172,
          0.03732872030983627,
          0.046473433712854985,
          0.01829115561679387,
          0.03335009087483805,
          0.0459795899781516,
          0.05861361975793032,
          0.037444719537316186,
          0.009065933285272394,
          0.008971355414061999,
          0.04111149734465597,
          0.009062922769989617,
          0.008972348983462256,
          0.0028360146890094987,
          0.0020119979069069586,
          0.03378979501292147,
          0.02911935314021881,
          0.07427503562890189,
          0.008972348983462256,
          0.02261736543508374,
          0.01904376456609999,
          0.08488992373778581,
          0.03680783161605791,
          0.058515663750759055,
          0.058515663750759055,
          0.058515663750759055,
          0.039999603764523176,
          0.020591388006715176,
          0.026726659181909657,
          0.03643361363714539,
          0.02306263356180859,
          0.028175859637735452,
          0.028172779572594658,
          8.878536160690056e-05,
          0.002651051809457791,
          0.03940305476091531,
          0.02011830987247715,
          0.024330706315967662,
          8.911323950898511e-05,
          0.018018728822937605,
          0.05569549649368365,
          0.03027346348416849,
          0.06676192215220804,
          0.030805430476759703,
          0.03456113274542242,
          0.003106037044917146,
          0.027240115976574095,
          0.03547163974381727,
          0.03583343810522659,
          0.05714013646596226,
          0.11955960394018623,
          0.2369935953125462,
          0.1457462084745866,
          0.08209110828712192,
          0.12546434714313326,
          0.40954674337658314,
          0.4021386402498024,
          1,
          0.15911725809978142,
          0.20256453774749988,
          0.019103776157875473,
          0.009657156756894889,
          0.01090931252926186,
          0.00946416583658911,
          0.022780539337687828,
          0.010333707968611393,
          0.03847639232407229,
          0.015374383606931543,
          0.030164111235976284,
          0.02755444159203917,
          0.10932409043540217,
          0.08757684340259286,
          0.06872922930749147,
          0.0004911312902406784,
          0.009479069377592955,
          0.00948006294699321,
          0.019250148801921226,
          0.0008782557356625301,
          0.010832092315473944,
          0.15438338675656643,
          0.01911768612947906,
          0.010727588685954989,
          0.01961452050807721,
          0.028787103532773112,
          0.002904382199441133,
          0.10602520156989528,
          0.009561664801836258,
          0.033391582332992754,
          0.023646544362645194,
          0.1761538336348717,
          0.00261212376035575,
          0.024301753703644194,
          0.048012671427731995,
          0.04800770358073072,
          0.04563108557531771,
          0.10003211017587747,
          0.04136562259015951,
          0.08204049586187286,
          0.052468591731225325,
          0.001261157511133293,
          0.10146847371505195,
          0.09628027289218176,
          0.04329374336829683,
          0.0431098535436974,
          0.015536901753731463,
          0.05363691011759867,
          0.028748354326163118,
          0.057561837126513034,
          0.09944311229971155,
          0.00511913781385839,
          0.14199034723481987,
          0.07619967891413833,
          0.22385817067062216,
          0.37074509617364293
         ]
        },
        {
         "line": {
          "color": "green"
         },
         "name": "bid size",
         "type": "scatter",
         "x": [
          0,
          1,
          2,
          3,
          4,
          5,
          6,
          7,
          8,
          9,
          10,
          11,
          12,
          13,
          14,
          15,
          16,
          17,
          18,
          19,
          20,
          21,
          22,
          23,
          24,
          25,
          26,
          27,
          28,
          29,
          30,
          31,
          32,
          33,
          34,
          35,
          36,
          37,
          38,
          39,
          40,
          41,
          42,
          43,
          44,
          45,
          46,
          47,
          48,
          49,
          50,
          51,
          52,
          53,
          54,
          55,
          56,
          57,
          58,
          59,
          60,
          61,
          62,
          63,
          64,
          65,
          66,
          67,
          68,
          69,
          70,
          71,
          72,
          73,
          74,
          75,
          76,
          77,
          78,
          79,
          80,
          81,
          82,
          83,
          84,
          85,
          86,
          87,
          88,
          89,
          90,
          91,
          92,
          93,
          94,
          95,
          96,
          97,
          98,
          99,
          100,
          101,
          102,
          103,
          104,
          105,
          106,
          107,
          108,
          109,
          110,
          111,
          112,
          113,
          114,
          115,
          116,
          117,
          118,
          119,
          120,
          121,
          122,
          123,
          124,
          125,
          126,
          127,
          128,
          129,
          130,
          131,
          132,
          133,
          134,
          135,
          136,
          137,
          138,
          139,
          140,
          141,
          142,
          143,
          144,
          145,
          146,
          147,
          148,
          149,
          150,
          151,
          152,
          153,
          154,
          155,
          156,
          157,
          158,
          159,
          160,
          161,
          162,
          163,
          164,
          165,
          166,
          167,
          168,
          169,
          170,
          171,
          172,
          173,
          174,
          175,
          176,
          177,
          178,
          179,
          180,
          181,
          182,
          183,
          184,
          185,
          186,
          187,
          188,
          189,
          190,
          191,
          192,
          193,
          194,
          195,
          196,
          197,
          198,
          199,
          200,
          201,
          202,
          203,
          204,
          205,
          206,
          207,
          208,
          209,
          210,
          211,
          212,
          213,
          214,
          215,
          216,
          217,
          218,
          219,
          220,
          221,
          222,
          223,
          224,
          225,
          226,
          227,
          228,
          229,
          230,
          231,
          232,
          233,
          234,
          235,
          236,
          237,
          238,
          239,
          240,
          241,
          242,
          243,
          244,
          245,
          246,
          247,
          248,
          249,
          250,
          251,
          252,
          253,
          254,
          255,
          256,
          257,
          258,
          259,
          260,
          261,
          262,
          263,
          264,
          265,
          266,
          267,
          268,
          269,
          270,
          271,
          272,
          273,
          274
         ],
         "y": [
          0.1520533196744979,
          0.03491123012375809,
          0.011482812213610126,
          0.1403692405034687,
          0.036566987297785215,
          0.10525297719928592,
          0.03493382746179167,
          0.09493894952507928,
          0.023438913118256893,
          0.05837103322561935,
          0.024378987488607177,
          0.012422660610580073,
          0.10894503071982564,
          0.08176806594405402,
          0.0826963143741667,
          0.1295481285637885,
          0.01756847621128009,
          0.07494158588118319,
          0.046615395817483814,
          0.04662041744815794,
          0.027867639858691316,
          0.07539373350708176,
          0.05198038048895618,
          0.04682944282496855,
          0.09462318938829005,
          0.023184467091998784,
          0.023184467091998784,
          0.023184467091998784,
          0.03490746390075249,
          0.009143987727134633,
          0.04827582310803788,
          0.05693394295929717,
          0.12345739271913768,
          0.07004632454296884,
          0.04682944282496855,
          0.05642284138928435,
          0.11774659345129143,
          0.0016418723652131559,
          0.11753776893970778,
          0.2931379165756496,
          0.2931379165756496,
          0.047521599288937094,
          0.0002367196699784321,
          0.24201884617991998,
          0.07654793020937689,
          0.12620070955641424,
          0.3025681874675163,
          0.18053907205286773,
          0.22013550870374138,
          0.13277070983260394,
          0.1306773175453265,
          0.10820730295748937,
          0.04871300627452753,
          0.17798243433590188,
          0.2807589692600878,
          0.02312420752390924,
          0.020077056922694507,
          0.013765394436535378,
          0.03661095167433721,
          0.01166587575983549,
          0.002334957830856414,
          0.013064123712893288,
          0.014001737484213248,
          0.0879673694438795,
          0.010964831009573739,
          0.03429030549090206,
          0.03430145351099863,
          0.017731151936968493,
          0.0615811106340562,
          0.03849305885100068,
          0.10872202010158757,
          0.02310161018587566,
          0.07163426459474184,
          0.023104121001212723,
          0.034771879872551016,
          0.08121832292600376,
          0.011435106722205901,
          0.06204762012368276,
          0.10826708547066487,
          0.08169389645899713,
          0.11532913022845907,
          0.06162768625855874,
          0.03735495647501613,
          0.02218275220512357,
          0.01097929330591523,
          2.1341930365047655e-06,
          0.12352669122244066,
          0.08381262287302556,
          0.07843468239441394,
          0.09991028856800667,
          0.048783735942572626,
          0.09289735535820547,
          0.09033963799064469,
          0.07308154877133252,
          0.10691320362461303,
          0.15710076153029173,
          0.020539448675168284,
          0.12089297147462695,
          0.1687359300185549,
          0.1059794816170655,
          0.15945224052606602,
          0.11859750876902256,
          0.20285313990011974,
          0.20478671879119306,
          0.03222940315408623,
          0.10015451557584294,
          0.023114164262560983,
          0.22225179962689284,
          1,
          0.7033973089081218,
          0.009951164641694097,
          0.012031299823991844,
          0.06615784993861057,
          0.026367678776329034,
          0.09250835473803408,
          0.057355132232089726,
          0.14099860147585724,
          0.11702310201191632,
          0.08002842242961557,
          0.08491336431679458,
          0.03423923550694617,
          0.06015659955257271,
          0.0800458474880548,
          0.18688731711848788,
          0.009715424189697121,
          0.1387776848776103,
          0.004395031598611016,
          0.22759546747615353,
          0.011333418701054794,
          0.040245457307351414,
          0.04599271361389184,
          0.10399264833269307,
          0.07069177984166798,
          0.030263258988091204,
          0.04690695169442373,
          0.05753618712604544,
          0.026341691837590425,
          0.03534956826530279,
          0.07395024066165005,
          0.06449641832192167,
          0.06518282501876835,
          0.11762727950647413,
          0.045977648721869456,
          0.12151620605759307,
          0.21369323360374812,
          0.07835812763478685,
          0.16180171086957065,
          0.029596110244879823,
          0.23142687124790032,
          0.07741667231600118,
          0.11160664562603413,
          0.08481172651195022,
          0.1629042601003824,
          0.07531218222493391,
          0.1400282968888487,
          0.1492711103076502,
          0.09081031543373079,
          0.048991932750322015,
          0.18880467614248375,
          0.011553190367508041,
          0.16176650923854502,
          0.053625542022260886,
          0.06172236910491943,
          0.19418321921677625,
          0.023571433951747153,
          0.02291329903559583,
          0.021756064246742847,
          0.10413985743590515,
          0.04650060134027322,
          0.18536892665155155,
          0.046037908289959,
          0.16402463612008727,
          0.1631169763757385,
          0.09811221838067474,
          0.0004626428340074873,
          0.0016193754597930586,
          0.20802567057600613,
          0,
          0.22165399960329119,
          0.13860664813684948,
          0.16359749621494588,
          0.12841123137916574,
          0.11544186583709327,
          0.16473657780891188,
          0.0724271800781868,
          0.21126522495650013,
          0.23509908932727724,
          0.046254114598633614,
          0.09227708353733707,
          0.06915749591364805,
          0.20261546612031325,
          0.022888190882225184,
          0.08159416687380894,
          0.05914077388350319,
          0.022860571913517477,
          0.022870615174865733,
          0.13907373511400356,
          0.11531632507024005,
          0.17405243084586858,
          0.14126047951551307,
          0.025425771510782697,
          0.0036972258001340776,
          0.00785694378535542,
          0.13841080454055846,
          0.006467458577823977,
          0.23635891603080267,
          0.04666568744868521,
          0.06906710656151373,
          0.032573460179724165,
          0.16722178282953823,
          0.27583764565867475,
          0.010853953404288975,
          0.2048475809549635,
          0.03578032374452956,
          0.10647669837826436,
          0.19800540829623603,
          0.1839516718263922,
          0.41407771475631283,
          0.2049813571961223,
          0.13263404615380753,
          0.11745132156765266,
          0.0492294558812083,
          0.04487163456589258,
          0.03047793369941021,
          0.07290112158121106,
          0.146033639903886,
          0.13896416313269408,
          0.03588818837140985,
          0.024181260780813355,
          0.12575087188062578,
          0.02491364050648167,
          0.015148577497570787,
          0.07302164071739016,
          0.025892833379783417,
          0.050308001717397695,
          0.04860396156443882,
          0.001966420355682101,
          0.04862404808713534,
          0.024198836488172806,
          0.08839566432407596,
          0.002207358195426801,
          0.024148620181431518,
          0.044420792563969295,
          0.024410171815093515,
          0.048558766888371664,
          0.12171890417975428,
          0.12171890417975428,
          0.02658109807997951,
          0.02682484803290172,
          0.024138576920083258,
          0.024136066104746196,
          0.024138576920083258,
          1.2152346231391728e-05,
          0.024123512028060873,
          0.09717819507528679,
          0.08944086653258912,
          0.024138576920083258,
          0.024126022843397935,
          0.053349402551490545,
          0.04850352895095624,
          0.09723845464337634,
          0.1023661923736495,
          0.28324979850706916,
          0.0971982815979833,
          0.09551299723559231,
          0.024141087735420324,
          0.11430747946780756,
          0.0258417885039809,
          0.29205763827687764,
          0.19472839255091304,
          0.029012571652392682,
          0.15086243996012824,
          0.17937530914413838,
          0.27173750932140195,
          0.356057618190355
         ]
        },
        {
         "line": {
          "color": "orange"
         },
         "name": "WAP",
         "type": "scatter",
         "x": [
          0,
          1,
          2,
          3,
          4,
          5,
          6,
          7,
          8,
          9,
          10,
          11,
          12,
          13,
          14,
          15,
          16,
          17,
          18,
          19,
          20,
          21,
          22,
          23,
          24,
          25,
          26,
          27,
          28,
          29,
          30,
          31,
          32,
          33,
          34,
          35,
          36,
          37,
          38,
          39,
          40,
          41,
          42,
          43,
          44,
          45,
          46,
          47,
          48,
          49,
          50,
          51,
          52,
          53,
          54,
          55,
          56,
          57,
          58,
          59,
          60,
          61,
          62,
          63,
          64,
          65,
          66,
          67,
          68,
          69,
          70,
          71,
          72,
          73,
          74,
          75,
          76,
          77,
          78,
          79,
          80,
          81,
          82,
          83,
          84,
          85,
          86,
          87,
          88,
          89,
          90,
          91,
          92,
          93,
          94,
          95,
          96,
          97,
          98,
          99,
          100,
          101,
          102,
          103,
          104,
          105,
          106,
          107,
          108,
          109,
          110,
          111,
          112,
          113,
          114,
          115,
          116,
          117,
          118,
          119,
          120,
          121,
          122,
          123,
          124,
          125,
          126,
          127,
          128,
          129,
          130,
          131,
          132,
          133,
          134,
          135,
          136,
          137,
          138,
          139,
          140,
          141,
          142,
          143,
          144,
          145,
          146,
          147,
          148,
          149,
          150,
          151,
          152,
          153,
          154,
          155,
          156,
          157,
          158,
          159,
          160,
          161,
          162,
          163,
          164,
          165,
          166,
          167,
          168,
          169,
          170,
          171,
          172,
          173,
          174,
          175,
          176,
          177,
          178,
          179,
          180,
          181,
          182,
          183,
          184,
          185,
          186,
          187,
          188,
          189,
          190,
          191,
          192,
          193,
          194,
          195,
          196,
          197,
          198,
          199,
          200,
          201,
          202,
          203,
          204,
          205,
          206,
          207,
          208,
          209,
          210,
          211,
          212,
          213,
          214,
          215,
          216,
          217,
          218,
          219,
          220,
          221,
          222,
          223,
          224,
          225,
          226,
          227,
          228,
          229,
          230,
          231,
          232,
          233,
          234,
          235,
          236,
          237,
          238,
          239,
          240,
          241,
          242,
          243,
          244,
          245,
          246,
          247,
          248,
          249,
          250,
          251,
          252,
          253,
          254,
          255,
          256,
          257,
          258,
          259,
          260,
          261,
          262,
          263,
          264,
          265,
          266,
          267,
          268,
          269,
          270,
          271,
          272,
          273,
          274
         ],
         "y": [
          0.4890029325513189,
          0.4692082111436948,
          0.4600439882697956,
          0.5045821114369293,
          0.5471041055718283,
          0.5685483870967815,
          0.5837609970674661,
          0.56616568914956,
          0.5161290322580704,
          0.567082111436956,
          0.5368401759530905,
          0.49670087976541294,
          0.46975806451612434,
          0.4820381231671579,
          0.45711143695014456,
          0.4499633431085003,
          0.4147727272727288,
          0.396260997067447,
          0.42833577712610454,
          0.44409824046919827,
          0.3594208211143667,
          0.34805718475072916,
          0.3443914956011654,
          0.3498900293255212,
          0.41532258064515826,
          0.3623533724340177,
          0.3641862170087894,
          0.35997067448679615,
          0.4565615835777151,
          0.5604838709677209,
          0.5152126099706744,
          0.46535923753664776,
          0.45711143695014456,
          0.4479472140762453,
          0.34915689149560847,
          0.3244134897360784,
          0.30388563049854167,
          0.35703812316714517,
          0.35520527859237344,
          0.3504398826979507,
          0.3511730205278635,
          0.3104838709677361,
          0.27785923753664904,
          0.29233870967742087,
          0.3024193548387162,
          0.34824046920821244,
          0.38874633431085653,
          0.3718841642228835,
          0.39222873900293703,
          0.3684017595307827,
          0.3836143695014672,
          0.41184017595307776,
          0.3837976539589505,
          0.3891129032258027,
          0.374450146627568,
          0.4890029325513189,
          0.33779325513197095,
          0.20289589442814623,
          0.13068181818181113,
          0.21902492668622683,
          0.2199413489736025,
          0.19079912023459594,
          0.2587976539589378,
          0.25219941348974334,
          0.18548387096774374,
          0.18988269794722026,
          0.25549853372434056,
          0.20546187683285103,
          0.20124633431085778,
          0.20931085043987774,
          0.27254398826979687,
          0.2483504398826963,
          0.2534824046920856,
          0.2663123167155486,
          0.27309384164222633,
          0.3082844574779978,
          0.24871700879766284,
          0.19244868035190474,
          0.27437683284456854,
          0.3150659824046959,
          0.3522727272727224,
          0.3519061583577762,
          0.3493401759530714,
          0.38306451612903775,
          0.4354838709677488,
          0.3964442815249303,
          0.39149560117302423,
          0.34677419354838696,
          0.3275293255131924,
          0.32661290322579634,
          0.3016862170088034,
          0.30333577712609183,
          0.3475073313782997,
          0.3728005865102592,
          0.3310117302052729,
          0.3355938416422327,
          0.2793255131964746,
          0.29343841642227986,
          0.3046187683284544,
          0.3267961876832796,
          0.35062316715543396,
          0.34860703812315863,
          0.3359604105571789,
          0.410190615835769,
          0.4008431085044068,
          0.35172287390029294,
          0.34695747800587023,
          0.3684017595307827,
          0.40505865102640004,
          0.4413489736070305,
          0.4890029325513189,
          0.4472140762463325,
          0.42118768328446027,
          0.394244868035192,
          0.37701612903225246,
          0.37609970674487675,
          0.2897727272727364,
          0.38746334310849395,
          0.4030425219941247,
          0.4528958944281513,
          0.4364002932551245,
          0.45472873900292304,
          0.43071847507330574,
          0.401209677419353,
          0.40505865102640004,
          0.39552785923753425,
          0.40505865102640004,
          0.4129398826979367,
          0.38837976539589,
          0.3881964809384067,
          0.250183284457468,
          0.24230205278593134,
          0.18218475073314652,
          0.17027126099705917,
          0.21242668621701202,
          0.21719208211143476,
          0.21187683284458256,
          0.19153225806450871,
          0.25898093841642106,
          0.3000366568914946,
          0.2784090909090989,
          0.23735337243402532,
          0.18969941348973698,
          0.17155425219942175,
          0.1812683284457505,
          0.2782258064516156,
          0.27950879765395786,
          0.33174486803518566,
          0.3335777126099777,
          0.22873900293255556,
          0.20931085043987774,
          0.2314882697947233,
          0.21480938416421322,
          0.1801686217008712,
          0.22085777126099854,
          0.2199413489736025,
          0.23075513196481054,
          0.2314882697947233,
          0.23515395894428706,
          0.20729472140762276,
          0.23515395894428706,
          0.2817082111436961,
          0.3000366568914946,
          0.2965542521994141,
          0.2380865102639381,
          0.4890029325513189,
          0.4750733137829969,
          0.46022727272727887,
          0.39901026392961475,
          0.48735337243401006,
          0.41898826979472203,
          0.41678885630498375,
          0.4296187683284468,
          0.4483137829911915,
          0.3940615835777087,
          0.3973607038123263,
          0.4462976539589365,
          0.4321847507331313,
          0.4446480938416481,
          0.44923020527858754,
          0.44684750733138634,
          0.4266862170087958,
          0.41330645161290325,
          0.425036656891487,
          0.43878299120234604,
          0.4439149560117353,
          0.44428152492668155,
          0.3453079178885614,
          0.3454912023460447,
          0.3627199413489639,
          0.3799486803519035,
          0.2956378299120181,
          0.25458211143694454,
          0.18804985337242822,
          0.07368035190616061,
          0.2553152492668573,
          0.14552785923752914,
          0.20729472140762276,
          0.2479838709677501,
          0.29288856304985034,
          0.2404692082111393,
          0.1940982404692135,
          0.19739736070381073,
          0.19171554252199197,
          0.11565249266863019,
          0.16825513196480418,
          0.1508431085044017,
          0.12408357771261669,
          0.13929618768328092,
          0.11986803519062343,
          0.14699413489735466,
          0.07569648093841559,
          0.07936217008797937,
          0,
          0.10758797653958989,
          0.1691715542522002,
          0.19666422287389798,
          0.18530058651026046,
          0.1950146627565892,
          0.17870234604106602,
          0.4890029325513189,
          0.5034824046920703,
          0.612536656891506,
          0.5612170087976539,
          0.6118035190615729,
          0.6099706744868216,
          0.6326979472140559,
          0.8178152492668739,
          0.8627199413489537,
          0.8995601173020544,
          0.8586876832844438,
          0.8387096774193568,
          0.8856304985337324,
          0.8625366568914908,
          0.9074413489736114,
          0.8966275659824033,
          0.8935117302052894,
          0.97525659824047,
          1,
          0.8957111436950074,
          0.645344574780056,
          0.6134530791789021,
          0.7626466275659747,
          0.7454178885630351,
          0.7316715542522167,
          0.7347873900293307,
          0.6873167155425256,
          0.599706744868043,
          0.564149560117305,
          0.5399560117302045,
          0.4976173020527683,
          0.5566348973607145,
          0.3995601173020442,
          0.4056085043988295,
          0.397177419354843,
          0.518511730205292,
          0.5159457478005668,
          0.42540322580645357,
          0.40707478005865505,
          0.49890029325513086,
          0.5119134897360568,
          0.5179618768328624,
          0.5606671554252245,
          0.4360337243401783,
          0.47360703812317134,
          0.5386730205278418,
          0.5298753665689295,
          0.503665689149574,
          0.4433651026392855,
          0.5208944281524728,
          0.5256598240469159,
          0.5238269794721239,
          0.5218108504398689,
          0.5188782991202178,
          0.5177785923753588
         ]
        }
       ],
       "layout": {
        "template": {
         "data": {
          "bar": [
           {
            "error_x": {
             "color": "#2a3f5f"
            },
            "error_y": {
             "color": "#2a3f5f"
            },
            "marker": {
             "line": {
              "color": "#E5ECF6",
              "width": 0.5
             },
             "pattern": {
              "fillmode": "overlay",
              "size": 10,
              "solidity": 0.2
             }
            },
            "type": "bar"
           }
          ],
          "barpolar": [
           {
            "marker": {
             "line": {
              "color": "#E5ECF6",
              "width": 0.5
             },
             "pattern": {
              "fillmode": "overlay",
              "size": 10,
              "solidity": 0.2
             }
            },
            "type": "barpolar"
           }
          ],
          "carpet": [
           {
            "aaxis": {
             "endlinecolor": "#2a3f5f",
             "gridcolor": "white",
             "linecolor": "white",
             "minorgridcolor": "white",
             "startlinecolor": "#2a3f5f"
            },
            "baxis": {
             "endlinecolor": "#2a3f5f",
             "gridcolor": "white",
             "linecolor": "white",
             "minorgridcolor": "white",
             "startlinecolor": "#2a3f5f"
            },
            "type": "carpet"
           }
          ],
          "choropleth": [
           {
            "colorbar": {
             "outlinewidth": 0,
             "ticks": ""
            },
            "type": "choropleth"
           }
          ],
          "contour": [
           {
            "colorbar": {
             "outlinewidth": 0,
             "ticks": ""
            },
            "colorscale": [
             [
              0,
              "#0d0887"
             ],
             [
              0.1111111111111111,
              "#46039f"
             ],
             [
              0.2222222222222222,
              "#7201a8"
             ],
             [
              0.3333333333333333,
              "#9c179e"
             ],
             [
              0.4444444444444444,
              "#bd3786"
             ],
             [
              0.5555555555555556,
              "#d8576b"
             ],
             [
              0.6666666666666666,
              "#ed7953"
             ],
             [
              0.7777777777777778,
              "#fb9f3a"
             ],
             [
              0.8888888888888888,
              "#fdca26"
             ],
             [
              1,
              "#f0f921"
             ]
            ],
            "type": "contour"
           }
          ],
          "contourcarpet": [
           {
            "colorbar": {
             "outlinewidth": 0,
             "ticks": ""
            },
            "type": "contourcarpet"
           }
          ],
          "heatmap": [
           {
            "colorbar": {
             "outlinewidth": 0,
             "ticks": ""
            },
            "colorscale": [
             [
              0,
              "#0d0887"
             ],
             [
              0.1111111111111111,
              "#46039f"
             ],
             [
              0.2222222222222222,
              "#7201a8"
             ],
             [
              0.3333333333333333,
              "#9c179e"
             ],
             [
              0.4444444444444444,
              "#bd3786"
             ],
             [
              0.5555555555555556,
              "#d8576b"
             ],
             [
              0.6666666666666666,
              "#ed7953"
             ],
             [
              0.7777777777777778,
              "#fb9f3a"
             ],
             [
              0.8888888888888888,
              "#fdca26"
             ],
             [
              1,
              "#f0f921"
             ]
            ],
            "type": "heatmap"
           }
          ],
          "heatmapgl": [
           {
            "colorbar": {
             "outlinewidth": 0,
             "ticks": ""
            },
            "colorscale": [
             [
              0,
              "#0d0887"
             ],
             [
              0.1111111111111111,
              "#46039f"
             ],
             [
              0.2222222222222222,
              "#7201a8"
             ],
             [
              0.3333333333333333,
              "#9c179e"
             ],
             [
              0.4444444444444444,
              "#bd3786"
             ],
             [
              0.5555555555555556,
              "#d8576b"
             ],
             [
              0.6666666666666666,
              "#ed7953"
             ],
             [
              0.7777777777777778,
              "#fb9f3a"
             ],
             [
              0.8888888888888888,
              "#fdca26"
             ],
             [
              1,
              "#f0f921"
             ]
            ],
            "type": "heatmapgl"
           }
          ],
          "histogram": [
           {
            "marker": {
             "pattern": {
              "fillmode": "overlay",
              "size": 10,
              "solidity": 0.2
             }
            },
            "type": "histogram"
           }
          ],
          "histogram2d": [
           {
            "colorbar": {
             "outlinewidth": 0,
             "ticks": ""
            },
            "colorscale": [
             [
              0,
              "#0d0887"
             ],
             [
              0.1111111111111111,
              "#46039f"
             ],
             [
              0.2222222222222222,
              "#7201a8"
             ],
             [
              0.3333333333333333,
              "#9c179e"
             ],
             [
              0.4444444444444444,
              "#bd3786"
             ],
             [
              0.5555555555555556,
              "#d8576b"
             ],
             [
              0.6666666666666666,
              "#ed7953"
             ],
             [
              0.7777777777777778,
              "#fb9f3a"
             ],
             [
              0.8888888888888888,
              "#fdca26"
             ],
             [
              1,
              "#f0f921"
             ]
            ],
            "type": "histogram2d"
           }
          ],
          "histogram2dcontour": [
           {
            "colorbar": {
             "outlinewidth": 0,
             "ticks": ""
            },
            "colorscale": [
             [
              0,
              "#0d0887"
             ],
             [
              0.1111111111111111,
              "#46039f"
             ],
             [
              0.2222222222222222,
              "#7201a8"
             ],
             [
              0.3333333333333333,
              "#9c179e"
             ],
             [
              0.4444444444444444,
              "#bd3786"
             ],
             [
              0.5555555555555556,
              "#d8576b"
             ],
             [
              0.6666666666666666,
              "#ed7953"
             ],
             [
              0.7777777777777778,
              "#fb9f3a"
             ],
             [
              0.8888888888888888,
              "#fdca26"
             ],
             [
              1,
              "#f0f921"
             ]
            ],
            "type": "histogram2dcontour"
           }
          ],
          "mesh3d": [
           {
            "colorbar": {
             "outlinewidth": 0,
             "ticks": ""
            },
            "type": "mesh3d"
           }
          ],
          "parcoords": [
           {
            "line": {
             "colorbar": {
              "outlinewidth": 0,
              "ticks": ""
             }
            },
            "type": "parcoords"
           }
          ],
          "pie": [
           {
            "automargin": true,
            "type": "pie"
           }
          ],
          "scatter": [
           {
            "fillpattern": {
             "fillmode": "overlay",
             "size": 10,
             "solidity": 0.2
            },
            "type": "scatter"
           }
          ],
          "scatter3d": [
           {
            "line": {
             "colorbar": {
              "outlinewidth": 0,
              "ticks": ""
             }
            },
            "marker": {
             "colorbar": {
              "outlinewidth": 0,
              "ticks": ""
             }
            },
            "type": "scatter3d"
           }
          ],
          "scattercarpet": [
           {
            "marker": {
             "colorbar": {
              "outlinewidth": 0,
              "ticks": ""
             }
            },
            "type": "scattercarpet"
           }
          ],
          "scattergeo": [
           {
            "marker": {
             "colorbar": {
              "outlinewidth": 0,
              "ticks": ""
             }
            },
            "type": "scattergeo"
           }
          ],
          "scattergl": [
           {
            "marker": {
             "colorbar": {
              "outlinewidth": 0,
              "ticks": ""
             }
            },
            "type": "scattergl"
           }
          ],
          "scattermapbox": [
           {
            "marker": {
             "colorbar": {
              "outlinewidth": 0,
              "ticks": ""
             }
            },
            "type": "scattermapbox"
           }
          ],
          "scatterpolar": [
           {
            "marker": {
             "colorbar": {
              "outlinewidth": 0,
              "ticks": ""
             }
            },
            "type": "scatterpolar"
           }
          ],
          "scatterpolargl": [
           {
            "marker": {
             "colorbar": {
              "outlinewidth": 0,
              "ticks": ""
             }
            },
            "type": "scatterpolargl"
           }
          ],
          "scatterternary": [
           {
            "marker": {
             "colorbar": {
              "outlinewidth": 0,
              "ticks": ""
             }
            },
            "type": "scatterternary"
           }
          ],
          "surface": [
           {
            "colorbar": {
             "outlinewidth": 0,
             "ticks": ""
            },
            "colorscale": [
             [
              0,
              "#0d0887"
             ],
             [
              0.1111111111111111,
              "#46039f"
             ],
             [
              0.2222222222222222,
              "#7201a8"
             ],
             [
              0.3333333333333333,
              "#9c179e"
             ],
             [
              0.4444444444444444,
              "#bd3786"
             ],
             [
              0.5555555555555556,
              "#d8576b"
             ],
             [
              0.6666666666666666,
              "#ed7953"
             ],
             [
              0.7777777777777778,
              "#fb9f3a"
             ],
             [
              0.8888888888888888,
              "#fdca26"
             ],
             [
              1,
              "#f0f921"
             ]
            ],
            "type": "surface"
           }
          ],
          "table": [
           {
            "cells": {
             "fill": {
              "color": "#EBF0F8"
             },
             "line": {
              "color": "white"
             }
            },
            "header": {
             "fill": {
              "color": "#C8D4E3"
             },
             "line": {
              "color": "white"
             }
            },
            "type": "table"
           }
          ]
         },
         "layout": {
          "annotationdefaults": {
           "arrowcolor": "#2a3f5f",
           "arrowhead": 0,
           "arrowwidth": 1
          },
          "autotypenumbers": "strict",
          "coloraxis": {
           "colorbar": {
            "outlinewidth": 0,
            "ticks": ""
           }
          },
          "colorscale": {
           "diverging": [
            [
             0,
             "#8e0152"
            ],
            [
             0.1,
             "#c51b7d"
            ],
            [
             0.2,
             "#de77ae"
            ],
            [
             0.3,
             "#f1b6da"
            ],
            [
             0.4,
             "#fde0ef"
            ],
            [
             0.5,
             "#f7f7f7"
            ],
            [
             0.6,
             "#e6f5d0"
            ],
            [
             0.7,
             "#b8e186"
            ],
            [
             0.8,
             "#7fbc41"
            ],
            [
             0.9,
             "#4d9221"
            ],
            [
             1,
             "#276419"
            ]
           ],
           "sequential": [
            [
             0,
             "#0d0887"
            ],
            [
             0.1111111111111111,
             "#46039f"
            ],
            [
             0.2222222222222222,
             "#7201a8"
            ],
            [
             0.3333333333333333,
             "#9c179e"
            ],
            [
             0.4444444444444444,
             "#bd3786"
            ],
            [
             0.5555555555555556,
             "#d8576b"
            ],
            [
             0.6666666666666666,
             "#ed7953"
            ],
            [
             0.7777777777777778,
             "#fb9f3a"
            ],
            [
             0.8888888888888888,
             "#fdca26"
            ],
            [
             1,
             "#f0f921"
            ]
           ],
           "sequentialminus": [
            [
             0,
             "#0d0887"
            ],
            [
             0.1111111111111111,
             "#46039f"
            ],
            [
             0.2222222222222222,
             "#7201a8"
            ],
            [
             0.3333333333333333,
             "#9c179e"
            ],
            [
             0.4444444444444444,
             "#bd3786"
            ],
            [
             0.5555555555555556,
             "#d8576b"
            ],
            [
             0.6666666666666666,
             "#ed7953"
            ],
            [
             0.7777777777777778,
             "#fb9f3a"
            ],
            [
             0.8888888888888888,
             "#fdca26"
            ],
            [
             1,
             "#f0f921"
            ]
           ]
          },
          "colorway": [
           "#636efa",
           "#EF553B",
           "#00cc96",
           "#ab63fa",
           "#FFA15A",
           "#19d3f3",
           "#FF6692",
           "#B6E880",
           "#FF97FF",
           "#FECB52"
          ],
          "font": {
           "color": "#2a3f5f"
          },
          "geo": {
           "bgcolor": "white",
           "lakecolor": "white",
           "landcolor": "#E5ECF6",
           "showlakes": true,
           "showland": true,
           "subunitcolor": "white"
          },
          "hoverlabel": {
           "align": "left"
          },
          "hovermode": "closest",
          "mapbox": {
           "style": "light"
          },
          "paper_bgcolor": "white",
          "plot_bgcolor": "#E5ECF6",
          "polar": {
           "angularaxis": {
            "gridcolor": "white",
            "linecolor": "white",
            "ticks": ""
           },
           "bgcolor": "#E5ECF6",
           "radialaxis": {
            "gridcolor": "white",
            "linecolor": "white",
            "ticks": ""
           }
          },
          "scene": {
           "xaxis": {
            "backgroundcolor": "#E5ECF6",
            "gridcolor": "white",
            "gridwidth": 2,
            "linecolor": "white",
            "showbackground": true,
            "ticks": "",
            "zerolinecolor": "white"
           },
           "yaxis": {
            "backgroundcolor": "#E5ECF6",
            "gridcolor": "white",
            "gridwidth": 2,
            "linecolor": "white",
            "showbackground": true,
            "ticks": "",
            "zerolinecolor": "white"
           },
           "zaxis": {
            "backgroundcolor": "#E5ECF6",
            "gridcolor": "white",
            "gridwidth": 2,
            "linecolor": "white",
            "showbackground": true,
            "ticks": "",
            "zerolinecolor": "white"
           }
          },
          "shapedefaults": {
           "line": {
            "color": "#2a3f5f"
           }
          },
          "ternary": {
           "aaxis": {
            "gridcolor": "white",
            "linecolor": "white",
            "ticks": ""
           },
           "baxis": {
            "gridcolor": "white",
            "linecolor": "white",
            "ticks": ""
           },
           "bgcolor": "#E5ECF6",
           "caxis": {
            "gridcolor": "white",
            "linecolor": "white",
            "ticks": ""
           }
          },
          "title": {
           "x": 0.05
          },
          "xaxis": {
           "automargin": true,
           "gridcolor": "white",
           "linecolor": "white",
           "ticks": "",
           "title": {
            "standoff": 15
           },
           "zerolinecolor": "white",
           "zerolinewidth": 2
          },
          "yaxis": {
           "automargin": true,
           "gridcolor": "white",
           "linecolor": "white",
           "ticks": "",
           "title": {
            "standoff": 15
           },
           "zerolinecolor": "white",
           "zerolinewidth": 2
          }
         }
        },
        "title": {
         "text": "Overview for Normalized Ask/Bid Sizes and WAP for 5 days"
        }
       }
      },
      "text/html": [
       "<div>                            <div id=\"d7fa65cb-629e-4bbb-991e-a439b6091200\" class=\"plotly-graph-div\" style=\"height:525px; width:100%;\"></div>            <script type=\"text/javascript\">                require([\"plotly\"], function(Plotly) {                    window.PLOTLYENV=window.PLOTLYENV || {};                                    if (document.getElementById(\"d7fa65cb-629e-4bbb-991e-a439b6091200\")) {                    Plotly.newPlot(                        \"d7fa65cb-629e-4bbb-991e-a439b6091200\",                        [{\"line\":{\"color\":\"red\"},\"name\":\"ask size\",\"x\":[0,1,2,3,4,5,6,7,8,9,10,11,12,13,14,15,16,17,18,19,20,21,22,23,24,25,26,27,28,29,30,31,32,33,34,35,36,37,38,39,40,41,42,43,44,45,46,47,48,49,50,51,52,53,54,55,56,57,58,59,60,61,62,63,64,65,66,67,68,69,70,71,72,73,74,75,76,77,78,79,80,81,82,83,84,85,86,87,88,89,90,91,92,93,94,95,96,97,98,99,100,101,102,103,104,105,106,107,108,109,110,111,112,113,114,115,116,117,118,119,120,121,122,123,124,125,126,127,128,129,130,131,132,133,134,135,136,137,138,139,140,141,142,143,144,145,146,147,148,149,150,151,152,153,154,155,156,157,158,159,160,161,162,163,164,165,166,167,168,169,170,171,172,173,174,175,176,177,178,179,180,181,182,183,184,185,186,187,188,189,190,191,192,193,194,195,196,197,198,199,200,201,202,203,204,205,206,207,208,209,210,211,212,213,214,215,216,217,218,219,220,221,222,223,224,225,226,227,228,229,230,231,232,233,234,235,236,237,238,239,240,241,242,243,244,245,246,247,248,249,250,251,252,253,254,255,256,257,258,259,260,261,262,263,264,265,266,267,268,269,270,271,272,273,274],\"y\":[0.008253034544758722,0.023182537517031514,0.01186820635744919,0.045720804892160856,0.02625394866834973,0.009648194760904576,0.009834806965660711,0.017069760753058834,0.06140042295454513,0.03998814790933822,0.04211301530011429,0.02800750923855603,0.06760012710534623,0.013724094640187883,0.02484899185791735,0.015482603186007457,0.0,0.02780702680497232,0.009084622325691214,0.0208597809088064,0.05912355931691785,0.07413613462674606,0.08377383729478394,0.009080648048090188,0.0368946298388643,0.050788704332048025,0.013529812079661769,0.04133087746823255,0.023646186677661107,0.009372956165645586,0.015860318529208883,0.01835859910768327,0.03718073808336209,0.013999243814200852,0.0395701433269564,0.03706005914400697,0.0961606471363909,0.022055472132156806,0.002594428289337186,0.0496658516814304,0.041233765995051505,0.009263941731049465,0.06447069150105304,0.03399526516489446,0.08745244851368077,0.0347475462362985,0.06348588538290703,0.018441333631642607,0.018350650552481217,0.03299055785166132,0.08118779473118491,0.009083628756290959,0.07776698496457259,0.03475503774957643,0.009544992707299959,0.022952367229768147,0.022917592300759175,0.051890095883620105,0.041346317536712536,0.0044312400395909585,0.01763477386390257,0.0037840587393460296,0.0051710518150217795,0.01514344827122998,0.009784373382903703,0.012092186707348962,0.01791566586904902,0.015324794558164753,0.01975627305441177,0.014493892340118438,0.004247529057483573,0.009141196167341806,0.009048853827281989,0.013482756632865633,0.022720448260360328,0.009513695271191886,0.00424705214417145,0.050499655122125474,0.004247529057483573,0.0042484828841078195,0.013488638563715152,0.0172785891696047,0.032617313570761045,0.004250390537356311,0.00425182127729268,0.006284147614128882,0.01533981732749663,0.03427684273292709,0.029469268411601066,0.04406563749966193,0.07398945397618624,0.08941560254887113,0.010901662044879886,0.006375158571192357,0.01829103638846584,0.004988016460106569,0.11803825047451383,0.01311477826978672,0.03205249917379736,0.04582089707354267,0.027809401435838932,0.03261378639939013,0.004803252294434912,0.013308206360628612,0.04131201952101569,0.013211462508125656,0.027535206088450205,0.022637902514587034,0.08900168153672437,0.08486098106115636,0.022897104899725892,0.019226899277955227,0.0032934242338054794,0.00896837470586123,0.01830319767792498,0.013726817020344584,0.03146942297125697,0.03157814927072701,0.03313790419371932,0.03644156219234744,0.0072307708602230465,0.017853388939040957,0.055298416482871225,0.09291841159808663,0.05007418883354773,0.036429639359544366,0.02306768089436189,0.032222429348323194,0.033229451678258935,0.05473714912866646,0.04573155531307163,0.0509452312553644,0.036389896583534115,0.07753708294104729,0.029169468780767736,0.05011655463277466,0.04810447724031568,0.026880324625353294,0.004388019770679811,0.03870118740088027,0.010791971983091593,0.02542287754350537,0.05668917518657395,0.09581428884346156,0.018100271063616637,0.013536310023539446,0.01975680958188791,0.018207675915784337,0.031933837180324755,0.11880156016626071,0.14604017585304044,0.06264630930399648,0.06282237973741589,0.008957445442458412,0.012343013302443657,0.018195693468817248,0.018746438923073303,0.03658076126532334,0.06493276088633623,0.03008395005676361,0.05560403843039005,0.0029248696004744172,0.03732872030983627,0.046473433712854985,0.01829115561679387,0.03335009087483805,0.0459795899781516,0.05861361975793032,0.037444719537316186,0.009065933285272394,0.008971355414061999,0.04111149734465597,0.009062922769989617,0.008972348983462256,0.0028360146890094987,0.0020119979069069586,0.03378979501292147,0.02911935314021881,0.07427503562890189,0.008972348983462256,0.02261736543508374,0.01904376456609999,0.08488992373778581,0.03680783161605791,0.058515663750759055,0.058515663750759055,0.058515663750759055,0.039999603764523176,0.020591388006715176,0.026726659181909657,0.03643361363714539,0.02306263356180859,0.028175859637735452,0.028172779572594658,8.878536160690056e-05,0.002651051809457791,0.03940305476091531,0.02011830987247715,0.024330706315967662,8.911323950898511e-05,0.018018728822937605,0.05569549649368365,0.03027346348416849,0.06676192215220804,0.030805430476759703,0.03456113274542242,0.003106037044917146,0.027240115976574095,0.03547163974381727,0.03583343810522659,0.05714013646596226,0.11955960394018623,0.2369935953125462,0.1457462084745866,0.08209110828712192,0.12546434714313326,0.40954674337658314,0.4021386402498024,1.0,0.15911725809978142,0.20256453774749988,0.019103776157875473,0.009657156756894889,0.01090931252926186,0.00946416583658911,0.022780539337687828,0.010333707968611393,0.03847639232407229,0.015374383606931543,0.030164111235976284,0.02755444159203917,0.10932409043540217,0.08757684340259286,0.06872922930749147,0.0004911312902406784,0.009479069377592955,0.00948006294699321,0.019250148801921226,0.0008782557356625301,0.010832092315473944,0.15438338675656643,0.01911768612947906,0.010727588685954989,0.01961452050807721,0.028787103532773112,0.002904382199441133,0.10602520156989528,0.009561664801836258,0.033391582332992754,0.023646544362645194,0.1761538336348717,0.00261212376035575,0.024301753703644194,0.048012671427731995,0.04800770358073072,0.04563108557531771,0.10003211017587747,0.04136562259015951,0.08204049586187286,0.052468591731225325,0.001261157511133293,0.10146847371505195,0.09628027289218176,0.04329374336829683,0.0431098535436974,0.015536901753731463,0.05363691011759867,0.028748354326163118,0.057561837126513034,0.09944311229971155,0.00511913781385839,0.14199034723481987,0.07619967891413833,0.22385817067062216,0.37074509617364293],\"type\":\"scatter\"},{\"line\":{\"color\":\"green\"},\"name\":\"bid size\",\"x\":[0,1,2,3,4,5,6,7,8,9,10,11,12,13,14,15,16,17,18,19,20,21,22,23,24,25,26,27,28,29,30,31,32,33,34,35,36,37,38,39,40,41,42,43,44,45,46,47,48,49,50,51,52,53,54,55,56,57,58,59,60,61,62,63,64,65,66,67,68,69,70,71,72,73,74,75,76,77,78,79,80,81,82,83,84,85,86,87,88,89,90,91,92,93,94,95,96,97,98,99,100,101,102,103,104,105,106,107,108,109,110,111,112,113,114,115,116,117,118,119,120,121,122,123,124,125,126,127,128,129,130,131,132,133,134,135,136,137,138,139,140,141,142,143,144,145,146,147,148,149,150,151,152,153,154,155,156,157,158,159,160,161,162,163,164,165,166,167,168,169,170,171,172,173,174,175,176,177,178,179,180,181,182,183,184,185,186,187,188,189,190,191,192,193,194,195,196,197,198,199,200,201,202,203,204,205,206,207,208,209,210,211,212,213,214,215,216,217,218,219,220,221,222,223,224,225,226,227,228,229,230,231,232,233,234,235,236,237,238,239,240,241,242,243,244,245,246,247,248,249,250,251,252,253,254,255,256,257,258,259,260,261,262,263,264,265,266,267,268,269,270,271,272,273,274],\"y\":[0.1520533196744979,0.03491123012375809,0.011482812213610126,0.1403692405034687,0.036566987297785215,0.10525297719928592,0.03493382746179167,0.09493894952507928,0.023438913118256893,0.05837103322561935,0.024378987488607177,0.012422660610580073,0.10894503071982564,0.08176806594405402,0.0826963143741667,0.1295481285637885,0.01756847621128009,0.07494158588118319,0.046615395817483814,0.04662041744815794,0.027867639858691316,0.07539373350708176,0.05198038048895618,0.04682944282496855,0.09462318938829005,0.023184467091998784,0.023184467091998784,0.023184467091998784,0.03490746390075249,0.009143987727134633,0.04827582310803788,0.05693394295929717,0.12345739271913768,0.07004632454296884,0.04682944282496855,0.05642284138928435,0.11774659345129143,0.0016418723652131559,0.11753776893970778,0.2931379165756496,0.2931379165756496,0.047521599288937094,0.0002367196699784321,0.24201884617991998,0.07654793020937689,0.12620070955641424,0.3025681874675163,0.18053907205286773,0.22013550870374138,0.13277070983260394,0.1306773175453265,0.10820730295748937,0.04871300627452753,0.17798243433590188,0.2807589692600878,0.02312420752390924,0.020077056922694507,0.013765394436535378,0.03661095167433721,0.01166587575983549,0.002334957830856414,0.013064123712893288,0.014001737484213248,0.0879673694438795,0.010964831009573739,0.03429030549090206,0.03430145351099863,0.017731151936968493,0.0615811106340562,0.03849305885100068,0.10872202010158757,0.02310161018587566,0.07163426459474184,0.023104121001212723,0.034771879872551016,0.08121832292600376,0.011435106722205901,0.06204762012368276,0.10826708547066487,0.08169389645899713,0.11532913022845907,0.06162768625855874,0.03735495647501613,0.02218275220512357,0.01097929330591523,2.1341930365047655e-06,0.12352669122244066,0.08381262287302556,0.07843468239441394,0.09991028856800667,0.048783735942572626,0.09289735535820547,0.09033963799064469,0.07308154877133252,0.10691320362461303,0.15710076153029173,0.020539448675168284,0.12089297147462695,0.1687359300185549,0.1059794816170655,0.15945224052606602,0.11859750876902256,0.20285313990011974,0.20478671879119306,0.03222940315408623,0.10015451557584294,0.023114164262560983,0.22225179962689284,1.0,0.7033973089081218,0.009951164641694097,0.012031299823991844,0.06615784993861057,0.026367678776329034,0.09250835473803408,0.057355132232089726,0.14099860147585724,0.11702310201191632,0.08002842242961557,0.08491336431679458,0.03423923550694617,0.06015659955257271,0.0800458474880548,0.18688731711848788,0.009715424189697121,0.1387776848776103,0.004395031598611016,0.22759546747615353,0.011333418701054794,0.040245457307351414,0.04599271361389184,0.10399264833269307,0.07069177984166798,0.030263258988091204,0.04690695169442373,0.05753618712604544,0.026341691837590425,0.03534956826530279,0.07395024066165005,0.06449641832192167,0.06518282501876835,0.11762727950647413,0.045977648721869456,0.12151620605759307,0.21369323360374812,0.07835812763478685,0.16180171086957065,0.029596110244879823,0.23142687124790032,0.07741667231600118,0.11160664562603413,0.08481172651195022,0.1629042601003824,0.07531218222493391,0.1400282968888487,0.1492711103076502,0.09081031543373079,0.048991932750322015,0.18880467614248375,0.011553190367508041,0.16176650923854502,0.053625542022260886,0.06172236910491943,0.19418321921677625,0.023571433951747153,0.02291329903559583,0.021756064246742847,0.10413985743590515,0.04650060134027322,0.18536892665155155,0.046037908289959,0.16402463612008727,0.1631169763757385,0.09811221838067474,0.0004626428340074873,0.0016193754597930586,0.20802567057600613,0.0,0.22165399960329119,0.13860664813684948,0.16359749621494588,0.12841123137916574,0.11544186583709327,0.16473657780891188,0.0724271800781868,0.21126522495650013,0.23509908932727724,0.046254114598633614,0.09227708353733707,0.06915749591364805,0.20261546612031325,0.022888190882225184,0.08159416687380894,0.05914077388350319,0.022860571913517477,0.022870615174865733,0.13907373511400356,0.11531632507024005,0.17405243084586858,0.14126047951551307,0.025425771510782697,0.0036972258001340776,0.00785694378535542,0.13841080454055846,0.006467458577823977,0.23635891603080267,0.04666568744868521,0.06906710656151373,0.032573460179724165,0.16722178282953823,0.27583764565867475,0.010853953404288975,0.2048475809549635,0.03578032374452956,0.10647669837826436,0.19800540829623603,0.1839516718263922,0.41407771475631283,0.2049813571961223,0.13263404615380753,0.11745132156765266,0.0492294558812083,0.04487163456589258,0.03047793369941021,0.07290112158121106,0.146033639903886,0.13896416313269408,0.03588818837140985,0.024181260780813355,0.12575087188062578,0.02491364050648167,0.015148577497570787,0.07302164071739016,0.025892833379783417,0.050308001717397695,0.04860396156443882,0.001966420355682101,0.04862404808713534,0.024198836488172806,0.08839566432407596,0.002207358195426801,0.024148620181431518,0.044420792563969295,0.024410171815093515,0.048558766888371664,0.12171890417975428,0.12171890417975428,0.02658109807997951,0.02682484803290172,0.024138576920083258,0.024136066104746196,0.024138576920083258,1.2152346231391728e-05,0.024123512028060873,0.09717819507528679,0.08944086653258912,0.024138576920083258,0.024126022843397935,0.053349402551490545,0.04850352895095624,0.09723845464337634,0.1023661923736495,0.28324979850706916,0.0971982815979833,0.09551299723559231,0.024141087735420324,0.11430747946780756,0.0258417885039809,0.29205763827687764,0.19472839255091304,0.029012571652392682,0.15086243996012824,0.17937530914413838,0.27173750932140195,0.356057618190355],\"type\":\"scatter\"},{\"line\":{\"color\":\"orange\"},\"name\":\"WAP\",\"x\":[0,1,2,3,4,5,6,7,8,9,10,11,12,13,14,15,16,17,18,19,20,21,22,23,24,25,26,27,28,29,30,31,32,33,34,35,36,37,38,39,40,41,42,43,44,45,46,47,48,49,50,51,52,53,54,55,56,57,58,59,60,61,62,63,64,65,66,67,68,69,70,71,72,73,74,75,76,77,78,79,80,81,82,83,84,85,86,87,88,89,90,91,92,93,94,95,96,97,98,99,100,101,102,103,104,105,106,107,108,109,110,111,112,113,114,115,116,117,118,119,120,121,122,123,124,125,126,127,128,129,130,131,132,133,134,135,136,137,138,139,140,141,142,143,144,145,146,147,148,149,150,151,152,153,154,155,156,157,158,159,160,161,162,163,164,165,166,167,168,169,170,171,172,173,174,175,176,177,178,179,180,181,182,183,184,185,186,187,188,189,190,191,192,193,194,195,196,197,198,199,200,201,202,203,204,205,206,207,208,209,210,211,212,213,214,215,216,217,218,219,220,221,222,223,224,225,226,227,228,229,230,231,232,233,234,235,236,237,238,239,240,241,242,243,244,245,246,247,248,249,250,251,252,253,254,255,256,257,258,259,260,261,262,263,264,265,266,267,268,269,270,271,272,273,274],\"y\":[0.4890029325513189,0.4692082111436948,0.4600439882697956,0.5045821114369293,0.5471041055718283,0.5685483870967815,0.5837609970674661,0.56616568914956,0.5161290322580704,0.567082111436956,0.5368401759530905,0.49670087976541294,0.46975806451612434,0.4820381231671579,0.45711143695014456,0.4499633431085003,0.4147727272727288,0.396260997067447,0.42833577712610454,0.44409824046919827,0.3594208211143667,0.34805718475072916,0.3443914956011654,0.3498900293255212,0.41532258064515826,0.3623533724340177,0.3641862170087894,0.35997067448679615,0.4565615835777151,0.5604838709677209,0.5152126099706744,0.46535923753664776,0.45711143695014456,0.4479472140762453,0.34915689149560847,0.3244134897360784,0.30388563049854167,0.35703812316714517,0.35520527859237344,0.3504398826979507,0.3511730205278635,0.3104838709677361,0.27785923753664904,0.29233870967742087,0.3024193548387162,0.34824046920821244,0.38874633431085653,0.3718841642228835,0.39222873900293703,0.3684017595307827,0.3836143695014672,0.41184017595307776,0.3837976539589505,0.3891129032258027,0.374450146627568,0.4890029325513189,0.33779325513197095,0.20289589442814623,0.13068181818181113,0.21902492668622683,0.2199413489736025,0.19079912023459594,0.2587976539589378,0.25219941348974334,0.18548387096774374,0.18988269794722026,0.25549853372434056,0.20546187683285103,0.20124633431085778,0.20931085043987774,0.27254398826979687,0.2483504398826963,0.2534824046920856,0.2663123167155486,0.27309384164222633,0.3082844574779978,0.24871700879766284,0.19244868035190474,0.27437683284456854,0.3150659824046959,0.3522727272727224,0.3519061583577762,0.3493401759530714,0.38306451612903775,0.4354838709677488,0.3964442815249303,0.39149560117302423,0.34677419354838696,0.3275293255131924,0.32661290322579634,0.3016862170088034,0.30333577712609183,0.3475073313782997,0.3728005865102592,0.3310117302052729,0.3355938416422327,0.2793255131964746,0.29343841642227986,0.3046187683284544,0.3267961876832796,0.35062316715543396,0.34860703812315863,0.3359604105571789,0.410190615835769,0.4008431085044068,0.35172287390029294,0.34695747800587023,0.3684017595307827,0.40505865102640004,0.4413489736070305,0.4890029325513189,0.4472140762463325,0.42118768328446027,0.394244868035192,0.37701612903225246,0.37609970674487675,0.2897727272727364,0.38746334310849395,0.4030425219941247,0.4528958944281513,0.4364002932551245,0.45472873900292304,0.43071847507330574,0.401209677419353,0.40505865102640004,0.39552785923753425,0.40505865102640004,0.4129398826979367,0.38837976539589,0.3881964809384067,0.250183284457468,0.24230205278593134,0.18218475073314652,0.17027126099705917,0.21242668621701202,0.21719208211143476,0.21187683284458256,0.19153225806450871,0.25898093841642106,0.3000366568914946,0.2784090909090989,0.23735337243402532,0.18969941348973698,0.17155425219942175,0.1812683284457505,0.2782258064516156,0.27950879765395786,0.33174486803518566,0.3335777126099777,0.22873900293255556,0.20931085043987774,0.2314882697947233,0.21480938416421322,0.1801686217008712,0.22085777126099854,0.2199413489736025,0.23075513196481054,0.2314882697947233,0.23515395894428706,0.20729472140762276,0.23515395894428706,0.2817082111436961,0.3000366568914946,0.2965542521994141,0.2380865102639381,0.4890029325513189,0.4750733137829969,0.46022727272727887,0.39901026392961475,0.48735337243401006,0.41898826979472203,0.41678885630498375,0.4296187683284468,0.4483137829911915,0.3940615835777087,0.3973607038123263,0.4462976539589365,0.4321847507331313,0.4446480938416481,0.44923020527858754,0.44684750733138634,0.4266862170087958,0.41330645161290325,0.425036656891487,0.43878299120234604,0.4439149560117353,0.44428152492668155,0.3453079178885614,0.3454912023460447,0.3627199413489639,0.3799486803519035,0.2956378299120181,0.25458211143694454,0.18804985337242822,0.07368035190616061,0.2553152492668573,0.14552785923752914,0.20729472140762276,0.2479838709677501,0.29288856304985034,0.2404692082111393,0.1940982404692135,0.19739736070381073,0.19171554252199197,0.11565249266863019,0.16825513196480418,0.1508431085044017,0.12408357771261669,0.13929618768328092,0.11986803519062343,0.14699413489735466,0.07569648093841559,0.07936217008797937,0.0,0.10758797653958989,0.1691715542522002,0.19666422287389798,0.18530058651026046,0.1950146627565892,0.17870234604106602,0.4890029325513189,0.5034824046920703,0.612536656891506,0.5612170087976539,0.6118035190615729,0.6099706744868216,0.6326979472140559,0.8178152492668739,0.8627199413489537,0.8995601173020544,0.8586876832844438,0.8387096774193568,0.8856304985337324,0.8625366568914908,0.9074413489736114,0.8966275659824033,0.8935117302052894,0.97525659824047,1.0,0.8957111436950074,0.645344574780056,0.6134530791789021,0.7626466275659747,0.7454178885630351,0.7316715542522167,0.7347873900293307,0.6873167155425256,0.599706744868043,0.564149560117305,0.5399560117302045,0.4976173020527683,0.5566348973607145,0.3995601173020442,0.4056085043988295,0.397177419354843,0.518511730205292,0.5159457478005668,0.42540322580645357,0.40707478005865505,0.49890029325513086,0.5119134897360568,0.5179618768328624,0.5606671554252245,0.4360337243401783,0.47360703812317134,0.5386730205278418,0.5298753665689295,0.503665689149574,0.4433651026392855,0.5208944281524728,0.5256598240469159,0.5238269794721239,0.5218108504398689,0.5188782991202178,0.5177785923753588],\"type\":\"scatter\"}],                        {\"template\":{\"data\":{\"histogram2dcontour\":[{\"type\":\"histogram2dcontour\",\"colorbar\":{\"outlinewidth\":0,\"ticks\":\"\"},\"colorscale\":[[0.0,\"#0d0887\"],[0.1111111111111111,\"#46039f\"],[0.2222222222222222,\"#7201a8\"],[0.3333333333333333,\"#9c179e\"],[0.4444444444444444,\"#bd3786\"],[0.5555555555555556,\"#d8576b\"],[0.6666666666666666,\"#ed7953\"],[0.7777777777777778,\"#fb9f3a\"],[0.8888888888888888,\"#fdca26\"],[1.0,\"#f0f921\"]]}],\"choropleth\":[{\"type\":\"choropleth\",\"colorbar\":{\"outlinewidth\":0,\"ticks\":\"\"}}],\"histogram2d\":[{\"type\":\"histogram2d\",\"colorbar\":{\"outlinewidth\":0,\"ticks\":\"\"},\"colorscale\":[[0.0,\"#0d0887\"],[0.1111111111111111,\"#46039f\"],[0.2222222222222222,\"#7201a8\"],[0.3333333333333333,\"#9c179e\"],[0.4444444444444444,\"#bd3786\"],[0.5555555555555556,\"#d8576b\"],[0.6666666666666666,\"#ed7953\"],[0.7777777777777778,\"#fb9f3a\"],[0.8888888888888888,\"#fdca26\"],[1.0,\"#f0f921\"]]}],\"heatmap\":[{\"type\":\"heatmap\",\"colorbar\":{\"outlinewidth\":0,\"ticks\":\"\"},\"colorscale\":[[0.0,\"#0d0887\"],[0.1111111111111111,\"#46039f\"],[0.2222222222222222,\"#7201a8\"],[0.3333333333333333,\"#9c179e\"],[0.4444444444444444,\"#bd3786\"],[0.5555555555555556,\"#d8576b\"],[0.6666666666666666,\"#ed7953\"],[0.7777777777777778,\"#fb9f3a\"],[0.8888888888888888,\"#fdca26\"],[1.0,\"#f0f921\"]]}],\"heatmapgl\":[{\"type\":\"heatmapgl\",\"colorbar\":{\"outlinewidth\":0,\"ticks\":\"\"},\"colorscale\":[[0.0,\"#0d0887\"],[0.1111111111111111,\"#46039f\"],[0.2222222222222222,\"#7201a8\"],[0.3333333333333333,\"#9c179e\"],[0.4444444444444444,\"#bd3786\"],[0.5555555555555556,\"#d8576b\"],[0.6666666666666666,\"#ed7953\"],[0.7777777777777778,\"#fb9f3a\"],[0.8888888888888888,\"#fdca26\"],[1.0,\"#f0f921\"]]}],\"contourcarpet\":[{\"type\":\"contourcarpet\",\"colorbar\":{\"outlinewidth\":0,\"ticks\":\"\"}}],\"contour\":[{\"type\":\"contour\",\"colorbar\":{\"outlinewidth\":0,\"ticks\":\"\"},\"colorscale\":[[0.0,\"#0d0887\"],[0.1111111111111111,\"#46039f\"],[0.2222222222222222,\"#7201a8\"],[0.3333333333333333,\"#9c179e\"],[0.4444444444444444,\"#bd3786\"],[0.5555555555555556,\"#d8576b\"],[0.6666666666666666,\"#ed7953\"],[0.7777777777777778,\"#fb9f3a\"],[0.8888888888888888,\"#fdca26\"],[1.0,\"#f0f921\"]]}],\"surface\":[{\"type\":\"surface\",\"colorbar\":{\"outlinewidth\":0,\"ticks\":\"\"},\"colorscale\":[[0.0,\"#0d0887\"],[0.1111111111111111,\"#46039f\"],[0.2222222222222222,\"#7201a8\"],[0.3333333333333333,\"#9c179e\"],[0.4444444444444444,\"#bd3786\"],[0.5555555555555556,\"#d8576b\"],[0.6666666666666666,\"#ed7953\"],[0.7777777777777778,\"#fb9f3a\"],[0.8888888888888888,\"#fdca26\"],[1.0,\"#f0f921\"]]}],\"mesh3d\":[{\"type\":\"mesh3d\",\"colorbar\":{\"outlinewidth\":0,\"ticks\":\"\"}}],\"scatter\":[{\"fillpattern\":{\"fillmode\":\"overlay\",\"size\":10,\"solidity\":0.2},\"type\":\"scatter\"}],\"parcoords\":[{\"type\":\"parcoords\",\"line\":{\"colorbar\":{\"outlinewidth\":0,\"ticks\":\"\"}}}],\"scatterpolargl\":[{\"type\":\"scatterpolargl\",\"marker\":{\"colorbar\":{\"outlinewidth\":0,\"ticks\":\"\"}}}],\"bar\":[{\"error_x\":{\"color\":\"#2a3f5f\"},\"error_y\":{\"color\":\"#2a3f5f\"},\"marker\":{\"line\":{\"color\":\"#E5ECF6\",\"width\":0.5},\"pattern\":{\"fillmode\":\"overlay\",\"size\":10,\"solidity\":0.2}},\"type\":\"bar\"}],\"scattergeo\":[{\"type\":\"scattergeo\",\"marker\":{\"colorbar\":{\"outlinewidth\":0,\"ticks\":\"\"}}}],\"scatterpolar\":[{\"type\":\"scatterpolar\",\"marker\":{\"colorbar\":{\"outlinewidth\":0,\"ticks\":\"\"}}}],\"histogram\":[{\"marker\":{\"pattern\":{\"fillmode\":\"overlay\",\"size\":10,\"solidity\":0.2}},\"type\":\"histogram\"}],\"scattergl\":[{\"type\":\"scattergl\",\"marker\":{\"colorbar\":{\"outlinewidth\":0,\"ticks\":\"\"}}}],\"scatter3d\":[{\"type\":\"scatter3d\",\"line\":{\"colorbar\":{\"outlinewidth\":0,\"ticks\":\"\"}},\"marker\":{\"colorbar\":{\"outlinewidth\":0,\"ticks\":\"\"}}}],\"scattermapbox\":[{\"type\":\"scattermapbox\",\"marker\":{\"colorbar\":{\"outlinewidth\":0,\"ticks\":\"\"}}}],\"scatterternary\":[{\"type\":\"scatterternary\",\"marker\":{\"colorbar\":{\"outlinewidth\":0,\"ticks\":\"\"}}}],\"scattercarpet\":[{\"type\":\"scattercarpet\",\"marker\":{\"colorbar\":{\"outlinewidth\":0,\"ticks\":\"\"}}}],\"carpet\":[{\"aaxis\":{\"endlinecolor\":\"#2a3f5f\",\"gridcolor\":\"white\",\"linecolor\":\"white\",\"minorgridcolor\":\"white\",\"startlinecolor\":\"#2a3f5f\"},\"baxis\":{\"endlinecolor\":\"#2a3f5f\",\"gridcolor\":\"white\",\"linecolor\":\"white\",\"minorgridcolor\":\"white\",\"startlinecolor\":\"#2a3f5f\"},\"type\":\"carpet\"}],\"table\":[{\"cells\":{\"fill\":{\"color\":\"#EBF0F8\"},\"line\":{\"color\":\"white\"}},\"header\":{\"fill\":{\"color\":\"#C8D4E3\"},\"line\":{\"color\":\"white\"}},\"type\":\"table\"}],\"barpolar\":[{\"marker\":{\"line\":{\"color\":\"#E5ECF6\",\"width\":0.5},\"pattern\":{\"fillmode\":\"overlay\",\"size\":10,\"solidity\":0.2}},\"type\":\"barpolar\"}],\"pie\":[{\"automargin\":true,\"type\":\"pie\"}]},\"layout\":{\"autotypenumbers\":\"strict\",\"colorway\":[\"#636efa\",\"#EF553B\",\"#00cc96\",\"#ab63fa\",\"#FFA15A\",\"#19d3f3\",\"#FF6692\",\"#B6E880\",\"#FF97FF\",\"#FECB52\"],\"font\":{\"color\":\"#2a3f5f\"},\"hovermode\":\"closest\",\"hoverlabel\":{\"align\":\"left\"},\"paper_bgcolor\":\"white\",\"plot_bgcolor\":\"#E5ECF6\",\"polar\":{\"bgcolor\":\"#E5ECF6\",\"angularaxis\":{\"gridcolor\":\"white\",\"linecolor\":\"white\",\"ticks\":\"\"},\"radialaxis\":{\"gridcolor\":\"white\",\"linecolor\":\"white\",\"ticks\":\"\"}},\"ternary\":{\"bgcolor\":\"#E5ECF6\",\"aaxis\":{\"gridcolor\":\"white\",\"linecolor\":\"white\",\"ticks\":\"\"},\"baxis\":{\"gridcolor\":\"white\",\"linecolor\":\"white\",\"ticks\":\"\"},\"caxis\":{\"gridcolor\":\"white\",\"linecolor\":\"white\",\"ticks\":\"\"}},\"coloraxis\":{\"colorbar\":{\"outlinewidth\":0,\"ticks\":\"\"}},\"colorscale\":{\"sequential\":[[0.0,\"#0d0887\"],[0.1111111111111111,\"#46039f\"],[0.2222222222222222,\"#7201a8\"],[0.3333333333333333,\"#9c179e\"],[0.4444444444444444,\"#bd3786\"],[0.5555555555555556,\"#d8576b\"],[0.6666666666666666,\"#ed7953\"],[0.7777777777777778,\"#fb9f3a\"],[0.8888888888888888,\"#fdca26\"],[1.0,\"#f0f921\"]],\"sequentialminus\":[[0.0,\"#0d0887\"],[0.1111111111111111,\"#46039f\"],[0.2222222222222222,\"#7201a8\"],[0.3333333333333333,\"#9c179e\"],[0.4444444444444444,\"#bd3786\"],[0.5555555555555556,\"#d8576b\"],[0.6666666666666666,\"#ed7953\"],[0.7777777777777778,\"#fb9f3a\"],[0.8888888888888888,\"#fdca26\"],[1.0,\"#f0f921\"]],\"diverging\":[[0,\"#8e0152\"],[0.1,\"#c51b7d\"],[0.2,\"#de77ae\"],[0.3,\"#f1b6da\"],[0.4,\"#fde0ef\"],[0.5,\"#f7f7f7\"],[0.6,\"#e6f5d0\"],[0.7,\"#b8e186\"],[0.8,\"#7fbc41\"],[0.9,\"#4d9221\"],[1,\"#276419\"]]},\"xaxis\":{\"gridcolor\":\"white\",\"linecolor\":\"white\",\"ticks\":\"\",\"title\":{\"standoff\":15},\"zerolinecolor\":\"white\",\"automargin\":true,\"zerolinewidth\":2},\"yaxis\":{\"gridcolor\":\"white\",\"linecolor\":\"white\",\"ticks\":\"\",\"title\":{\"standoff\":15},\"zerolinecolor\":\"white\",\"automargin\":true,\"zerolinewidth\":2},\"scene\":{\"xaxis\":{\"backgroundcolor\":\"#E5ECF6\",\"gridcolor\":\"white\",\"linecolor\":\"white\",\"showbackground\":true,\"ticks\":\"\",\"zerolinecolor\":\"white\",\"gridwidth\":2},\"yaxis\":{\"backgroundcolor\":\"#E5ECF6\",\"gridcolor\":\"white\",\"linecolor\":\"white\",\"showbackground\":true,\"ticks\":\"\",\"zerolinecolor\":\"white\",\"gridwidth\":2},\"zaxis\":{\"backgroundcolor\":\"#E5ECF6\",\"gridcolor\":\"white\",\"linecolor\":\"white\",\"showbackground\":true,\"ticks\":\"\",\"zerolinecolor\":\"white\",\"gridwidth\":2}},\"shapedefaults\":{\"line\":{\"color\":\"#2a3f5f\"}},\"annotationdefaults\":{\"arrowcolor\":\"#2a3f5f\",\"arrowhead\":0,\"arrowwidth\":1},\"geo\":{\"bgcolor\":\"white\",\"landcolor\":\"#E5ECF6\",\"subunitcolor\":\"white\",\"showland\":true,\"showlakes\":true,\"lakecolor\":\"white\"},\"title\":{\"x\":0.05},\"mapbox\":{\"style\":\"light\"}}},\"title\":{\"text\":\"Overview for Normalized Ask/Bid Sizes and WAP for 5 days\"}},                        {\"responsive\": true}                    ).then(function(){\n",
       "                            \n",
       "var gd = document.getElementById('d7fa65cb-629e-4bbb-991e-a439b6091200');\n",
       "var x = new MutationObserver(function (mutations, observer) {{\n",
       "        var display = window.getComputedStyle(gd).display;\n",
       "        if (!display || display === 'none') {{\n",
       "            console.log([gd, 'removed!']);\n",
       "            Plotly.purge(gd);\n",
       "            observer.disconnect();\n",
       "        }}\n",
       "}});\n",
       "\n",
       "// Listen for the removal of the full notebook cells\n",
       "var notebookContainer = gd.closest('#notebook-container');\n",
       "if (notebookContainer) {{\n",
       "    x.observe(notebookContainer, {childList: true});\n",
       "}}\n",
       "\n",
       "// Listen for the clearing of the current output cell\n",
       "var outputEl = gd.closest('.output');\n",
       "if (outputEl) {{\n",
       "    x.observe(outputEl, {childList: true});\n",
       "}}\n",
       "\n",
       "                        })                };                });            </script>        </div>"
      ]
     },
     "metadata": {},
     "output_type": "display_data"
    }
   ],
   "source": [
    "# Examine the volume changes \n",
    "# PLot the Prices changes of stock 0 at date 0 \n",
    "fig = go.Figure()\n",
    "\n",
    "fig.add_trace(\n",
    "    go.Scatter(x = stock00['time_id'], \n",
    "            y = (stock00['ask_size'] - stock00['ask_size'].min()) / (stock00['ask_size'].max() - stock00['ask_size'].min()), \n",
    "            name = 'ask size',\n",
    "            line = dict(color = 'red')))\n",
    "\n",
    "fig.add_trace(\n",
    "    go.Scatter(x = stock00['time_id'], \n",
    "            y = (stock00['bid_size'] - stock00['bid_size'].min()) / (stock00['bid_size'].max() - stock00['bid_size'].min()), \n",
    "            name = 'bid size',\n",
    "            line = dict(color = 'green')))\n",
    "\n",
    "\n",
    "fig.add_trace(\n",
    "    go.Scatter(x = stock00['time_id'], \n",
    "            y = (stock00['wap'] - stock00['wap'].min()) / (stock00['wap'].max() - stock00['wap'].min()), \n",
    "            name = 'WAP',\n",
    "            line = dict(color = 'orange')))\n",
    "\n",
    "\n",
    "\n",
    "fig.update_layout(title = \"Overview for Normalized Ask/Bid Sizes and WAP for 5 days\")"
   ]
  },
  {
   "cell_type": "code",
   "execution_count": 32,
   "id": "657f290c6cc595b8",
   "metadata": {
    "ExecuteTime": {
     "end_time": "2023-12-10T18:02:27.118023Z",
     "start_time": "2023-12-10T18:02:26.895243Z"
    },
    "collapsed": false,
    "jupyter": {
     "outputs_hidden": false
    }
   },
   "outputs": [
    {
     "data": {
      "application/vnd.plotly.v1+json": {
       "config": {
        "plotlyServerURL": "https://plot.ly"
       },
       "data": [
        {
         "line": {
          "color": "blue"
         },
         "name": "total size",
         "type": "scatter",
         "x": [
          0,
          1,
          2,
          3,
          4,
          5,
          6,
          7,
          8,
          9,
          10,
          11,
          12,
          13,
          14,
          15,
          16,
          17,
          18,
          19,
          20,
          21,
          22,
          23,
          24,
          25,
          26,
          27,
          28,
          29,
          30,
          31,
          32,
          33,
          34,
          35,
          36,
          37,
          38,
          39,
          40,
          41,
          42,
          43,
          44,
          45,
          46,
          47,
          48,
          49,
          50,
          51,
          52,
          53,
          54,
          55,
          56,
          57,
          58,
          59,
          60,
          61,
          62,
          63,
          64,
          65,
          66,
          67,
          68,
          69,
          70,
          71,
          72,
          73,
          74,
          75,
          76,
          77,
          78,
          79,
          80,
          81,
          82,
          83,
          84,
          85,
          86,
          87,
          88,
          89,
          90,
          91,
          92,
          93,
          94,
          95,
          96,
          97,
          98,
          99,
          100,
          101,
          102,
          103,
          104,
          105,
          106,
          107,
          108,
          109,
          110,
          111,
          112,
          113,
          114,
          115,
          116,
          117,
          118,
          119,
          120,
          121,
          122,
          123,
          124,
          125,
          126,
          127,
          128,
          129,
          130,
          131,
          132,
          133,
          134,
          135,
          136,
          137,
          138,
          139,
          140,
          141,
          142,
          143,
          144,
          145,
          146,
          147,
          148,
          149,
          150,
          151,
          152,
          153,
          154,
          155,
          156,
          157,
          158,
          159,
          160,
          161,
          162,
          163,
          164,
          165,
          166,
          167,
          168,
          169,
          170,
          171,
          172,
          173,
          174,
          175,
          176,
          177,
          178,
          179,
          180,
          181,
          182,
          183,
          184,
          185,
          186,
          187,
          188,
          189,
          190,
          191,
          192,
          193,
          194,
          195,
          196,
          197,
          198,
          199,
          200,
          201,
          202,
          203,
          204,
          205,
          206,
          207,
          208,
          209,
          210,
          211,
          212,
          213,
          214,
          215,
          216,
          217,
          218,
          219,
          220,
          221,
          222,
          223,
          224,
          225,
          226,
          227,
          228,
          229,
          230,
          231,
          232,
          233,
          234,
          235,
          236,
          237,
          238,
          239,
          240,
          241,
          242,
          243,
          244,
          245,
          246,
          247,
          248,
          249,
          250,
          251,
          252,
          253,
          254,
          255,
          256,
          257,
          258,
          259,
          260,
          261,
          262,
          263,
          264,
          265,
          266,
          267,
          268,
          269,
          270,
          271,
          272,
          273,
          274
         ],
         "y": [
          0.060985141899849785,
          0.031845969419266776,
          0.012758291187660394,
          0.09143981583163939,
          0.03530146624194245,
          0.04510652622858751,
          0.01947762090562956,
          0.04820366199342277,
          0.06307388624132335,
          0.05603693464484869,
          0.04553463769953169,
          0.02806826272366933,
          0.10019697973617372,
          0.04026866116058201,
          0.05092478489860716,
          0.059430991036275,
          0.003986524931419617,
          0.050822199923054354,
          0.023068288519621873,
          0.033988608875871344,
          0.06258768781296017,
          0.09394662043540618,
          0.09429217564537787,
          0.023143142846192736,
          0.0664703471840401,
          0.05314084147871244,
          0.018592653902337993,
          0.0443711020473142,
          0.032274504680859836,
          0.009586402437496408,
          0.02996028528849456,
          0.03545369921329715,
          0.07731566580827563,
          0.03622277789979672,
          0.05141442892920264,
          0.05260703109223011,
          0.12990915402542155,
          0.018593501483635783,
          0.04307355642164443,
          0.15115268292646974,
          0.1433340586909512,
          0.023567071687689133,
          0.05740728934656641,
          0.11786525410487307,
          0.10671763455537357,
          0.07606609144149255,
          0.16742747836456606,
          0.08088437922408723,
          0.09532926506594182,
          0.07684763510077372,
          0.12077024687463607,
          0.04566705385163052,
          0.08752345589113224,
          0.09507311125720627,
          0.1094085854089248,
          0.027307576934585884,
          0.026157252495205636,
          0.05070599836969579,
          0.049311948243000815,
          0.005929558992395353,
          0.014748734524271043,
          0.005842516078248706,
          0.00747263602205775,
          0.043859439328656644,
          0.010636002895042901,
          0.021334643890560303,
          0.02673853664720423,
          0.018256081211554812,
          0.038454855608998216,
          0.025103718154896586,
          0.041371659239889086,
          0.014492921590622657,
          0.032215201628535334,
          0.018519540802563673,
          0.031366367384482036,
          0.036162866800019455,
          0.005674096146674312,
          0.06713273196826065,
          0.04120473178842601,
          0.03145521601530658,
          0.05236477024650611,
          0.036174521042864026,
          0.04149100237175357,
          0.00962078475709794,
          0.005511268409097276,
          0.0033679287766380057,
          0.057089169974690476,
          0.060076332066137876,
          0.053645216840777055,
          0.07505961628889106,
          0.08404670504613053,
          0.11453699581810757,
          0.040796704309103315,
          0.03026707286693268,
          0.05372975386239112,
          0.0598097032581025,
          0.11452723942034283,
          0.054059628818353744,
          0.0891744060666184,
          0.07891412122034018,
          0.08183357814920673,
          0.07129775567842617,
          0.07642612923624817,
          0.0850218012650335,
          0.04767244041503476,
          0.046539795415985526,
          0.03155331433768523,
          0.10008112827074252,
          0.44699294738657513,
          0.3343221873935917,
          0.02242280008431591,
          0.019782869939755393,
          0.024869057902332098,
          0.015531079700649023,
          0.04845551340578802,
          0.03131343961757131,
          0.07845619699853036,
          0.0697597733493907,
          0.05763173255935648,
          0.06248745211165667,
          0.016808172821089592,
          0.03616772196680134,
          0.0781863897606283,
          0.15227234703368658,
          0.04753616408289492,
          0.08224062906746893,
          0.020542275144051967,
          0.11092908176727333,
          0.03251062056217487,
          0.06306214908291703,
          0.05682056040601355,
          0.08293662229271477,
          0.05722127289022274,
          0.08054058366659247,
          0.04179887706533451,
          0.06512214015014718,
          0.051810369162191686,
          0.03543556834379666,
          0.028743250673274354,
          0.05709116916101243,
          0.031464299875737206,
          0.06427400608194857,
          0.06697545036048001,
          0.13097116417870844,
          0.09273326174342313,
          0.03884334265427085,
          0.07522892065312402,
          0.025282788129734474,
          0.11206732817316012,
          0.13610476141692007,
          0.17390687808538013,
          0.08674842570986777,
          0.11556588581089944,
          0.033479967968797215,
          0.0603652651602813,
          0.06918357468517883,
          0.04824345225021778,
          0.04943600834904429,
          0.12702627207212253,
          0.029674604326939375,
          0.1084552314928781,
          0.01992888424397959,
          0.05480068204498519,
          0.1118834490957413,
          0.023149582621487877,
          0.03687144476496938,
          0.04815748723837376,
          0.09010112566166617,
          0.04932297601271224,
          0.07396326988020359,
          0.02275136681697108,
          0.09584563554593815,
          0.06579565404532127,
          0.04185971866197131,
          0.0003396313537273678,
          0,
          0.10520174461712173,
          0.02454101630156795,
          0.14774214476393754,
          0.05671818732578519,
          0.07854028259097495,
          0.062315909027256734,
          0.11861274710679964,
          0.09211630547419593,
          0.07837408295388715,
          0.12931740408696332,
          0.13806267421480806,
          0.051601541713529306,
          0.0504923710312927,
          0.047698098174973204,
          0.10566807094918787,
          0.02732322033723417,
          0.053605205475817395,
          0.045363610534182586,
          0.0060106596246172995,
          0.008390198053953342,
          0.08510634749948776,
          0.05850741301973317,
          0.0839651621975793,
          0.04945499601268276,
          0.02357738085586548,
          0.05054026858745786,
          0.028494080197405364,
          0.11023152235919463,
          0.028477506297897553,
          0.11631317613034178,
          0.017543117934672853,
          0.04814103310578846,
          0.0423832106674371,
          0.09212468915877187,
          0.1517352660889356,
          0.11238404719332665,
          0.29245568808123806,
          0.14581163095278454,
          0.1127279993691047,
          0.18652998005604352,
          0.4447877803835784,
          0.5223579232636744,
          1,
          0.19374806530355937,
          0.2284634751422831,
          0.033317683788791574,
          0.022959337471495467,
          0.01883896839774705,
          0.033065141413411825,
          0.07224694539070549,
          0.058111684682068565,
          0.04638561853535003,
          0.020668776652746676,
          0.07165105888700045,
          0.0322314254401158,
          0.10446901058518487,
          0.10553909118648115,
          0.07076990599954894,
          0.016454915676716277,
          0.02416369521860964,
          0.0070520790800721106,
          0.03323126734777808,
          0.00723373786300433,
          0.04001890106294065,
          0.1415016247764965,
          0.024127765141855623,
          0.023786466264053265,
          0.024684423372017435,
          0.04205042445397338,
          0.044895128397511204,
          0.14051357530428168,
          0.01615951516875712,
          0.03834516753365634,
          0.02832344918418457,
          0.16973441961317862,
          0.008819350575839364,
          0.020078371788956675,
          0.05091133415192489,
          0.0777124075583615,
          0.07266966735013655,
          0.09915171852635829,
          0.04474880085672043,
          0.09318727050815077,
          0.0639887396982021,
          0.03438893442079242,
          0.12918734642195398,
          0.19074754459383164,
          0.07334877343930801,
          0.07255988714639275,
          0.02080473053547975,
          0.08921725498635762,
          0.03367903901969484,
          0.15807782749435803,
          0.1611994509884272,
          0.0129323678031135,
          0.18455566840261142,
          0.13401360331131587,
          0.3048195775802217,
          0.4719592652428283
         ]
        },
        {
         "line": {
          "color": "orange"
         },
         "name": "WAP",
         "type": "scatter",
         "x": [
          0,
          1,
          2,
          3,
          4,
          5,
          6,
          7,
          8,
          9,
          10,
          11,
          12,
          13,
          14,
          15,
          16,
          17,
          18,
          19,
          20,
          21,
          22,
          23,
          24,
          25,
          26,
          27,
          28,
          29,
          30,
          31,
          32,
          33,
          34,
          35,
          36,
          37,
          38,
          39,
          40,
          41,
          42,
          43,
          44,
          45,
          46,
          47,
          48,
          49,
          50,
          51,
          52,
          53,
          54,
          55,
          56,
          57,
          58,
          59,
          60,
          61,
          62,
          63,
          64,
          65,
          66,
          67,
          68,
          69,
          70,
          71,
          72,
          73,
          74,
          75,
          76,
          77,
          78,
          79,
          80,
          81,
          82,
          83,
          84,
          85,
          86,
          87,
          88,
          89,
          90,
          91,
          92,
          93,
          94,
          95,
          96,
          97,
          98,
          99,
          100,
          101,
          102,
          103,
          104,
          105,
          106,
          107,
          108,
          109,
          110,
          111,
          112,
          113,
          114,
          115,
          116,
          117,
          118,
          119,
          120,
          121,
          122,
          123,
          124,
          125,
          126,
          127,
          128,
          129,
          130,
          131,
          132,
          133,
          134,
          135,
          136,
          137,
          138,
          139,
          140,
          141,
          142,
          143,
          144,
          145,
          146,
          147,
          148,
          149,
          150,
          151,
          152,
          153,
          154,
          155,
          156,
          157,
          158,
          159,
          160,
          161,
          162,
          163,
          164,
          165,
          166,
          167,
          168,
          169,
          170,
          171,
          172,
          173,
          174,
          175,
          176,
          177,
          178,
          179,
          180,
          181,
          182,
          183,
          184,
          185,
          186,
          187,
          188,
          189,
          190,
          191,
          192,
          193,
          194,
          195,
          196,
          197,
          198,
          199,
          200,
          201,
          202,
          203,
          204,
          205,
          206,
          207,
          208,
          209,
          210,
          211,
          212,
          213,
          214,
          215,
          216,
          217,
          218,
          219,
          220,
          221,
          222,
          223,
          224,
          225,
          226,
          227,
          228,
          229,
          230,
          231,
          232,
          233,
          234,
          235,
          236,
          237,
          238,
          239,
          240,
          241,
          242,
          243,
          244,
          245,
          246,
          247,
          248,
          249,
          250,
          251,
          252,
          253,
          254,
          255,
          256,
          257,
          258,
          259,
          260,
          261,
          262,
          263,
          264,
          265,
          266,
          267,
          268,
          269,
          270,
          271,
          272,
          273,
          274
         ],
         "y": [
          0.4890029325513189,
          0.4692082111436948,
          0.4600439882697956,
          0.5045821114369293,
          0.5471041055718283,
          0.5685483870967815,
          0.5837609970674661,
          0.56616568914956,
          0.5161290322580704,
          0.567082111436956,
          0.5368401759530905,
          0.49670087976541294,
          0.46975806451612434,
          0.4820381231671579,
          0.45711143695014456,
          0.4499633431085003,
          0.4147727272727288,
          0.396260997067447,
          0.42833577712610454,
          0.44409824046919827,
          0.3594208211143667,
          0.34805718475072916,
          0.3443914956011654,
          0.3498900293255212,
          0.41532258064515826,
          0.3623533724340177,
          0.3641862170087894,
          0.35997067448679615,
          0.4565615835777151,
          0.5604838709677209,
          0.5152126099706744,
          0.46535923753664776,
          0.45711143695014456,
          0.4479472140762453,
          0.34915689149560847,
          0.3244134897360784,
          0.30388563049854167,
          0.35703812316714517,
          0.35520527859237344,
          0.3504398826979507,
          0.3511730205278635,
          0.3104838709677361,
          0.27785923753664904,
          0.29233870967742087,
          0.3024193548387162,
          0.34824046920821244,
          0.38874633431085653,
          0.3718841642228835,
          0.39222873900293703,
          0.3684017595307827,
          0.3836143695014672,
          0.41184017595307776,
          0.3837976539589505,
          0.3891129032258027,
          0.374450146627568,
          0.4890029325513189,
          0.33779325513197095,
          0.20289589442814623,
          0.13068181818181113,
          0.21902492668622683,
          0.2199413489736025,
          0.19079912023459594,
          0.2587976539589378,
          0.25219941348974334,
          0.18548387096774374,
          0.18988269794722026,
          0.25549853372434056,
          0.20546187683285103,
          0.20124633431085778,
          0.20931085043987774,
          0.27254398826979687,
          0.2483504398826963,
          0.2534824046920856,
          0.2663123167155486,
          0.27309384164222633,
          0.3082844574779978,
          0.24871700879766284,
          0.19244868035190474,
          0.27437683284456854,
          0.3150659824046959,
          0.3522727272727224,
          0.3519061583577762,
          0.3493401759530714,
          0.38306451612903775,
          0.4354838709677488,
          0.3964442815249303,
          0.39149560117302423,
          0.34677419354838696,
          0.3275293255131924,
          0.32661290322579634,
          0.3016862170088034,
          0.30333577712609183,
          0.3475073313782997,
          0.3728005865102592,
          0.3310117302052729,
          0.3355938416422327,
          0.2793255131964746,
          0.29343841642227986,
          0.3046187683284544,
          0.3267961876832796,
          0.35062316715543396,
          0.34860703812315863,
          0.3359604105571789,
          0.410190615835769,
          0.4008431085044068,
          0.35172287390029294,
          0.34695747800587023,
          0.3684017595307827,
          0.40505865102640004,
          0.4413489736070305,
          0.4890029325513189,
          0.4472140762463325,
          0.42118768328446027,
          0.394244868035192,
          0.37701612903225246,
          0.37609970674487675,
          0.2897727272727364,
          0.38746334310849395,
          0.4030425219941247,
          0.4528958944281513,
          0.4364002932551245,
          0.45472873900292304,
          0.43071847507330574,
          0.401209677419353,
          0.40505865102640004,
          0.39552785923753425,
          0.40505865102640004,
          0.4129398826979367,
          0.38837976539589,
          0.3881964809384067,
          0.250183284457468,
          0.24230205278593134,
          0.18218475073314652,
          0.17027126099705917,
          0.21242668621701202,
          0.21719208211143476,
          0.21187683284458256,
          0.19153225806450871,
          0.25898093841642106,
          0.3000366568914946,
          0.2784090909090989,
          0.23735337243402532,
          0.18969941348973698,
          0.17155425219942175,
          0.1812683284457505,
          0.2782258064516156,
          0.27950879765395786,
          0.33174486803518566,
          0.3335777126099777,
          0.22873900293255556,
          0.20931085043987774,
          0.2314882697947233,
          0.21480938416421322,
          0.1801686217008712,
          0.22085777126099854,
          0.2199413489736025,
          0.23075513196481054,
          0.2314882697947233,
          0.23515395894428706,
          0.20729472140762276,
          0.23515395894428706,
          0.2817082111436961,
          0.3000366568914946,
          0.2965542521994141,
          0.2380865102639381,
          0.4890029325513189,
          0.4750733137829969,
          0.46022727272727887,
          0.39901026392961475,
          0.48735337243401006,
          0.41898826979472203,
          0.41678885630498375,
          0.4296187683284468,
          0.4483137829911915,
          0.3940615835777087,
          0.3973607038123263,
          0.4462976539589365,
          0.4321847507331313,
          0.4446480938416481,
          0.44923020527858754,
          0.44684750733138634,
          0.4266862170087958,
          0.41330645161290325,
          0.425036656891487,
          0.43878299120234604,
          0.4439149560117353,
          0.44428152492668155,
          0.3453079178885614,
          0.3454912023460447,
          0.3627199413489639,
          0.3799486803519035,
          0.2956378299120181,
          0.25458211143694454,
          0.18804985337242822,
          0.07368035190616061,
          0.2553152492668573,
          0.14552785923752914,
          0.20729472140762276,
          0.2479838709677501,
          0.29288856304985034,
          0.2404692082111393,
          0.1940982404692135,
          0.19739736070381073,
          0.19171554252199197,
          0.11565249266863019,
          0.16825513196480418,
          0.1508431085044017,
          0.12408357771261669,
          0.13929618768328092,
          0.11986803519062343,
          0.14699413489735466,
          0.07569648093841559,
          0.07936217008797937,
          0,
          0.10758797653958989,
          0.1691715542522002,
          0.19666422287389798,
          0.18530058651026046,
          0.1950146627565892,
          0.17870234604106602,
          0.4890029325513189,
          0.5034824046920703,
          0.612536656891506,
          0.5612170087976539,
          0.6118035190615729,
          0.6099706744868216,
          0.6326979472140559,
          0.8178152492668739,
          0.8627199413489537,
          0.8995601173020544,
          0.8586876832844438,
          0.8387096774193568,
          0.8856304985337324,
          0.8625366568914908,
          0.9074413489736114,
          0.8966275659824033,
          0.8935117302052894,
          0.97525659824047,
          1,
          0.8957111436950074,
          0.645344574780056,
          0.6134530791789021,
          0.7626466275659747,
          0.7454178885630351,
          0.7316715542522167,
          0.7347873900293307,
          0.6873167155425256,
          0.599706744868043,
          0.564149560117305,
          0.5399560117302045,
          0.4976173020527683,
          0.5566348973607145,
          0.3995601173020442,
          0.4056085043988295,
          0.397177419354843,
          0.518511730205292,
          0.5159457478005668,
          0.42540322580645357,
          0.40707478005865505,
          0.49890029325513086,
          0.5119134897360568,
          0.5179618768328624,
          0.5606671554252245,
          0.4360337243401783,
          0.47360703812317134,
          0.5386730205278418,
          0.5298753665689295,
          0.503665689149574,
          0.4433651026392855,
          0.5208944281524728,
          0.5256598240469159,
          0.5238269794721239,
          0.5218108504398689,
          0.5188782991202178,
          0.5177785923753588
         ]
        }
       ],
       "layout": {
        "template": {
         "data": {
          "bar": [
           {
            "error_x": {
             "color": "#2a3f5f"
            },
            "error_y": {
             "color": "#2a3f5f"
            },
            "marker": {
             "line": {
              "color": "#E5ECF6",
              "width": 0.5
             },
             "pattern": {
              "fillmode": "overlay",
              "size": 10,
              "solidity": 0.2
             }
            },
            "type": "bar"
           }
          ],
          "barpolar": [
           {
            "marker": {
             "line": {
              "color": "#E5ECF6",
              "width": 0.5
             },
             "pattern": {
              "fillmode": "overlay",
              "size": 10,
              "solidity": 0.2
             }
            },
            "type": "barpolar"
           }
          ],
          "carpet": [
           {
            "aaxis": {
             "endlinecolor": "#2a3f5f",
             "gridcolor": "white",
             "linecolor": "white",
             "minorgridcolor": "white",
             "startlinecolor": "#2a3f5f"
            },
            "baxis": {
             "endlinecolor": "#2a3f5f",
             "gridcolor": "white",
             "linecolor": "white",
             "minorgridcolor": "white",
             "startlinecolor": "#2a3f5f"
            },
            "type": "carpet"
           }
          ],
          "choropleth": [
           {
            "colorbar": {
             "outlinewidth": 0,
             "ticks": ""
            },
            "type": "choropleth"
           }
          ],
          "contour": [
           {
            "colorbar": {
             "outlinewidth": 0,
             "ticks": ""
            },
            "colorscale": [
             [
              0,
              "#0d0887"
             ],
             [
              0.1111111111111111,
              "#46039f"
             ],
             [
              0.2222222222222222,
              "#7201a8"
             ],
             [
              0.3333333333333333,
              "#9c179e"
             ],
             [
              0.4444444444444444,
              "#bd3786"
             ],
             [
              0.5555555555555556,
              "#d8576b"
             ],
             [
              0.6666666666666666,
              "#ed7953"
             ],
             [
              0.7777777777777778,
              "#fb9f3a"
             ],
             [
              0.8888888888888888,
              "#fdca26"
             ],
             [
              1,
              "#f0f921"
             ]
            ],
            "type": "contour"
           }
          ],
          "contourcarpet": [
           {
            "colorbar": {
             "outlinewidth": 0,
             "ticks": ""
            },
            "type": "contourcarpet"
           }
          ],
          "heatmap": [
           {
            "colorbar": {
             "outlinewidth": 0,
             "ticks": ""
            },
            "colorscale": [
             [
              0,
              "#0d0887"
             ],
             [
              0.1111111111111111,
              "#46039f"
             ],
             [
              0.2222222222222222,
              "#7201a8"
             ],
             [
              0.3333333333333333,
              "#9c179e"
             ],
             [
              0.4444444444444444,
              "#bd3786"
             ],
             [
              0.5555555555555556,
              "#d8576b"
             ],
             [
              0.6666666666666666,
              "#ed7953"
             ],
             [
              0.7777777777777778,
              "#fb9f3a"
             ],
             [
              0.8888888888888888,
              "#fdca26"
             ],
             [
              1,
              "#f0f921"
             ]
            ],
            "type": "heatmap"
           }
          ],
          "heatmapgl": [
           {
            "colorbar": {
             "outlinewidth": 0,
             "ticks": ""
            },
            "colorscale": [
             [
              0,
              "#0d0887"
             ],
             [
              0.1111111111111111,
              "#46039f"
             ],
             [
              0.2222222222222222,
              "#7201a8"
             ],
             [
              0.3333333333333333,
              "#9c179e"
             ],
             [
              0.4444444444444444,
              "#bd3786"
             ],
             [
              0.5555555555555556,
              "#d8576b"
             ],
             [
              0.6666666666666666,
              "#ed7953"
             ],
             [
              0.7777777777777778,
              "#fb9f3a"
             ],
             [
              0.8888888888888888,
              "#fdca26"
             ],
             [
              1,
              "#f0f921"
             ]
            ],
            "type": "heatmapgl"
           }
          ],
          "histogram": [
           {
            "marker": {
             "pattern": {
              "fillmode": "overlay",
              "size": 10,
              "solidity": 0.2
             }
            },
            "type": "histogram"
           }
          ],
          "histogram2d": [
           {
            "colorbar": {
             "outlinewidth": 0,
             "ticks": ""
            },
            "colorscale": [
             [
              0,
              "#0d0887"
             ],
             [
              0.1111111111111111,
              "#46039f"
             ],
             [
              0.2222222222222222,
              "#7201a8"
             ],
             [
              0.3333333333333333,
              "#9c179e"
             ],
             [
              0.4444444444444444,
              "#bd3786"
             ],
             [
              0.5555555555555556,
              "#d8576b"
             ],
             [
              0.6666666666666666,
              "#ed7953"
             ],
             [
              0.7777777777777778,
              "#fb9f3a"
             ],
             [
              0.8888888888888888,
              "#fdca26"
             ],
             [
              1,
              "#f0f921"
             ]
            ],
            "type": "histogram2d"
           }
          ],
          "histogram2dcontour": [
           {
            "colorbar": {
             "outlinewidth": 0,
             "ticks": ""
            },
            "colorscale": [
             [
              0,
              "#0d0887"
             ],
             [
              0.1111111111111111,
              "#46039f"
             ],
             [
              0.2222222222222222,
              "#7201a8"
             ],
             [
              0.3333333333333333,
              "#9c179e"
             ],
             [
              0.4444444444444444,
              "#bd3786"
             ],
             [
              0.5555555555555556,
              "#d8576b"
             ],
             [
              0.6666666666666666,
              "#ed7953"
             ],
             [
              0.7777777777777778,
              "#fb9f3a"
             ],
             [
              0.8888888888888888,
              "#fdca26"
             ],
             [
              1,
              "#f0f921"
             ]
            ],
            "type": "histogram2dcontour"
           }
          ],
          "mesh3d": [
           {
            "colorbar": {
             "outlinewidth": 0,
             "ticks": ""
            },
            "type": "mesh3d"
           }
          ],
          "parcoords": [
           {
            "line": {
             "colorbar": {
              "outlinewidth": 0,
              "ticks": ""
             }
            },
            "type": "parcoords"
           }
          ],
          "pie": [
           {
            "automargin": true,
            "type": "pie"
           }
          ],
          "scatter": [
           {
            "fillpattern": {
             "fillmode": "overlay",
             "size": 10,
             "solidity": 0.2
            },
            "type": "scatter"
           }
          ],
          "scatter3d": [
           {
            "line": {
             "colorbar": {
              "outlinewidth": 0,
              "ticks": ""
             }
            },
            "marker": {
             "colorbar": {
              "outlinewidth": 0,
              "ticks": ""
             }
            },
            "type": "scatter3d"
           }
          ],
          "scattercarpet": [
           {
            "marker": {
             "colorbar": {
              "outlinewidth": 0,
              "ticks": ""
             }
            },
            "type": "scattercarpet"
           }
          ],
          "scattergeo": [
           {
            "marker": {
             "colorbar": {
              "outlinewidth": 0,
              "ticks": ""
             }
            },
            "type": "scattergeo"
           }
          ],
          "scattergl": [
           {
            "marker": {
             "colorbar": {
              "outlinewidth": 0,
              "ticks": ""
             }
            },
            "type": "scattergl"
           }
          ],
          "scattermapbox": [
           {
            "marker": {
             "colorbar": {
              "outlinewidth": 0,
              "ticks": ""
             }
            },
            "type": "scattermapbox"
           }
          ],
          "scatterpolar": [
           {
            "marker": {
             "colorbar": {
              "outlinewidth": 0,
              "ticks": ""
             }
            },
            "type": "scatterpolar"
           }
          ],
          "scatterpolargl": [
           {
            "marker": {
             "colorbar": {
              "outlinewidth": 0,
              "ticks": ""
             }
            },
            "type": "scatterpolargl"
           }
          ],
          "scatterternary": [
           {
            "marker": {
             "colorbar": {
              "outlinewidth": 0,
              "ticks": ""
             }
            },
            "type": "scatterternary"
           }
          ],
          "surface": [
           {
            "colorbar": {
             "outlinewidth": 0,
             "ticks": ""
            },
            "colorscale": [
             [
              0,
              "#0d0887"
             ],
             [
              0.1111111111111111,
              "#46039f"
             ],
             [
              0.2222222222222222,
              "#7201a8"
             ],
             [
              0.3333333333333333,
              "#9c179e"
             ],
             [
              0.4444444444444444,
              "#bd3786"
             ],
             [
              0.5555555555555556,
              "#d8576b"
             ],
             [
              0.6666666666666666,
              "#ed7953"
             ],
             [
              0.7777777777777778,
              "#fb9f3a"
             ],
             [
              0.8888888888888888,
              "#fdca26"
             ],
             [
              1,
              "#f0f921"
             ]
            ],
            "type": "surface"
           }
          ],
          "table": [
           {
            "cells": {
             "fill": {
              "color": "#EBF0F8"
             },
             "line": {
              "color": "white"
             }
            },
            "header": {
             "fill": {
              "color": "#C8D4E3"
             },
             "line": {
              "color": "white"
             }
            },
            "type": "table"
           }
          ]
         },
         "layout": {
          "annotationdefaults": {
           "arrowcolor": "#2a3f5f",
           "arrowhead": 0,
           "arrowwidth": 1
          },
          "autotypenumbers": "strict",
          "coloraxis": {
           "colorbar": {
            "outlinewidth": 0,
            "ticks": ""
           }
          },
          "colorscale": {
           "diverging": [
            [
             0,
             "#8e0152"
            ],
            [
             0.1,
             "#c51b7d"
            ],
            [
             0.2,
             "#de77ae"
            ],
            [
             0.3,
             "#f1b6da"
            ],
            [
             0.4,
             "#fde0ef"
            ],
            [
             0.5,
             "#f7f7f7"
            ],
            [
             0.6,
             "#e6f5d0"
            ],
            [
             0.7,
             "#b8e186"
            ],
            [
             0.8,
             "#7fbc41"
            ],
            [
             0.9,
             "#4d9221"
            ],
            [
             1,
             "#276419"
            ]
           ],
           "sequential": [
            [
             0,
             "#0d0887"
            ],
            [
             0.1111111111111111,
             "#46039f"
            ],
            [
             0.2222222222222222,
             "#7201a8"
            ],
            [
             0.3333333333333333,
             "#9c179e"
            ],
            [
             0.4444444444444444,
             "#bd3786"
            ],
            [
             0.5555555555555556,
             "#d8576b"
            ],
            [
             0.6666666666666666,
             "#ed7953"
            ],
            [
             0.7777777777777778,
             "#fb9f3a"
            ],
            [
             0.8888888888888888,
             "#fdca26"
            ],
            [
             1,
             "#f0f921"
            ]
           ],
           "sequentialminus": [
            [
             0,
             "#0d0887"
            ],
            [
             0.1111111111111111,
             "#46039f"
            ],
            [
             0.2222222222222222,
             "#7201a8"
            ],
            [
             0.3333333333333333,
             "#9c179e"
            ],
            [
             0.4444444444444444,
             "#bd3786"
            ],
            [
             0.5555555555555556,
             "#d8576b"
            ],
            [
             0.6666666666666666,
             "#ed7953"
            ],
            [
             0.7777777777777778,
             "#fb9f3a"
            ],
            [
             0.8888888888888888,
             "#fdca26"
            ],
            [
             1,
             "#f0f921"
            ]
           ]
          },
          "colorway": [
           "#636efa",
           "#EF553B",
           "#00cc96",
           "#ab63fa",
           "#FFA15A",
           "#19d3f3",
           "#FF6692",
           "#B6E880",
           "#FF97FF",
           "#FECB52"
          ],
          "font": {
           "color": "#2a3f5f"
          },
          "geo": {
           "bgcolor": "white",
           "lakecolor": "white",
           "landcolor": "#E5ECF6",
           "showlakes": true,
           "showland": true,
           "subunitcolor": "white"
          },
          "hoverlabel": {
           "align": "left"
          },
          "hovermode": "closest",
          "mapbox": {
           "style": "light"
          },
          "paper_bgcolor": "white",
          "plot_bgcolor": "#E5ECF6",
          "polar": {
           "angularaxis": {
            "gridcolor": "white",
            "linecolor": "white",
            "ticks": ""
           },
           "bgcolor": "#E5ECF6",
           "radialaxis": {
            "gridcolor": "white",
            "linecolor": "white",
            "ticks": ""
           }
          },
          "scene": {
           "xaxis": {
            "backgroundcolor": "#E5ECF6",
            "gridcolor": "white",
            "gridwidth": 2,
            "linecolor": "white",
            "showbackground": true,
            "ticks": "",
            "zerolinecolor": "white"
           },
           "yaxis": {
            "backgroundcolor": "#E5ECF6",
            "gridcolor": "white",
            "gridwidth": 2,
            "linecolor": "white",
            "showbackground": true,
            "ticks": "",
            "zerolinecolor": "white"
           },
           "zaxis": {
            "backgroundcolor": "#E5ECF6",
            "gridcolor": "white",
            "gridwidth": 2,
            "linecolor": "white",
            "showbackground": true,
            "ticks": "",
            "zerolinecolor": "white"
           }
          },
          "shapedefaults": {
           "line": {
            "color": "#2a3f5f"
           }
          },
          "ternary": {
           "aaxis": {
            "gridcolor": "white",
            "linecolor": "white",
            "ticks": ""
           },
           "baxis": {
            "gridcolor": "white",
            "linecolor": "white",
            "ticks": ""
           },
           "bgcolor": "#E5ECF6",
           "caxis": {
            "gridcolor": "white",
            "linecolor": "white",
            "ticks": ""
           }
          },
          "title": {
           "x": 0.05
          },
          "xaxis": {
           "automargin": true,
           "gridcolor": "white",
           "linecolor": "white",
           "ticks": "",
           "title": {
            "standoff": 15
           },
           "zerolinecolor": "white",
           "zerolinewidth": 2
          },
          "yaxis": {
           "automargin": true,
           "gridcolor": "white",
           "linecolor": "white",
           "ticks": "",
           "title": {
            "standoff": 15
           },
           "zerolinecolor": "white",
           "zerolinewidth": 2
          }
         }
        },
        "title": {
         "text": "Overview for Normalized Total Sizes and WAP for 5 days"
        }
       }
      },
      "text/html": [
       "<div>                            <div id=\"e52877f7-7223-44ea-9ace-f9acfc376a69\" class=\"plotly-graph-div\" style=\"height:525px; width:100%;\"></div>            <script type=\"text/javascript\">                require([\"plotly\"], function(Plotly) {                    window.PLOTLYENV=window.PLOTLYENV || {};                                    if (document.getElementById(\"e52877f7-7223-44ea-9ace-f9acfc376a69\")) {                    Plotly.newPlot(                        \"e52877f7-7223-44ea-9ace-f9acfc376a69\",                        [{\"line\":{\"color\":\"blue\"},\"name\":\"total size\",\"x\":[0,1,2,3,4,5,6,7,8,9,10,11,12,13,14,15,16,17,18,19,20,21,22,23,24,25,26,27,28,29,30,31,32,33,34,35,36,37,38,39,40,41,42,43,44,45,46,47,48,49,50,51,52,53,54,55,56,57,58,59,60,61,62,63,64,65,66,67,68,69,70,71,72,73,74,75,76,77,78,79,80,81,82,83,84,85,86,87,88,89,90,91,92,93,94,95,96,97,98,99,100,101,102,103,104,105,106,107,108,109,110,111,112,113,114,115,116,117,118,119,120,121,122,123,124,125,126,127,128,129,130,131,132,133,134,135,136,137,138,139,140,141,142,143,144,145,146,147,148,149,150,151,152,153,154,155,156,157,158,159,160,161,162,163,164,165,166,167,168,169,170,171,172,173,174,175,176,177,178,179,180,181,182,183,184,185,186,187,188,189,190,191,192,193,194,195,196,197,198,199,200,201,202,203,204,205,206,207,208,209,210,211,212,213,214,215,216,217,218,219,220,221,222,223,224,225,226,227,228,229,230,231,232,233,234,235,236,237,238,239,240,241,242,243,244,245,246,247,248,249,250,251,252,253,254,255,256,257,258,259,260,261,262,263,264,265,266,267,268,269,270,271,272,273,274],\"y\":[0.060985141899849785,0.031845969419266776,0.012758291187660394,0.09143981583163939,0.03530146624194245,0.04510652622858751,0.01947762090562956,0.04820366199342277,0.06307388624132335,0.05603693464484869,0.04553463769953169,0.02806826272366933,0.10019697973617372,0.04026866116058201,0.05092478489860716,0.059430991036275,0.003986524931419617,0.050822199923054354,0.023068288519621873,0.033988608875871344,0.06258768781296017,0.09394662043540618,0.09429217564537787,0.023143142846192736,0.0664703471840401,0.05314084147871244,0.018592653902337993,0.0443711020473142,0.032274504680859836,0.009586402437496408,0.02996028528849456,0.03545369921329715,0.07731566580827563,0.03622277789979672,0.05141442892920264,0.05260703109223011,0.12990915402542155,0.018593501483635783,0.04307355642164443,0.15115268292646974,0.1433340586909512,0.023567071687689133,0.05740728934656641,0.11786525410487307,0.10671763455537357,0.07606609144149255,0.16742747836456606,0.08088437922408723,0.09532926506594182,0.07684763510077372,0.12077024687463607,0.04566705385163052,0.08752345589113224,0.09507311125720627,0.1094085854089248,0.027307576934585884,0.026157252495205636,0.05070599836969579,0.049311948243000815,0.005929558992395353,0.014748734524271043,0.005842516078248706,0.00747263602205775,0.043859439328656644,0.010636002895042901,0.021334643890560303,0.02673853664720423,0.018256081211554812,0.038454855608998216,0.025103718154896586,0.041371659239889086,0.014492921590622657,0.032215201628535334,0.018519540802563673,0.031366367384482036,0.036162866800019455,0.005674096146674312,0.06713273196826065,0.04120473178842601,0.03145521601530658,0.05236477024650611,0.036174521042864026,0.04149100237175357,0.00962078475709794,0.005511268409097276,0.0033679287766380057,0.057089169974690476,0.060076332066137876,0.053645216840777055,0.07505961628889106,0.08404670504613053,0.11453699581810757,0.040796704309103315,0.03026707286693268,0.05372975386239112,0.0598097032581025,0.11452723942034283,0.054059628818353744,0.0891744060666184,0.07891412122034018,0.08183357814920673,0.07129775567842617,0.07642612923624817,0.0850218012650335,0.04767244041503476,0.046539795415985526,0.03155331433768523,0.10008112827074252,0.44699294738657513,0.3343221873935917,0.02242280008431591,0.019782869939755393,0.024869057902332098,0.015531079700649023,0.04845551340578802,0.03131343961757131,0.07845619699853036,0.0697597733493907,0.05763173255935648,0.06248745211165667,0.016808172821089592,0.03616772196680134,0.0781863897606283,0.15227234703368658,0.04753616408289492,0.08224062906746893,0.020542275144051967,0.11092908176727333,0.03251062056217487,0.06306214908291703,0.05682056040601355,0.08293662229271477,0.05722127289022274,0.08054058366659247,0.04179887706533451,0.06512214015014718,0.051810369162191686,0.03543556834379666,0.028743250673274354,0.05709116916101243,0.031464299875737206,0.06427400608194857,0.06697545036048001,0.13097116417870844,0.09273326174342313,0.03884334265427085,0.07522892065312402,0.025282788129734474,0.11206732817316012,0.13610476141692007,0.17390687808538013,0.08674842570986777,0.11556588581089944,0.033479967968797215,0.0603652651602813,0.06918357468517883,0.04824345225021778,0.04943600834904429,0.12702627207212253,0.029674604326939375,0.1084552314928781,0.01992888424397959,0.05480068204498519,0.1118834490957413,0.023149582621487877,0.03687144476496938,0.04815748723837376,0.09010112566166617,0.04932297601271224,0.07396326988020359,0.02275136681697108,0.09584563554593815,0.06579565404532127,0.04185971866197131,0.0003396313537273678,0.0,0.10520174461712173,0.02454101630156795,0.14774214476393754,0.05671818732578519,0.07854028259097495,0.062315909027256734,0.11861274710679964,0.09211630547419593,0.07837408295388715,0.12931740408696332,0.13806267421480806,0.051601541713529306,0.0504923710312927,0.047698098174973204,0.10566807094918787,0.02732322033723417,0.053605205475817395,0.045363610534182586,0.0060106596246172995,0.008390198053953342,0.08510634749948776,0.05850741301973317,0.0839651621975793,0.04945499601268276,0.02357738085586548,0.05054026858745786,0.028494080197405364,0.11023152235919463,0.028477506297897553,0.11631317613034178,0.017543117934672853,0.04814103310578846,0.0423832106674371,0.09212468915877187,0.1517352660889356,0.11238404719332665,0.29245568808123806,0.14581163095278454,0.1127279993691047,0.18652998005604352,0.4447877803835784,0.5223579232636744,1.0,0.19374806530355937,0.2284634751422831,0.033317683788791574,0.022959337471495467,0.01883896839774705,0.033065141413411825,0.07224694539070549,0.058111684682068565,0.04638561853535003,0.020668776652746676,0.07165105888700045,0.0322314254401158,0.10446901058518487,0.10553909118648115,0.07076990599954894,0.016454915676716277,0.02416369521860964,0.0070520790800721106,0.03323126734777808,0.00723373786300433,0.04001890106294065,0.1415016247764965,0.024127765141855623,0.023786466264053265,0.024684423372017435,0.04205042445397338,0.044895128397511204,0.14051357530428168,0.01615951516875712,0.03834516753365634,0.02832344918418457,0.16973441961317862,0.008819350575839364,0.020078371788956675,0.05091133415192489,0.0777124075583615,0.07266966735013655,0.09915171852635829,0.04474880085672043,0.09318727050815077,0.0639887396982021,0.03438893442079242,0.12918734642195398,0.19074754459383164,0.07334877343930801,0.07255988714639275,0.02080473053547975,0.08921725498635762,0.03367903901969484,0.15807782749435803,0.1611994509884272,0.0129323678031135,0.18455566840261142,0.13401360331131587,0.3048195775802217,0.4719592652428283],\"type\":\"scatter\"},{\"line\":{\"color\":\"orange\"},\"name\":\"WAP\",\"x\":[0,1,2,3,4,5,6,7,8,9,10,11,12,13,14,15,16,17,18,19,20,21,22,23,24,25,26,27,28,29,30,31,32,33,34,35,36,37,38,39,40,41,42,43,44,45,46,47,48,49,50,51,52,53,54,55,56,57,58,59,60,61,62,63,64,65,66,67,68,69,70,71,72,73,74,75,76,77,78,79,80,81,82,83,84,85,86,87,88,89,90,91,92,93,94,95,96,97,98,99,100,101,102,103,104,105,106,107,108,109,110,111,112,113,114,115,116,117,118,119,120,121,122,123,124,125,126,127,128,129,130,131,132,133,134,135,136,137,138,139,140,141,142,143,144,145,146,147,148,149,150,151,152,153,154,155,156,157,158,159,160,161,162,163,164,165,166,167,168,169,170,171,172,173,174,175,176,177,178,179,180,181,182,183,184,185,186,187,188,189,190,191,192,193,194,195,196,197,198,199,200,201,202,203,204,205,206,207,208,209,210,211,212,213,214,215,216,217,218,219,220,221,222,223,224,225,226,227,228,229,230,231,232,233,234,235,236,237,238,239,240,241,242,243,244,245,246,247,248,249,250,251,252,253,254,255,256,257,258,259,260,261,262,263,264,265,266,267,268,269,270,271,272,273,274],\"y\":[0.4890029325513189,0.4692082111436948,0.4600439882697956,0.5045821114369293,0.5471041055718283,0.5685483870967815,0.5837609970674661,0.56616568914956,0.5161290322580704,0.567082111436956,0.5368401759530905,0.49670087976541294,0.46975806451612434,0.4820381231671579,0.45711143695014456,0.4499633431085003,0.4147727272727288,0.396260997067447,0.42833577712610454,0.44409824046919827,0.3594208211143667,0.34805718475072916,0.3443914956011654,0.3498900293255212,0.41532258064515826,0.3623533724340177,0.3641862170087894,0.35997067448679615,0.4565615835777151,0.5604838709677209,0.5152126099706744,0.46535923753664776,0.45711143695014456,0.4479472140762453,0.34915689149560847,0.3244134897360784,0.30388563049854167,0.35703812316714517,0.35520527859237344,0.3504398826979507,0.3511730205278635,0.3104838709677361,0.27785923753664904,0.29233870967742087,0.3024193548387162,0.34824046920821244,0.38874633431085653,0.3718841642228835,0.39222873900293703,0.3684017595307827,0.3836143695014672,0.41184017595307776,0.3837976539589505,0.3891129032258027,0.374450146627568,0.4890029325513189,0.33779325513197095,0.20289589442814623,0.13068181818181113,0.21902492668622683,0.2199413489736025,0.19079912023459594,0.2587976539589378,0.25219941348974334,0.18548387096774374,0.18988269794722026,0.25549853372434056,0.20546187683285103,0.20124633431085778,0.20931085043987774,0.27254398826979687,0.2483504398826963,0.2534824046920856,0.2663123167155486,0.27309384164222633,0.3082844574779978,0.24871700879766284,0.19244868035190474,0.27437683284456854,0.3150659824046959,0.3522727272727224,0.3519061583577762,0.3493401759530714,0.38306451612903775,0.4354838709677488,0.3964442815249303,0.39149560117302423,0.34677419354838696,0.3275293255131924,0.32661290322579634,0.3016862170088034,0.30333577712609183,0.3475073313782997,0.3728005865102592,0.3310117302052729,0.3355938416422327,0.2793255131964746,0.29343841642227986,0.3046187683284544,0.3267961876832796,0.35062316715543396,0.34860703812315863,0.3359604105571789,0.410190615835769,0.4008431085044068,0.35172287390029294,0.34695747800587023,0.3684017595307827,0.40505865102640004,0.4413489736070305,0.4890029325513189,0.4472140762463325,0.42118768328446027,0.394244868035192,0.37701612903225246,0.37609970674487675,0.2897727272727364,0.38746334310849395,0.4030425219941247,0.4528958944281513,0.4364002932551245,0.45472873900292304,0.43071847507330574,0.401209677419353,0.40505865102640004,0.39552785923753425,0.40505865102640004,0.4129398826979367,0.38837976539589,0.3881964809384067,0.250183284457468,0.24230205278593134,0.18218475073314652,0.17027126099705917,0.21242668621701202,0.21719208211143476,0.21187683284458256,0.19153225806450871,0.25898093841642106,0.3000366568914946,0.2784090909090989,0.23735337243402532,0.18969941348973698,0.17155425219942175,0.1812683284457505,0.2782258064516156,0.27950879765395786,0.33174486803518566,0.3335777126099777,0.22873900293255556,0.20931085043987774,0.2314882697947233,0.21480938416421322,0.1801686217008712,0.22085777126099854,0.2199413489736025,0.23075513196481054,0.2314882697947233,0.23515395894428706,0.20729472140762276,0.23515395894428706,0.2817082111436961,0.3000366568914946,0.2965542521994141,0.2380865102639381,0.4890029325513189,0.4750733137829969,0.46022727272727887,0.39901026392961475,0.48735337243401006,0.41898826979472203,0.41678885630498375,0.4296187683284468,0.4483137829911915,0.3940615835777087,0.3973607038123263,0.4462976539589365,0.4321847507331313,0.4446480938416481,0.44923020527858754,0.44684750733138634,0.4266862170087958,0.41330645161290325,0.425036656891487,0.43878299120234604,0.4439149560117353,0.44428152492668155,0.3453079178885614,0.3454912023460447,0.3627199413489639,0.3799486803519035,0.2956378299120181,0.25458211143694454,0.18804985337242822,0.07368035190616061,0.2553152492668573,0.14552785923752914,0.20729472140762276,0.2479838709677501,0.29288856304985034,0.2404692082111393,0.1940982404692135,0.19739736070381073,0.19171554252199197,0.11565249266863019,0.16825513196480418,0.1508431085044017,0.12408357771261669,0.13929618768328092,0.11986803519062343,0.14699413489735466,0.07569648093841559,0.07936217008797937,0.0,0.10758797653958989,0.1691715542522002,0.19666422287389798,0.18530058651026046,0.1950146627565892,0.17870234604106602,0.4890029325513189,0.5034824046920703,0.612536656891506,0.5612170087976539,0.6118035190615729,0.6099706744868216,0.6326979472140559,0.8178152492668739,0.8627199413489537,0.8995601173020544,0.8586876832844438,0.8387096774193568,0.8856304985337324,0.8625366568914908,0.9074413489736114,0.8966275659824033,0.8935117302052894,0.97525659824047,1.0,0.8957111436950074,0.645344574780056,0.6134530791789021,0.7626466275659747,0.7454178885630351,0.7316715542522167,0.7347873900293307,0.6873167155425256,0.599706744868043,0.564149560117305,0.5399560117302045,0.4976173020527683,0.5566348973607145,0.3995601173020442,0.4056085043988295,0.397177419354843,0.518511730205292,0.5159457478005668,0.42540322580645357,0.40707478005865505,0.49890029325513086,0.5119134897360568,0.5179618768328624,0.5606671554252245,0.4360337243401783,0.47360703812317134,0.5386730205278418,0.5298753665689295,0.503665689149574,0.4433651026392855,0.5208944281524728,0.5256598240469159,0.5238269794721239,0.5218108504398689,0.5188782991202178,0.5177785923753588],\"type\":\"scatter\"}],                        {\"template\":{\"data\":{\"histogram2dcontour\":[{\"type\":\"histogram2dcontour\",\"colorbar\":{\"outlinewidth\":0,\"ticks\":\"\"},\"colorscale\":[[0.0,\"#0d0887\"],[0.1111111111111111,\"#46039f\"],[0.2222222222222222,\"#7201a8\"],[0.3333333333333333,\"#9c179e\"],[0.4444444444444444,\"#bd3786\"],[0.5555555555555556,\"#d8576b\"],[0.6666666666666666,\"#ed7953\"],[0.7777777777777778,\"#fb9f3a\"],[0.8888888888888888,\"#fdca26\"],[1.0,\"#f0f921\"]]}],\"choropleth\":[{\"type\":\"choropleth\",\"colorbar\":{\"outlinewidth\":0,\"ticks\":\"\"}}],\"histogram2d\":[{\"type\":\"histogram2d\",\"colorbar\":{\"outlinewidth\":0,\"ticks\":\"\"},\"colorscale\":[[0.0,\"#0d0887\"],[0.1111111111111111,\"#46039f\"],[0.2222222222222222,\"#7201a8\"],[0.3333333333333333,\"#9c179e\"],[0.4444444444444444,\"#bd3786\"],[0.5555555555555556,\"#d8576b\"],[0.6666666666666666,\"#ed7953\"],[0.7777777777777778,\"#fb9f3a\"],[0.8888888888888888,\"#fdca26\"],[1.0,\"#f0f921\"]]}],\"heatmap\":[{\"type\":\"heatmap\",\"colorbar\":{\"outlinewidth\":0,\"ticks\":\"\"},\"colorscale\":[[0.0,\"#0d0887\"],[0.1111111111111111,\"#46039f\"],[0.2222222222222222,\"#7201a8\"],[0.3333333333333333,\"#9c179e\"],[0.4444444444444444,\"#bd3786\"],[0.5555555555555556,\"#d8576b\"],[0.6666666666666666,\"#ed7953\"],[0.7777777777777778,\"#fb9f3a\"],[0.8888888888888888,\"#fdca26\"],[1.0,\"#f0f921\"]]}],\"heatmapgl\":[{\"type\":\"heatmapgl\",\"colorbar\":{\"outlinewidth\":0,\"ticks\":\"\"},\"colorscale\":[[0.0,\"#0d0887\"],[0.1111111111111111,\"#46039f\"],[0.2222222222222222,\"#7201a8\"],[0.3333333333333333,\"#9c179e\"],[0.4444444444444444,\"#bd3786\"],[0.5555555555555556,\"#d8576b\"],[0.6666666666666666,\"#ed7953\"],[0.7777777777777778,\"#fb9f3a\"],[0.8888888888888888,\"#fdca26\"],[1.0,\"#f0f921\"]]}],\"contourcarpet\":[{\"type\":\"contourcarpet\",\"colorbar\":{\"outlinewidth\":0,\"ticks\":\"\"}}],\"contour\":[{\"type\":\"contour\",\"colorbar\":{\"outlinewidth\":0,\"ticks\":\"\"},\"colorscale\":[[0.0,\"#0d0887\"],[0.1111111111111111,\"#46039f\"],[0.2222222222222222,\"#7201a8\"],[0.3333333333333333,\"#9c179e\"],[0.4444444444444444,\"#bd3786\"],[0.5555555555555556,\"#d8576b\"],[0.6666666666666666,\"#ed7953\"],[0.7777777777777778,\"#fb9f3a\"],[0.8888888888888888,\"#fdca26\"],[1.0,\"#f0f921\"]]}],\"surface\":[{\"type\":\"surface\",\"colorbar\":{\"outlinewidth\":0,\"ticks\":\"\"},\"colorscale\":[[0.0,\"#0d0887\"],[0.1111111111111111,\"#46039f\"],[0.2222222222222222,\"#7201a8\"],[0.3333333333333333,\"#9c179e\"],[0.4444444444444444,\"#bd3786\"],[0.5555555555555556,\"#d8576b\"],[0.6666666666666666,\"#ed7953\"],[0.7777777777777778,\"#fb9f3a\"],[0.8888888888888888,\"#fdca26\"],[1.0,\"#f0f921\"]]}],\"mesh3d\":[{\"type\":\"mesh3d\",\"colorbar\":{\"outlinewidth\":0,\"ticks\":\"\"}}],\"scatter\":[{\"fillpattern\":{\"fillmode\":\"overlay\",\"size\":10,\"solidity\":0.2},\"type\":\"scatter\"}],\"parcoords\":[{\"type\":\"parcoords\",\"line\":{\"colorbar\":{\"outlinewidth\":0,\"ticks\":\"\"}}}],\"scatterpolargl\":[{\"type\":\"scatterpolargl\",\"marker\":{\"colorbar\":{\"outlinewidth\":0,\"ticks\":\"\"}}}],\"bar\":[{\"error_x\":{\"color\":\"#2a3f5f\"},\"error_y\":{\"color\":\"#2a3f5f\"},\"marker\":{\"line\":{\"color\":\"#E5ECF6\",\"width\":0.5},\"pattern\":{\"fillmode\":\"overlay\",\"size\":10,\"solidity\":0.2}},\"type\":\"bar\"}],\"scattergeo\":[{\"type\":\"scattergeo\",\"marker\":{\"colorbar\":{\"outlinewidth\":0,\"ticks\":\"\"}}}],\"scatterpolar\":[{\"type\":\"scatterpolar\",\"marker\":{\"colorbar\":{\"outlinewidth\":0,\"ticks\":\"\"}}}],\"histogram\":[{\"marker\":{\"pattern\":{\"fillmode\":\"overlay\",\"size\":10,\"solidity\":0.2}},\"type\":\"histogram\"}],\"scattergl\":[{\"type\":\"scattergl\",\"marker\":{\"colorbar\":{\"outlinewidth\":0,\"ticks\":\"\"}}}],\"scatter3d\":[{\"type\":\"scatter3d\",\"line\":{\"colorbar\":{\"outlinewidth\":0,\"ticks\":\"\"}},\"marker\":{\"colorbar\":{\"outlinewidth\":0,\"ticks\":\"\"}}}],\"scattermapbox\":[{\"type\":\"scattermapbox\",\"marker\":{\"colorbar\":{\"outlinewidth\":0,\"ticks\":\"\"}}}],\"scatterternary\":[{\"type\":\"scatterternary\",\"marker\":{\"colorbar\":{\"outlinewidth\":0,\"ticks\":\"\"}}}],\"scattercarpet\":[{\"type\":\"scattercarpet\",\"marker\":{\"colorbar\":{\"outlinewidth\":0,\"ticks\":\"\"}}}],\"carpet\":[{\"aaxis\":{\"endlinecolor\":\"#2a3f5f\",\"gridcolor\":\"white\",\"linecolor\":\"white\",\"minorgridcolor\":\"white\",\"startlinecolor\":\"#2a3f5f\"},\"baxis\":{\"endlinecolor\":\"#2a3f5f\",\"gridcolor\":\"white\",\"linecolor\":\"white\",\"minorgridcolor\":\"white\",\"startlinecolor\":\"#2a3f5f\"},\"type\":\"carpet\"}],\"table\":[{\"cells\":{\"fill\":{\"color\":\"#EBF0F8\"},\"line\":{\"color\":\"white\"}},\"header\":{\"fill\":{\"color\":\"#C8D4E3\"},\"line\":{\"color\":\"white\"}},\"type\":\"table\"}],\"barpolar\":[{\"marker\":{\"line\":{\"color\":\"#E5ECF6\",\"width\":0.5},\"pattern\":{\"fillmode\":\"overlay\",\"size\":10,\"solidity\":0.2}},\"type\":\"barpolar\"}],\"pie\":[{\"automargin\":true,\"type\":\"pie\"}]},\"layout\":{\"autotypenumbers\":\"strict\",\"colorway\":[\"#636efa\",\"#EF553B\",\"#00cc96\",\"#ab63fa\",\"#FFA15A\",\"#19d3f3\",\"#FF6692\",\"#B6E880\",\"#FF97FF\",\"#FECB52\"],\"font\":{\"color\":\"#2a3f5f\"},\"hovermode\":\"closest\",\"hoverlabel\":{\"align\":\"left\"},\"paper_bgcolor\":\"white\",\"plot_bgcolor\":\"#E5ECF6\",\"polar\":{\"bgcolor\":\"#E5ECF6\",\"angularaxis\":{\"gridcolor\":\"white\",\"linecolor\":\"white\",\"ticks\":\"\"},\"radialaxis\":{\"gridcolor\":\"white\",\"linecolor\":\"white\",\"ticks\":\"\"}},\"ternary\":{\"bgcolor\":\"#E5ECF6\",\"aaxis\":{\"gridcolor\":\"white\",\"linecolor\":\"white\",\"ticks\":\"\"},\"baxis\":{\"gridcolor\":\"white\",\"linecolor\":\"white\",\"ticks\":\"\"},\"caxis\":{\"gridcolor\":\"white\",\"linecolor\":\"white\",\"ticks\":\"\"}},\"coloraxis\":{\"colorbar\":{\"outlinewidth\":0,\"ticks\":\"\"}},\"colorscale\":{\"sequential\":[[0.0,\"#0d0887\"],[0.1111111111111111,\"#46039f\"],[0.2222222222222222,\"#7201a8\"],[0.3333333333333333,\"#9c179e\"],[0.4444444444444444,\"#bd3786\"],[0.5555555555555556,\"#d8576b\"],[0.6666666666666666,\"#ed7953\"],[0.7777777777777778,\"#fb9f3a\"],[0.8888888888888888,\"#fdca26\"],[1.0,\"#f0f921\"]],\"sequentialminus\":[[0.0,\"#0d0887\"],[0.1111111111111111,\"#46039f\"],[0.2222222222222222,\"#7201a8\"],[0.3333333333333333,\"#9c179e\"],[0.4444444444444444,\"#bd3786\"],[0.5555555555555556,\"#d8576b\"],[0.6666666666666666,\"#ed7953\"],[0.7777777777777778,\"#fb9f3a\"],[0.8888888888888888,\"#fdca26\"],[1.0,\"#f0f921\"]],\"diverging\":[[0,\"#8e0152\"],[0.1,\"#c51b7d\"],[0.2,\"#de77ae\"],[0.3,\"#f1b6da\"],[0.4,\"#fde0ef\"],[0.5,\"#f7f7f7\"],[0.6,\"#e6f5d0\"],[0.7,\"#b8e186\"],[0.8,\"#7fbc41\"],[0.9,\"#4d9221\"],[1,\"#276419\"]]},\"xaxis\":{\"gridcolor\":\"white\",\"linecolor\":\"white\",\"ticks\":\"\",\"title\":{\"standoff\":15},\"zerolinecolor\":\"white\",\"automargin\":true,\"zerolinewidth\":2},\"yaxis\":{\"gridcolor\":\"white\",\"linecolor\":\"white\",\"ticks\":\"\",\"title\":{\"standoff\":15},\"zerolinecolor\":\"white\",\"automargin\":true,\"zerolinewidth\":2},\"scene\":{\"xaxis\":{\"backgroundcolor\":\"#E5ECF6\",\"gridcolor\":\"white\",\"linecolor\":\"white\",\"showbackground\":true,\"ticks\":\"\",\"zerolinecolor\":\"white\",\"gridwidth\":2},\"yaxis\":{\"backgroundcolor\":\"#E5ECF6\",\"gridcolor\":\"white\",\"linecolor\":\"white\",\"showbackground\":true,\"ticks\":\"\",\"zerolinecolor\":\"white\",\"gridwidth\":2},\"zaxis\":{\"backgroundcolor\":\"#E5ECF6\",\"gridcolor\":\"white\",\"linecolor\":\"white\",\"showbackground\":true,\"ticks\":\"\",\"zerolinecolor\":\"white\",\"gridwidth\":2}},\"shapedefaults\":{\"line\":{\"color\":\"#2a3f5f\"}},\"annotationdefaults\":{\"arrowcolor\":\"#2a3f5f\",\"arrowhead\":0,\"arrowwidth\":1},\"geo\":{\"bgcolor\":\"white\",\"landcolor\":\"#E5ECF6\",\"subunitcolor\":\"white\",\"showland\":true,\"showlakes\":true,\"lakecolor\":\"white\"},\"title\":{\"x\":0.05},\"mapbox\":{\"style\":\"light\"}}},\"title\":{\"text\":\"Overview for Normalized Total Sizes and WAP for 5 days\"}},                        {\"responsive\": true}                    ).then(function(){\n",
       "                            \n",
       "var gd = document.getElementById('e52877f7-7223-44ea-9ace-f9acfc376a69');\n",
       "var x = new MutationObserver(function (mutations, observer) {{\n",
       "        var display = window.getComputedStyle(gd).display;\n",
       "        if (!display || display === 'none') {{\n",
       "            console.log([gd, 'removed!']);\n",
       "            Plotly.purge(gd);\n",
       "            observer.disconnect();\n",
       "        }}\n",
       "}});\n",
       "\n",
       "// Listen for the removal of the full notebook cells\n",
       "var notebookContainer = gd.closest('#notebook-container');\n",
       "if (notebookContainer) {{\n",
       "    x.observe(notebookContainer, {childList: true});\n",
       "}}\n",
       "\n",
       "// Listen for the clearing of the current output cell\n",
       "var outputEl = gd.closest('.output');\n",
       "if (outputEl) {{\n",
       "    x.observe(outputEl, {childList: true});\n",
       "}}\n",
       "\n",
       "                        })                };                });            </script>        </div>"
      ]
     },
     "metadata": {},
     "output_type": "display_data"
    }
   ],
   "source": [
    "# Examine the volume changes \n",
    "# PLot the Prices changes of stock 0 at date 0 \n",
    "\n",
    "total_size = stock00.eval('ask_size + bid_size').values\n",
    "\n",
    "fig = go.Figure()\n",
    "\n",
    "fig.add_trace(\n",
    "    go.Scatter(x = stock00['time_id'], \n",
    "            y = (total_size - total_size.min()) / (total_size.max() - total_size.min()), \n",
    "            name = 'total size',\n",
    "            line = dict(color = 'blue')))\n",
    "\n",
    "\n",
    "\n",
    "fig.add_trace(\n",
    "    go.Scatter(x = stock00['time_id'], \n",
    "            y = (stock00['wap'] - stock00['wap'].min()) / (stock00['wap'].max() - stock00['wap'].min()), \n",
    "            name = 'WAP',\n",
    "            line = dict(color = 'orange')))\n",
    "\n",
    "fig.update_layout(title = \"Overview for Normalized Total Sizes and WAP for 5 days\") "
   ]
  },
  {
   "cell_type": "code",
   "execution_count": 33,
   "id": "59cc4da9b21301e2",
   "metadata": {
    "ExecuteTime": {
     "end_time": "2023-12-10T18:02:37.519531Z",
     "start_time": "2023-12-10T18:02:37.301841Z"
    },
    "collapsed": false,
    "jupyter": {
     "outputs_hidden": false
    }
   },
   "outputs": [
    {
     "data": {
      "application/vnd.plotly.v1+json": {
       "config": {
        "plotlyServerURL": "https://plot.ly"
       },
       "data": [
        {
         "line": {
          "color": "blue"
         },
         "name": "total size",
         "type": "scatter",
         "x": [
          0,
          1,
          2,
          3,
          4,
          5,
          6,
          7,
          8,
          9,
          10,
          11,
          12,
          13,
          14,
          15,
          16,
          17,
          18,
          19,
          20,
          21,
          22,
          23,
          24,
          25,
          26,
          27,
          28,
          29,
          30,
          31,
          32,
          33,
          34,
          35,
          36,
          37,
          38,
          39,
          40,
          41,
          42,
          43,
          44,
          45,
          46,
          47,
          48,
          49,
          50,
          51,
          52,
          53,
          54,
          55,
          56,
          57,
          58,
          59,
          60,
          61,
          62,
          63,
          64,
          65,
          66,
          67,
          68,
          69,
          70,
          71,
          72,
          73,
          74,
          75,
          76,
          77,
          78,
          79,
          80,
          81,
          82,
          83,
          84,
          85,
          86,
          87,
          88,
          89,
          90,
          91,
          92,
          93,
          94,
          95,
          96,
          97,
          98,
          99,
          100,
          101,
          102,
          103,
          104,
          105,
          106,
          107,
          108,
          109,
          110,
          111,
          112,
          113,
          114,
          115,
          116,
          117,
          118,
          119,
          120,
          121,
          122,
          123,
          124,
          125,
          126,
          127,
          128,
          129,
          130,
          131,
          132,
          133,
          134,
          135,
          136,
          137,
          138,
          139,
          140,
          141,
          142,
          143,
          144,
          145,
          146,
          147,
          148,
          149,
          150,
          151,
          152,
          153,
          154,
          155,
          156,
          157,
          158,
          159,
          160,
          161,
          162,
          163,
          164,
          165,
          166,
          167,
          168,
          169,
          170,
          171,
          172,
          173,
          174,
          175,
          176,
          177,
          178,
          179,
          180,
          181,
          182,
          183,
          184,
          185,
          186,
          187,
          188,
          189,
          190,
          191,
          192,
          193,
          194,
          195,
          196,
          197,
          198,
          199,
          200,
          201,
          202,
          203,
          204,
          205,
          206,
          207,
          208,
          209,
          210,
          211,
          212,
          213,
          214,
          215,
          216,
          217,
          218,
          219,
          220,
          221,
          222,
          223,
          224,
          225,
          226,
          227,
          228,
          229,
          230,
          231,
          232,
          233,
          234,
          235,
          236,
          237,
          238,
          239,
          240,
          241,
          242,
          243,
          244,
          245,
          246,
          247,
          248,
          249,
          250,
          251,
          252,
          253,
          254,
          255,
          256,
          257,
          258,
          259,
          260,
          261,
          262,
          263,
          264,
          265,
          266,
          267,
          268,
          269,
          270,
          271,
          272,
          273,
          274
         ],
         "y": [
          0.42992552833072484,
          0.5195115558673751,
          0.6198566578866981,
          0.652087011811826,
          0.5923421714624647,
          0.5250082053496155,
          0.5040522271026994,
          0.5724480445750639,
          0.4990865030382324,
          0.3956026976003805,
          0.45559738193806587,
          0.5098299559185144,
          0.5692937190301759,
          0.5355018100498241,
          0.46476366916407597,
          0.4652789818869264,
          0.4013648074336485,
          0.39166758797827206,
          0.42992552833072484,
          0.3542060459698686,
          0.522665883508138,
          0.5273817599165003,
          0.6473711364514011,
          0.6830056703891149,
          0.5651087680395869,
          0.5692937190301759,
          0.4846734116282274,
          0.4815346990402465,
          0.2535954731201444,
          0.22950079931422976,
          0.24627183181024365,
          0.351067332071966,
          0.3667765079687777,
          0.31438656104156587,
          0.4385608885670556,
          0.39219851758779484,
          0.43778011496920893,
          0.3982104792689169,
          0.39769516654606646,
          0.4566436190307522,
          0.5229157311642426,
          0.5420603129874546,
          0.5417792352257859,
          0.5242274317517688,
          0.5121722785459449,
          0.5399366076485804,
          0.4338450132066307,
          0.5127032050116557,
          0.47471073260777635,
          0.5142647532552864,
          0.5349708846320508,
          0.5263199059371415,
          0.6869095409981917,
          0.6701697422755226,
          0.764986971518634,
          0.14016461000224778,
          0.42861382512335533,
          0.5758522219678063,
          0.571917120205228,
          0.4951514007516854,
          0.5286934605040264,
          0.49201268947362625,
          0.39847594276375664,
          0.42625588744314274,
          0.547806811173737,
          0.4870313498324086,
          0.43620295088684313,
          0.5378441334632077,
          0.5381252112248763,
          0.5781945453811899,
          0.4477271784129093,
          0.4110620216493381,
          0.5347210364519774,
          0.5588001117101237,
          0.6132981497093807,
          0.5441527897926708,
          0.6279767054001784,
          0.6782897950286898,
          0.5941847990396701,
          0.5142647532552864,
          0.3864207882480111,
          0.38118960278457914,
          0.3437280555364889,
          0.3890441894230633,
          0.3345617656906352,
          0.3628570230928719,
          0.5116413520802342,
          0.5493683609892738,
          0.5687627920404964,
          0.5713861932155486,
          0.5103608823842252,
          0.513234131215382,
          0.4241477963710977,
          0.45270851726817396,
          0.4907009888861002,
          0.47995753495788074,
          0.5357516592778349,
          0.652087011811826,
          0.6481519100492478,
          0.605178099576057,
          0.5941847990396701,
          0.5926232492241333,
          0.6816939750412756,
          0.5852839726886562,
          0.6130483031012135,
          0.6306001118149174,
          0.6607379915546727,
          0.6874404706077145,
          0.5831914985032833,
          0.4385608885670556,
          0.34268181844380247,
          0.5396867610404131,
          0.588688147461555,
          0.6594262883473031,
          0.6261340778229729,
          0.638970005936565,
          0.6924374211099648,
          0.4616249578860168,
          0.46554444538176615,
          0.4333297004837803,
          0.5043176900735704,
          0.4875466607213686,
          0.4642327447942401,
          0.49148176248394687,
          0.2535954731201444,
          0.23944784703886954,
          0.11947409525017143,
          0.10139137264600516,
          0.22373868948096182,
          0.27377067776921377,
          0.4922625360817936,
          0.43778011496920893,
          0.6062399509355723,
          0.6421243314814533,
          0.612517376111534,
          0.5991505236281058,
          0.5108605778274267,
          0.5394369118124024,
          0.47864583437035463,
          0.6206374236250145,
          0.6025546984010047,
          0.6633613927297248,
          0.7353799899502805,
          0.6515560822023032,
          0.5931229450603114,
          0.47917676136003406,
          0.439607125659742,
          0.36782274244162066,
          0.3919330567127986,
          0.46267119497870324,
          0.5279126861202267,
          0.48073830855572747,
          0.513234131215382,
          0.4977748024507063,
          0.5158575323904342,
          0.5954964996271962,
          0.5795062433488725,
          0.6020550051846701,
          0.5103608823842252,
          0.5672012422249597,
          0.5986508277919278,
          0.49672856483405115,
          0.4642327447942401,
          0.4943706271538387,
          0.562204289102866,
          0.3015506329279737,
          0.35578321005223434,
          0.40241104190649146,
          0.49672856483405115,
          0.36259155959803213,
          0.5328784099227093,
          0.5485875873914271,
          0.5347210364519774,
          0.5150767585306032,
          0.5661393882456008,
          0.5464951105862109,
          0.4537547543608604,
          0.4686987709266543,
          0.47759959727766826,
          0.478380370875515,
          0.467636919567139,
          0.35682944714492076,
          0.3783007354948439,
          0.39088682223995563,
          0.42205532218572483,
          0.3088743004363087,
          0.25072223843614205,
          0.262777395571731,
          0.040350409298138705,
          0.30704728450608876,
          0.10793424821758946,
          0.3138556366717299,
          0.4191820744025054,
          0.6030856253906841,
          0.7387841883017703,
          0.40790769348460654,
          0.5690438698021651,
          0.45297398076301365,
          0.2805790482737589,
          0.28949547579238466,
          0.325910788567632,
          0.3303612030530607,
          0.35498681956771533,
          0.3615453225053457,
          0.5305048569277305,
          0.36730743757830053,
          0.4257249604534634,
          0.3748965554822581,
          0.5234466581539221,
          0.5949655726375168,
          0.5708552636060258,
          0.641874484873286,
          0.6148909280585755,
          0.7152047984004283,
          0.5218851093863226,
          0.40790769348460654,
          0.3735848601344189,
          0.31988321261968095,
          0.3031121827435104,
          0.2957885230947057,
          0.6643920129357389,
          0.9347585106923669,
          0.8938771639251751,
          1,
          0.8553693691050247,
          0.8469994802230639,
          0.880260449114519,
          0.5907806242667714,
          0.5881572230917191,
          0.5255391323392948,
          0.570605419617702,
          0.6811630375722225,
          0.6596761375753138,
          0.5124533570935667,
          0.06733395825331895,
          0.07623485010041854,
          0.31988321261968095,
          0.20042475521492928,
          0.15745093950205158,
          0.3366542424958514,
          0.6198566578866981,
          0.5032714527188996,
          0.23684008108939372,
          0.1606052833858437,
          0.0597292601404969,
          0.11998940535317841,
          0,
          0.13676043784919234,
          0.14043007873677435,
          0.40634614628891313,
          0.49568232774136484,
          0.29603837756240337,
          0.538375060452887,
          0.6766970166794951,
          0.6950608222850169,
          0.5137650576810927,
          0.6106747485343286,
          0.5750714457501162,
          0.5884070696998864,
          0.5365324328756815,
          0.5286934605040264,
          0.49148176248394687,
          0.3109823836488235,
          0.5795062433488725,
          0.5423101622154654,
          0.4448539280098464,
          0.4411842897421078,
          0.49252799957663324,
          0.5857836685248342,
          0.3654648047614082,
          0.38118960278457914,
          0.37936258947420265,
          0.35865646045529725,
          0.3280032627530048,
          0.1836537227189154
         ]
        },
        {
         "line": {
          "color": "orange"
         },
         "name": "WAP",
         "type": "scatter",
         "x": [
          0,
          1,
          2,
          3,
          4,
          5,
          6,
          7,
          8,
          9,
          10,
          11,
          12,
          13,
          14,
          15,
          16,
          17,
          18,
          19,
          20,
          21,
          22,
          23,
          24,
          25,
          26,
          27,
          28,
          29,
          30,
          31,
          32,
          33,
          34,
          35,
          36,
          37,
          38,
          39,
          40,
          41,
          42,
          43,
          44,
          45,
          46,
          47,
          48,
          49,
          50,
          51,
          52,
          53,
          54,
          55,
          56,
          57,
          58,
          59,
          60,
          61,
          62,
          63,
          64,
          65,
          66,
          67,
          68,
          69,
          70,
          71,
          72,
          73,
          74,
          75,
          76,
          77,
          78,
          79,
          80,
          81,
          82,
          83,
          84,
          85,
          86,
          87,
          88,
          89,
          90,
          91,
          92,
          93,
          94,
          95,
          96,
          97,
          98,
          99,
          100,
          101,
          102,
          103,
          104,
          105,
          106,
          107,
          108,
          109,
          110,
          111,
          112,
          113,
          114,
          115,
          116,
          117,
          118,
          119,
          120,
          121,
          122,
          123,
          124,
          125,
          126,
          127,
          128,
          129,
          130,
          131,
          132,
          133,
          134,
          135,
          136,
          137,
          138,
          139,
          140,
          141,
          142,
          143,
          144,
          145,
          146,
          147,
          148,
          149,
          150,
          151,
          152,
          153,
          154,
          155,
          156,
          157,
          158,
          159,
          160,
          161,
          162,
          163,
          164,
          165,
          166,
          167,
          168,
          169,
          170,
          171,
          172,
          173,
          174,
          175,
          176,
          177,
          178,
          179,
          180,
          181,
          182,
          183,
          184,
          185,
          186,
          187,
          188,
          189,
          190,
          191,
          192,
          193,
          194,
          195,
          196,
          197,
          198,
          199,
          200,
          201,
          202,
          203,
          204,
          205,
          206,
          207,
          208,
          209,
          210,
          211,
          212,
          213,
          214,
          215,
          216,
          217,
          218,
          219,
          220,
          221,
          222,
          223,
          224,
          225,
          226,
          227,
          228,
          229,
          230,
          231,
          232,
          233,
          234,
          235,
          236,
          237,
          238,
          239,
          240,
          241,
          242,
          243,
          244,
          245,
          246,
          247,
          248,
          249,
          250,
          251,
          252,
          253,
          254,
          255,
          256,
          257,
          258,
          259,
          260,
          261,
          262,
          263,
          264,
          265,
          266,
          267,
          268,
          269,
          270,
          271,
          272,
          273,
          274
         ],
         "y": [
          0.4890029325513189,
          0.4692082111436948,
          0.4600439882697956,
          0.5045821114369293,
          0.5471041055718283,
          0.5685483870967815,
          0.5837609970674661,
          0.56616568914956,
          0.5161290322580704,
          0.567082111436956,
          0.5368401759530905,
          0.49670087976541294,
          0.46975806451612434,
          0.4820381231671579,
          0.45711143695014456,
          0.4499633431085003,
          0.4147727272727288,
          0.396260997067447,
          0.42833577712610454,
          0.44409824046919827,
          0.3594208211143667,
          0.34805718475072916,
          0.3443914956011654,
          0.3498900293255212,
          0.41532258064515826,
          0.3623533724340177,
          0.3641862170087894,
          0.35997067448679615,
          0.4565615835777151,
          0.5604838709677209,
          0.5152126099706744,
          0.46535923753664776,
          0.45711143695014456,
          0.4479472140762453,
          0.34915689149560847,
          0.3244134897360784,
          0.30388563049854167,
          0.35703812316714517,
          0.35520527859237344,
          0.3504398826979507,
          0.3511730205278635,
          0.3104838709677361,
          0.27785923753664904,
          0.29233870967742087,
          0.3024193548387162,
          0.34824046920821244,
          0.38874633431085653,
          0.3718841642228835,
          0.39222873900293703,
          0.3684017595307827,
          0.3836143695014672,
          0.41184017595307776,
          0.3837976539589505,
          0.3891129032258027,
          0.374450146627568,
          0.4890029325513189,
          0.33779325513197095,
          0.20289589442814623,
          0.13068181818181113,
          0.21902492668622683,
          0.2199413489736025,
          0.19079912023459594,
          0.2587976539589378,
          0.25219941348974334,
          0.18548387096774374,
          0.18988269794722026,
          0.25549853372434056,
          0.20546187683285103,
          0.20124633431085778,
          0.20931085043987774,
          0.27254398826979687,
          0.2483504398826963,
          0.2534824046920856,
          0.2663123167155486,
          0.27309384164222633,
          0.3082844574779978,
          0.24871700879766284,
          0.19244868035190474,
          0.27437683284456854,
          0.3150659824046959,
          0.3522727272727224,
          0.3519061583577762,
          0.3493401759530714,
          0.38306451612903775,
          0.4354838709677488,
          0.3964442815249303,
          0.39149560117302423,
          0.34677419354838696,
          0.3275293255131924,
          0.32661290322579634,
          0.3016862170088034,
          0.30333577712609183,
          0.3475073313782997,
          0.3728005865102592,
          0.3310117302052729,
          0.3355938416422327,
          0.2793255131964746,
          0.29343841642227986,
          0.3046187683284544,
          0.3267961876832796,
          0.35062316715543396,
          0.34860703812315863,
          0.3359604105571789,
          0.410190615835769,
          0.4008431085044068,
          0.35172287390029294,
          0.34695747800587023,
          0.3684017595307827,
          0.40505865102640004,
          0.4413489736070305,
          0.4890029325513189,
          0.4472140762463325,
          0.42118768328446027,
          0.394244868035192,
          0.37701612903225246,
          0.37609970674487675,
          0.2897727272727364,
          0.38746334310849395,
          0.4030425219941247,
          0.4528958944281513,
          0.4364002932551245,
          0.45472873900292304,
          0.43071847507330574,
          0.401209677419353,
          0.40505865102640004,
          0.39552785923753425,
          0.40505865102640004,
          0.4129398826979367,
          0.38837976539589,
          0.3881964809384067,
          0.250183284457468,
          0.24230205278593134,
          0.18218475073314652,
          0.17027126099705917,
          0.21242668621701202,
          0.21719208211143476,
          0.21187683284458256,
          0.19153225806450871,
          0.25898093841642106,
          0.3000366568914946,
          0.2784090909090989,
          0.23735337243402532,
          0.18969941348973698,
          0.17155425219942175,
          0.1812683284457505,
          0.2782258064516156,
          0.27950879765395786,
          0.33174486803518566,
          0.3335777126099777,
          0.22873900293255556,
          0.20931085043987774,
          0.2314882697947233,
          0.21480938416421322,
          0.1801686217008712,
          0.22085777126099854,
          0.2199413489736025,
          0.23075513196481054,
          0.2314882697947233,
          0.23515395894428706,
          0.20729472140762276,
          0.23515395894428706,
          0.2817082111436961,
          0.3000366568914946,
          0.2965542521994141,
          0.2380865102639381,
          0.4890029325513189,
          0.4750733137829969,
          0.46022727272727887,
          0.39901026392961475,
          0.48735337243401006,
          0.41898826979472203,
          0.41678885630498375,
          0.4296187683284468,
          0.4483137829911915,
          0.3940615835777087,
          0.3973607038123263,
          0.4462976539589365,
          0.4321847507331313,
          0.4446480938416481,
          0.44923020527858754,
          0.44684750733138634,
          0.4266862170087958,
          0.41330645161290325,
          0.425036656891487,
          0.43878299120234604,
          0.4439149560117353,
          0.44428152492668155,
          0.3453079178885614,
          0.3454912023460447,
          0.3627199413489639,
          0.3799486803519035,
          0.2956378299120181,
          0.25458211143694454,
          0.18804985337242822,
          0.07368035190616061,
          0.2553152492668573,
          0.14552785923752914,
          0.20729472140762276,
          0.2479838709677501,
          0.29288856304985034,
          0.2404692082111393,
          0.1940982404692135,
          0.19739736070381073,
          0.19171554252199197,
          0.11565249266863019,
          0.16825513196480418,
          0.1508431085044017,
          0.12408357771261669,
          0.13929618768328092,
          0.11986803519062343,
          0.14699413489735466,
          0.07569648093841559,
          0.07936217008797937,
          0,
          0.10758797653958989,
          0.1691715542522002,
          0.19666422287389798,
          0.18530058651026046,
          0.1950146627565892,
          0.17870234604106602,
          0.4890029325513189,
          0.5034824046920703,
          0.612536656891506,
          0.5612170087976539,
          0.6118035190615729,
          0.6099706744868216,
          0.6326979472140559,
          0.8178152492668739,
          0.8627199413489537,
          0.8995601173020544,
          0.8586876832844438,
          0.8387096774193568,
          0.8856304985337324,
          0.8625366568914908,
          0.9074413489736114,
          0.8966275659824033,
          0.8935117302052894,
          0.97525659824047,
          1,
          0.8957111436950074,
          0.645344574780056,
          0.6134530791789021,
          0.7626466275659747,
          0.7454178885630351,
          0.7316715542522167,
          0.7347873900293307,
          0.6873167155425256,
          0.599706744868043,
          0.564149560117305,
          0.5399560117302045,
          0.4976173020527683,
          0.5566348973607145,
          0.3995601173020442,
          0.4056085043988295,
          0.397177419354843,
          0.518511730205292,
          0.5159457478005668,
          0.42540322580645357,
          0.40707478005865505,
          0.49890029325513086,
          0.5119134897360568,
          0.5179618768328624,
          0.5606671554252245,
          0.4360337243401783,
          0.47360703812317134,
          0.5386730205278418,
          0.5298753665689295,
          0.503665689149574,
          0.4433651026392855,
          0.5208944281524728,
          0.5256598240469159,
          0.5238269794721239,
          0.5218108504398689,
          0.5188782991202178,
          0.5177785923753588
         ]
        }
       ],
       "layout": {
        "template": {
         "data": {
          "bar": [
           {
            "error_x": {
             "color": "#2a3f5f"
            },
            "error_y": {
             "color": "#2a3f5f"
            },
            "marker": {
             "line": {
              "color": "#E5ECF6",
              "width": 0.5
             },
             "pattern": {
              "fillmode": "overlay",
              "size": 10,
              "solidity": 0.2
             }
            },
            "type": "bar"
           }
          ],
          "barpolar": [
           {
            "marker": {
             "line": {
              "color": "#E5ECF6",
              "width": 0.5
             },
             "pattern": {
              "fillmode": "overlay",
              "size": 10,
              "solidity": 0.2
             }
            },
            "type": "barpolar"
           }
          ],
          "carpet": [
           {
            "aaxis": {
             "endlinecolor": "#2a3f5f",
             "gridcolor": "white",
             "linecolor": "white",
             "minorgridcolor": "white",
             "startlinecolor": "#2a3f5f"
            },
            "baxis": {
             "endlinecolor": "#2a3f5f",
             "gridcolor": "white",
             "linecolor": "white",
             "minorgridcolor": "white",
             "startlinecolor": "#2a3f5f"
            },
            "type": "carpet"
           }
          ],
          "choropleth": [
           {
            "colorbar": {
             "outlinewidth": 0,
             "ticks": ""
            },
            "type": "choropleth"
           }
          ],
          "contour": [
           {
            "colorbar": {
             "outlinewidth": 0,
             "ticks": ""
            },
            "colorscale": [
             [
              0,
              "#0d0887"
             ],
             [
              0.1111111111111111,
              "#46039f"
             ],
             [
              0.2222222222222222,
              "#7201a8"
             ],
             [
              0.3333333333333333,
              "#9c179e"
             ],
             [
              0.4444444444444444,
              "#bd3786"
             ],
             [
              0.5555555555555556,
              "#d8576b"
             ],
             [
              0.6666666666666666,
              "#ed7953"
             ],
             [
              0.7777777777777778,
              "#fb9f3a"
             ],
             [
              0.8888888888888888,
              "#fdca26"
             ],
             [
              1,
              "#f0f921"
             ]
            ],
            "type": "contour"
           }
          ],
          "contourcarpet": [
           {
            "colorbar": {
             "outlinewidth": 0,
             "ticks": ""
            },
            "type": "contourcarpet"
           }
          ],
          "heatmap": [
           {
            "colorbar": {
             "outlinewidth": 0,
             "ticks": ""
            },
            "colorscale": [
             [
              0,
              "#0d0887"
             ],
             [
              0.1111111111111111,
              "#46039f"
             ],
             [
              0.2222222222222222,
              "#7201a8"
             ],
             [
              0.3333333333333333,
              "#9c179e"
             ],
             [
              0.4444444444444444,
              "#bd3786"
             ],
             [
              0.5555555555555556,
              "#d8576b"
             ],
             [
              0.6666666666666666,
              "#ed7953"
             ],
             [
              0.7777777777777778,
              "#fb9f3a"
             ],
             [
              0.8888888888888888,
              "#fdca26"
             ],
             [
              1,
              "#f0f921"
             ]
            ],
            "type": "heatmap"
           }
          ],
          "heatmapgl": [
           {
            "colorbar": {
             "outlinewidth": 0,
             "ticks": ""
            },
            "colorscale": [
             [
              0,
              "#0d0887"
             ],
             [
              0.1111111111111111,
              "#46039f"
             ],
             [
              0.2222222222222222,
              "#7201a8"
             ],
             [
              0.3333333333333333,
              "#9c179e"
             ],
             [
              0.4444444444444444,
              "#bd3786"
             ],
             [
              0.5555555555555556,
              "#d8576b"
             ],
             [
              0.6666666666666666,
              "#ed7953"
             ],
             [
              0.7777777777777778,
              "#fb9f3a"
             ],
             [
              0.8888888888888888,
              "#fdca26"
             ],
             [
              1,
              "#f0f921"
             ]
            ],
            "type": "heatmapgl"
           }
          ],
          "histogram": [
           {
            "marker": {
             "pattern": {
              "fillmode": "overlay",
              "size": 10,
              "solidity": 0.2
             }
            },
            "type": "histogram"
           }
          ],
          "histogram2d": [
           {
            "colorbar": {
             "outlinewidth": 0,
             "ticks": ""
            },
            "colorscale": [
             [
              0,
              "#0d0887"
             ],
             [
              0.1111111111111111,
              "#46039f"
             ],
             [
              0.2222222222222222,
              "#7201a8"
             ],
             [
              0.3333333333333333,
              "#9c179e"
             ],
             [
              0.4444444444444444,
              "#bd3786"
             ],
             [
              0.5555555555555556,
              "#d8576b"
             ],
             [
              0.6666666666666666,
              "#ed7953"
             ],
             [
              0.7777777777777778,
              "#fb9f3a"
             ],
             [
              0.8888888888888888,
              "#fdca26"
             ],
             [
              1,
              "#f0f921"
             ]
            ],
            "type": "histogram2d"
           }
          ],
          "histogram2dcontour": [
           {
            "colorbar": {
             "outlinewidth": 0,
             "ticks": ""
            },
            "colorscale": [
             [
              0,
              "#0d0887"
             ],
             [
              0.1111111111111111,
              "#46039f"
             ],
             [
              0.2222222222222222,
              "#7201a8"
             ],
             [
              0.3333333333333333,
              "#9c179e"
             ],
             [
              0.4444444444444444,
              "#bd3786"
             ],
             [
              0.5555555555555556,
              "#d8576b"
             ],
             [
              0.6666666666666666,
              "#ed7953"
             ],
             [
              0.7777777777777778,
              "#fb9f3a"
             ],
             [
              0.8888888888888888,
              "#fdca26"
             ],
             [
              1,
              "#f0f921"
             ]
            ],
            "type": "histogram2dcontour"
           }
          ],
          "mesh3d": [
           {
            "colorbar": {
             "outlinewidth": 0,
             "ticks": ""
            },
            "type": "mesh3d"
           }
          ],
          "parcoords": [
           {
            "line": {
             "colorbar": {
              "outlinewidth": 0,
              "ticks": ""
             }
            },
            "type": "parcoords"
           }
          ],
          "pie": [
           {
            "automargin": true,
            "type": "pie"
           }
          ],
          "scatter": [
           {
            "fillpattern": {
             "fillmode": "overlay",
             "size": 10,
             "solidity": 0.2
            },
            "type": "scatter"
           }
          ],
          "scatter3d": [
           {
            "line": {
             "colorbar": {
              "outlinewidth": 0,
              "ticks": ""
             }
            },
            "marker": {
             "colorbar": {
              "outlinewidth": 0,
              "ticks": ""
             }
            },
            "type": "scatter3d"
           }
          ],
          "scattercarpet": [
           {
            "marker": {
             "colorbar": {
              "outlinewidth": 0,
              "ticks": ""
             }
            },
            "type": "scattercarpet"
           }
          ],
          "scattergeo": [
           {
            "marker": {
             "colorbar": {
              "outlinewidth": 0,
              "ticks": ""
             }
            },
            "type": "scattergeo"
           }
          ],
          "scattergl": [
           {
            "marker": {
             "colorbar": {
              "outlinewidth": 0,
              "ticks": ""
             }
            },
            "type": "scattergl"
           }
          ],
          "scattermapbox": [
           {
            "marker": {
             "colorbar": {
              "outlinewidth": 0,
              "ticks": ""
             }
            },
            "type": "scattermapbox"
           }
          ],
          "scatterpolar": [
           {
            "marker": {
             "colorbar": {
              "outlinewidth": 0,
              "ticks": ""
             }
            },
            "type": "scatterpolar"
           }
          ],
          "scatterpolargl": [
           {
            "marker": {
             "colorbar": {
              "outlinewidth": 0,
              "ticks": ""
             }
            },
            "type": "scatterpolargl"
           }
          ],
          "scatterternary": [
           {
            "marker": {
             "colorbar": {
              "outlinewidth": 0,
              "ticks": ""
             }
            },
            "type": "scatterternary"
           }
          ],
          "surface": [
           {
            "colorbar": {
             "outlinewidth": 0,
             "ticks": ""
            },
            "colorscale": [
             [
              0,
              "#0d0887"
             ],
             [
              0.1111111111111111,
              "#46039f"
             ],
             [
              0.2222222222222222,
              "#7201a8"
             ],
             [
              0.3333333333333333,
              "#9c179e"
             ],
             [
              0.4444444444444444,
              "#bd3786"
             ],
             [
              0.5555555555555556,
              "#d8576b"
             ],
             [
              0.6666666666666666,
              "#ed7953"
             ],
             [
              0.7777777777777778,
              "#fb9f3a"
             ],
             [
              0.8888888888888888,
              "#fdca26"
             ],
             [
              1,
              "#f0f921"
             ]
            ],
            "type": "surface"
           }
          ],
          "table": [
           {
            "cells": {
             "fill": {
              "color": "#EBF0F8"
             },
             "line": {
              "color": "white"
             }
            },
            "header": {
             "fill": {
              "color": "#C8D4E3"
             },
             "line": {
              "color": "white"
             }
            },
            "type": "table"
           }
          ]
         },
         "layout": {
          "annotationdefaults": {
           "arrowcolor": "#2a3f5f",
           "arrowhead": 0,
           "arrowwidth": 1
          },
          "autotypenumbers": "strict",
          "coloraxis": {
           "colorbar": {
            "outlinewidth": 0,
            "ticks": ""
           }
          },
          "colorscale": {
           "diverging": [
            [
             0,
             "#8e0152"
            ],
            [
             0.1,
             "#c51b7d"
            ],
            [
             0.2,
             "#de77ae"
            ],
            [
             0.3,
             "#f1b6da"
            ],
            [
             0.4,
             "#fde0ef"
            ],
            [
             0.5,
             "#f7f7f7"
            ],
            [
             0.6,
             "#e6f5d0"
            ],
            [
             0.7,
             "#b8e186"
            ],
            [
             0.8,
             "#7fbc41"
            ],
            [
             0.9,
             "#4d9221"
            ],
            [
             1,
             "#276419"
            ]
           ],
           "sequential": [
            [
             0,
             "#0d0887"
            ],
            [
             0.1111111111111111,
             "#46039f"
            ],
            [
             0.2222222222222222,
             "#7201a8"
            ],
            [
             0.3333333333333333,
             "#9c179e"
            ],
            [
             0.4444444444444444,
             "#bd3786"
            ],
            [
             0.5555555555555556,
             "#d8576b"
            ],
            [
             0.6666666666666666,
             "#ed7953"
            ],
            [
             0.7777777777777778,
             "#fb9f3a"
            ],
            [
             0.8888888888888888,
             "#fdca26"
            ],
            [
             1,
             "#f0f921"
            ]
           ],
           "sequentialminus": [
            [
             0,
             "#0d0887"
            ],
            [
             0.1111111111111111,
             "#46039f"
            ],
            [
             0.2222222222222222,
             "#7201a8"
            ],
            [
             0.3333333333333333,
             "#9c179e"
            ],
            [
             0.4444444444444444,
             "#bd3786"
            ],
            [
             0.5555555555555556,
             "#d8576b"
            ],
            [
             0.6666666666666666,
             "#ed7953"
            ],
            [
             0.7777777777777778,
             "#fb9f3a"
            ],
            [
             0.8888888888888888,
             "#fdca26"
            ],
            [
             1,
             "#f0f921"
            ]
           ]
          },
          "colorway": [
           "#636efa",
           "#EF553B",
           "#00cc96",
           "#ab63fa",
           "#FFA15A",
           "#19d3f3",
           "#FF6692",
           "#B6E880",
           "#FF97FF",
           "#FECB52"
          ],
          "font": {
           "color": "#2a3f5f"
          },
          "geo": {
           "bgcolor": "white",
           "lakecolor": "white",
           "landcolor": "#E5ECF6",
           "showlakes": true,
           "showland": true,
           "subunitcolor": "white"
          },
          "hoverlabel": {
           "align": "left"
          },
          "hovermode": "closest",
          "mapbox": {
           "style": "light"
          },
          "paper_bgcolor": "white",
          "plot_bgcolor": "#E5ECF6",
          "polar": {
           "angularaxis": {
            "gridcolor": "white",
            "linecolor": "white",
            "ticks": ""
           },
           "bgcolor": "#E5ECF6",
           "radialaxis": {
            "gridcolor": "white",
            "linecolor": "white",
            "ticks": ""
           }
          },
          "scene": {
           "xaxis": {
            "backgroundcolor": "#E5ECF6",
            "gridcolor": "white",
            "gridwidth": 2,
            "linecolor": "white",
            "showbackground": true,
            "ticks": "",
            "zerolinecolor": "white"
           },
           "yaxis": {
            "backgroundcolor": "#E5ECF6",
            "gridcolor": "white",
            "gridwidth": 2,
            "linecolor": "white",
            "showbackground": true,
            "ticks": "",
            "zerolinecolor": "white"
           },
           "zaxis": {
            "backgroundcolor": "#E5ECF6",
            "gridcolor": "white",
            "gridwidth": 2,
            "linecolor": "white",
            "showbackground": true,
            "ticks": "",
            "zerolinecolor": "white"
           }
          },
          "shapedefaults": {
           "line": {
            "color": "#2a3f5f"
           }
          },
          "ternary": {
           "aaxis": {
            "gridcolor": "white",
            "linecolor": "white",
            "ticks": ""
           },
           "baxis": {
            "gridcolor": "white",
            "linecolor": "white",
            "ticks": ""
           },
           "bgcolor": "#E5ECF6",
           "caxis": {
            "gridcolor": "white",
            "linecolor": "white",
            "ticks": ""
           }
          },
          "title": {
           "x": 0.05
          },
          "xaxis": {
           "automargin": true,
           "gridcolor": "white",
           "linecolor": "white",
           "ticks": "",
           "title": {
            "standoff": 15
           },
           "zerolinecolor": "white",
           "zerolinewidth": 2
          },
          "yaxis": {
           "automargin": true,
           "gridcolor": "white",
           "linecolor": "white",
           "ticks": "",
           "title": {
            "standoff": 15
           },
           "zerolinecolor": "white",
           "zerolinewidth": 2
          }
         }
        },
        "title": {
         "text": "Overview for Normalized Target and WAP for 5 days"
        }
       }
      },
      "text/html": [
       "<div>                            <div id=\"18604842-7cbc-4063-bb53-e73fe5bfaeca\" class=\"plotly-graph-div\" style=\"height:525px; width:100%;\"></div>            <script type=\"text/javascript\">                require([\"plotly\"], function(Plotly) {                    window.PLOTLYENV=window.PLOTLYENV || {};                                    if (document.getElementById(\"18604842-7cbc-4063-bb53-e73fe5bfaeca\")) {                    Plotly.newPlot(                        \"18604842-7cbc-4063-bb53-e73fe5bfaeca\",                        [{\"line\":{\"color\":\"blue\"},\"name\":\"total size\",\"x\":[0,1,2,3,4,5,6,7,8,9,10,11,12,13,14,15,16,17,18,19,20,21,22,23,24,25,26,27,28,29,30,31,32,33,34,35,36,37,38,39,40,41,42,43,44,45,46,47,48,49,50,51,52,53,54,55,56,57,58,59,60,61,62,63,64,65,66,67,68,69,70,71,72,73,74,75,76,77,78,79,80,81,82,83,84,85,86,87,88,89,90,91,92,93,94,95,96,97,98,99,100,101,102,103,104,105,106,107,108,109,110,111,112,113,114,115,116,117,118,119,120,121,122,123,124,125,126,127,128,129,130,131,132,133,134,135,136,137,138,139,140,141,142,143,144,145,146,147,148,149,150,151,152,153,154,155,156,157,158,159,160,161,162,163,164,165,166,167,168,169,170,171,172,173,174,175,176,177,178,179,180,181,182,183,184,185,186,187,188,189,190,191,192,193,194,195,196,197,198,199,200,201,202,203,204,205,206,207,208,209,210,211,212,213,214,215,216,217,218,219,220,221,222,223,224,225,226,227,228,229,230,231,232,233,234,235,236,237,238,239,240,241,242,243,244,245,246,247,248,249,250,251,252,253,254,255,256,257,258,259,260,261,262,263,264,265,266,267,268,269,270,271,272,273,274],\"y\":[0.42992552833072484,0.5195115558673751,0.6198566578866981,0.652087011811826,0.5923421714624647,0.5250082053496155,0.5040522271026994,0.5724480445750639,0.4990865030382324,0.3956026976003805,0.45559738193806587,0.5098299559185144,0.5692937190301759,0.5355018100498241,0.46476366916407597,0.4652789818869264,0.4013648074336485,0.39166758797827206,0.42992552833072484,0.3542060459698686,0.522665883508138,0.5273817599165003,0.6473711364514011,0.6830056703891149,0.5651087680395869,0.5692937190301759,0.4846734116282274,0.4815346990402465,0.2535954731201444,0.22950079931422976,0.24627183181024365,0.351067332071966,0.3667765079687777,0.31438656104156587,0.4385608885670556,0.39219851758779484,0.43778011496920893,0.3982104792689169,0.39769516654606646,0.4566436190307522,0.5229157311642426,0.5420603129874546,0.5417792352257859,0.5242274317517688,0.5121722785459449,0.5399366076485804,0.4338450132066307,0.5127032050116557,0.47471073260777635,0.5142647532552864,0.5349708846320508,0.5263199059371415,0.6869095409981917,0.6701697422755226,0.764986971518634,0.14016461000224778,0.42861382512335533,0.5758522219678063,0.571917120205228,0.4951514007516854,0.5286934605040264,0.49201268947362625,0.39847594276375664,0.42625588744314274,0.547806811173737,0.4870313498324086,0.43620295088684313,0.5378441334632077,0.5381252112248763,0.5781945453811899,0.4477271784129093,0.4110620216493381,0.5347210364519774,0.5588001117101237,0.6132981497093807,0.5441527897926708,0.6279767054001784,0.6782897950286898,0.5941847990396701,0.5142647532552864,0.3864207882480111,0.38118960278457914,0.3437280555364889,0.3890441894230633,0.3345617656906352,0.3628570230928719,0.5116413520802342,0.5493683609892738,0.5687627920404964,0.5713861932155486,0.5103608823842252,0.513234131215382,0.4241477963710977,0.45270851726817396,0.4907009888861002,0.47995753495788074,0.5357516592778349,0.652087011811826,0.6481519100492478,0.605178099576057,0.5941847990396701,0.5926232492241333,0.6816939750412756,0.5852839726886562,0.6130483031012135,0.6306001118149174,0.6607379915546727,0.6874404706077145,0.5831914985032833,0.4385608885670556,0.34268181844380247,0.5396867610404131,0.588688147461555,0.6594262883473031,0.6261340778229729,0.638970005936565,0.6924374211099648,0.4616249578860168,0.46554444538176615,0.4333297004837803,0.5043176900735704,0.4875466607213686,0.4642327447942401,0.49148176248394687,0.2535954731201444,0.23944784703886954,0.11947409525017143,0.10139137264600516,0.22373868948096182,0.27377067776921377,0.4922625360817936,0.43778011496920893,0.6062399509355723,0.6421243314814533,0.612517376111534,0.5991505236281058,0.5108605778274267,0.5394369118124024,0.47864583437035463,0.6206374236250145,0.6025546984010047,0.6633613927297248,0.7353799899502805,0.6515560822023032,0.5931229450603114,0.47917676136003406,0.439607125659742,0.36782274244162066,0.3919330567127986,0.46267119497870324,0.5279126861202267,0.48073830855572747,0.513234131215382,0.4977748024507063,0.5158575323904342,0.5954964996271962,0.5795062433488725,0.6020550051846701,0.5103608823842252,0.5672012422249597,0.5986508277919278,0.49672856483405115,0.4642327447942401,0.4943706271538387,0.562204289102866,0.3015506329279737,0.35578321005223434,0.40241104190649146,0.49672856483405115,0.36259155959803213,0.5328784099227093,0.5485875873914271,0.5347210364519774,0.5150767585306032,0.5661393882456008,0.5464951105862109,0.4537547543608604,0.4686987709266543,0.47759959727766826,0.478380370875515,0.467636919567139,0.35682944714492076,0.3783007354948439,0.39088682223995563,0.42205532218572483,0.3088743004363087,0.25072223843614205,0.262777395571731,0.040350409298138705,0.30704728450608876,0.10793424821758946,0.3138556366717299,0.4191820744025054,0.6030856253906841,0.7387841883017703,0.40790769348460654,0.5690438698021651,0.45297398076301365,0.2805790482737589,0.28949547579238466,0.325910788567632,0.3303612030530607,0.35498681956771533,0.3615453225053457,0.5305048569277305,0.36730743757830053,0.4257249604534634,0.3748965554822581,0.5234466581539221,0.5949655726375168,0.5708552636060258,0.641874484873286,0.6148909280585755,0.7152047984004283,0.5218851093863226,0.40790769348460654,0.3735848601344189,0.31988321261968095,0.3031121827435104,0.2957885230947057,0.6643920129357389,0.9347585106923669,0.8938771639251751,1.0,0.8553693691050247,0.8469994802230639,0.880260449114519,0.5907806242667714,0.5881572230917191,0.5255391323392948,0.570605419617702,0.6811630375722225,0.6596761375753138,0.5124533570935667,0.06733395825331895,0.07623485010041854,0.31988321261968095,0.20042475521492928,0.15745093950205158,0.3366542424958514,0.6198566578866981,0.5032714527188996,0.23684008108939372,0.1606052833858437,0.0597292601404969,0.11998940535317841,0.0,0.13676043784919234,0.14043007873677435,0.40634614628891313,0.49568232774136484,0.29603837756240337,0.538375060452887,0.6766970166794951,0.6950608222850169,0.5137650576810927,0.6106747485343286,0.5750714457501162,0.5884070696998864,0.5365324328756815,0.5286934605040264,0.49148176248394687,0.3109823836488235,0.5795062433488725,0.5423101622154654,0.4448539280098464,0.4411842897421078,0.49252799957663324,0.5857836685248342,0.3654648047614082,0.38118960278457914,0.37936258947420265,0.35865646045529725,0.3280032627530048,0.1836537227189154],\"type\":\"scatter\"},{\"line\":{\"color\":\"orange\"},\"name\":\"WAP\",\"x\":[0,1,2,3,4,5,6,7,8,9,10,11,12,13,14,15,16,17,18,19,20,21,22,23,24,25,26,27,28,29,30,31,32,33,34,35,36,37,38,39,40,41,42,43,44,45,46,47,48,49,50,51,52,53,54,55,56,57,58,59,60,61,62,63,64,65,66,67,68,69,70,71,72,73,74,75,76,77,78,79,80,81,82,83,84,85,86,87,88,89,90,91,92,93,94,95,96,97,98,99,100,101,102,103,104,105,106,107,108,109,110,111,112,113,114,115,116,117,118,119,120,121,122,123,124,125,126,127,128,129,130,131,132,133,134,135,136,137,138,139,140,141,142,143,144,145,146,147,148,149,150,151,152,153,154,155,156,157,158,159,160,161,162,163,164,165,166,167,168,169,170,171,172,173,174,175,176,177,178,179,180,181,182,183,184,185,186,187,188,189,190,191,192,193,194,195,196,197,198,199,200,201,202,203,204,205,206,207,208,209,210,211,212,213,214,215,216,217,218,219,220,221,222,223,224,225,226,227,228,229,230,231,232,233,234,235,236,237,238,239,240,241,242,243,244,245,246,247,248,249,250,251,252,253,254,255,256,257,258,259,260,261,262,263,264,265,266,267,268,269,270,271,272,273,274],\"y\":[0.4890029325513189,0.4692082111436948,0.4600439882697956,0.5045821114369293,0.5471041055718283,0.5685483870967815,0.5837609970674661,0.56616568914956,0.5161290322580704,0.567082111436956,0.5368401759530905,0.49670087976541294,0.46975806451612434,0.4820381231671579,0.45711143695014456,0.4499633431085003,0.4147727272727288,0.396260997067447,0.42833577712610454,0.44409824046919827,0.3594208211143667,0.34805718475072916,0.3443914956011654,0.3498900293255212,0.41532258064515826,0.3623533724340177,0.3641862170087894,0.35997067448679615,0.4565615835777151,0.5604838709677209,0.5152126099706744,0.46535923753664776,0.45711143695014456,0.4479472140762453,0.34915689149560847,0.3244134897360784,0.30388563049854167,0.35703812316714517,0.35520527859237344,0.3504398826979507,0.3511730205278635,0.3104838709677361,0.27785923753664904,0.29233870967742087,0.3024193548387162,0.34824046920821244,0.38874633431085653,0.3718841642228835,0.39222873900293703,0.3684017595307827,0.3836143695014672,0.41184017595307776,0.3837976539589505,0.3891129032258027,0.374450146627568,0.4890029325513189,0.33779325513197095,0.20289589442814623,0.13068181818181113,0.21902492668622683,0.2199413489736025,0.19079912023459594,0.2587976539589378,0.25219941348974334,0.18548387096774374,0.18988269794722026,0.25549853372434056,0.20546187683285103,0.20124633431085778,0.20931085043987774,0.27254398826979687,0.2483504398826963,0.2534824046920856,0.2663123167155486,0.27309384164222633,0.3082844574779978,0.24871700879766284,0.19244868035190474,0.27437683284456854,0.3150659824046959,0.3522727272727224,0.3519061583577762,0.3493401759530714,0.38306451612903775,0.4354838709677488,0.3964442815249303,0.39149560117302423,0.34677419354838696,0.3275293255131924,0.32661290322579634,0.3016862170088034,0.30333577712609183,0.3475073313782997,0.3728005865102592,0.3310117302052729,0.3355938416422327,0.2793255131964746,0.29343841642227986,0.3046187683284544,0.3267961876832796,0.35062316715543396,0.34860703812315863,0.3359604105571789,0.410190615835769,0.4008431085044068,0.35172287390029294,0.34695747800587023,0.3684017595307827,0.40505865102640004,0.4413489736070305,0.4890029325513189,0.4472140762463325,0.42118768328446027,0.394244868035192,0.37701612903225246,0.37609970674487675,0.2897727272727364,0.38746334310849395,0.4030425219941247,0.4528958944281513,0.4364002932551245,0.45472873900292304,0.43071847507330574,0.401209677419353,0.40505865102640004,0.39552785923753425,0.40505865102640004,0.4129398826979367,0.38837976539589,0.3881964809384067,0.250183284457468,0.24230205278593134,0.18218475073314652,0.17027126099705917,0.21242668621701202,0.21719208211143476,0.21187683284458256,0.19153225806450871,0.25898093841642106,0.3000366568914946,0.2784090909090989,0.23735337243402532,0.18969941348973698,0.17155425219942175,0.1812683284457505,0.2782258064516156,0.27950879765395786,0.33174486803518566,0.3335777126099777,0.22873900293255556,0.20931085043987774,0.2314882697947233,0.21480938416421322,0.1801686217008712,0.22085777126099854,0.2199413489736025,0.23075513196481054,0.2314882697947233,0.23515395894428706,0.20729472140762276,0.23515395894428706,0.2817082111436961,0.3000366568914946,0.2965542521994141,0.2380865102639381,0.4890029325513189,0.4750733137829969,0.46022727272727887,0.39901026392961475,0.48735337243401006,0.41898826979472203,0.41678885630498375,0.4296187683284468,0.4483137829911915,0.3940615835777087,0.3973607038123263,0.4462976539589365,0.4321847507331313,0.4446480938416481,0.44923020527858754,0.44684750733138634,0.4266862170087958,0.41330645161290325,0.425036656891487,0.43878299120234604,0.4439149560117353,0.44428152492668155,0.3453079178885614,0.3454912023460447,0.3627199413489639,0.3799486803519035,0.2956378299120181,0.25458211143694454,0.18804985337242822,0.07368035190616061,0.2553152492668573,0.14552785923752914,0.20729472140762276,0.2479838709677501,0.29288856304985034,0.2404692082111393,0.1940982404692135,0.19739736070381073,0.19171554252199197,0.11565249266863019,0.16825513196480418,0.1508431085044017,0.12408357771261669,0.13929618768328092,0.11986803519062343,0.14699413489735466,0.07569648093841559,0.07936217008797937,0.0,0.10758797653958989,0.1691715542522002,0.19666422287389798,0.18530058651026046,0.1950146627565892,0.17870234604106602,0.4890029325513189,0.5034824046920703,0.612536656891506,0.5612170087976539,0.6118035190615729,0.6099706744868216,0.6326979472140559,0.8178152492668739,0.8627199413489537,0.8995601173020544,0.8586876832844438,0.8387096774193568,0.8856304985337324,0.8625366568914908,0.9074413489736114,0.8966275659824033,0.8935117302052894,0.97525659824047,1.0,0.8957111436950074,0.645344574780056,0.6134530791789021,0.7626466275659747,0.7454178885630351,0.7316715542522167,0.7347873900293307,0.6873167155425256,0.599706744868043,0.564149560117305,0.5399560117302045,0.4976173020527683,0.5566348973607145,0.3995601173020442,0.4056085043988295,0.397177419354843,0.518511730205292,0.5159457478005668,0.42540322580645357,0.40707478005865505,0.49890029325513086,0.5119134897360568,0.5179618768328624,0.5606671554252245,0.4360337243401783,0.47360703812317134,0.5386730205278418,0.5298753665689295,0.503665689149574,0.4433651026392855,0.5208944281524728,0.5256598240469159,0.5238269794721239,0.5218108504398689,0.5188782991202178,0.5177785923753588],\"type\":\"scatter\"}],                        {\"template\":{\"data\":{\"histogram2dcontour\":[{\"type\":\"histogram2dcontour\",\"colorbar\":{\"outlinewidth\":0,\"ticks\":\"\"},\"colorscale\":[[0.0,\"#0d0887\"],[0.1111111111111111,\"#46039f\"],[0.2222222222222222,\"#7201a8\"],[0.3333333333333333,\"#9c179e\"],[0.4444444444444444,\"#bd3786\"],[0.5555555555555556,\"#d8576b\"],[0.6666666666666666,\"#ed7953\"],[0.7777777777777778,\"#fb9f3a\"],[0.8888888888888888,\"#fdca26\"],[1.0,\"#f0f921\"]]}],\"choropleth\":[{\"type\":\"choropleth\",\"colorbar\":{\"outlinewidth\":0,\"ticks\":\"\"}}],\"histogram2d\":[{\"type\":\"histogram2d\",\"colorbar\":{\"outlinewidth\":0,\"ticks\":\"\"},\"colorscale\":[[0.0,\"#0d0887\"],[0.1111111111111111,\"#46039f\"],[0.2222222222222222,\"#7201a8\"],[0.3333333333333333,\"#9c179e\"],[0.4444444444444444,\"#bd3786\"],[0.5555555555555556,\"#d8576b\"],[0.6666666666666666,\"#ed7953\"],[0.7777777777777778,\"#fb9f3a\"],[0.8888888888888888,\"#fdca26\"],[1.0,\"#f0f921\"]]}],\"heatmap\":[{\"type\":\"heatmap\",\"colorbar\":{\"outlinewidth\":0,\"ticks\":\"\"},\"colorscale\":[[0.0,\"#0d0887\"],[0.1111111111111111,\"#46039f\"],[0.2222222222222222,\"#7201a8\"],[0.3333333333333333,\"#9c179e\"],[0.4444444444444444,\"#bd3786\"],[0.5555555555555556,\"#d8576b\"],[0.6666666666666666,\"#ed7953\"],[0.7777777777777778,\"#fb9f3a\"],[0.8888888888888888,\"#fdca26\"],[1.0,\"#f0f921\"]]}],\"heatmapgl\":[{\"type\":\"heatmapgl\",\"colorbar\":{\"outlinewidth\":0,\"ticks\":\"\"},\"colorscale\":[[0.0,\"#0d0887\"],[0.1111111111111111,\"#46039f\"],[0.2222222222222222,\"#7201a8\"],[0.3333333333333333,\"#9c179e\"],[0.4444444444444444,\"#bd3786\"],[0.5555555555555556,\"#d8576b\"],[0.6666666666666666,\"#ed7953\"],[0.7777777777777778,\"#fb9f3a\"],[0.8888888888888888,\"#fdca26\"],[1.0,\"#f0f921\"]]}],\"contourcarpet\":[{\"type\":\"contourcarpet\",\"colorbar\":{\"outlinewidth\":0,\"ticks\":\"\"}}],\"contour\":[{\"type\":\"contour\",\"colorbar\":{\"outlinewidth\":0,\"ticks\":\"\"},\"colorscale\":[[0.0,\"#0d0887\"],[0.1111111111111111,\"#46039f\"],[0.2222222222222222,\"#7201a8\"],[0.3333333333333333,\"#9c179e\"],[0.4444444444444444,\"#bd3786\"],[0.5555555555555556,\"#d8576b\"],[0.6666666666666666,\"#ed7953\"],[0.7777777777777778,\"#fb9f3a\"],[0.8888888888888888,\"#fdca26\"],[1.0,\"#f0f921\"]]}],\"surface\":[{\"type\":\"surface\",\"colorbar\":{\"outlinewidth\":0,\"ticks\":\"\"},\"colorscale\":[[0.0,\"#0d0887\"],[0.1111111111111111,\"#46039f\"],[0.2222222222222222,\"#7201a8\"],[0.3333333333333333,\"#9c179e\"],[0.4444444444444444,\"#bd3786\"],[0.5555555555555556,\"#d8576b\"],[0.6666666666666666,\"#ed7953\"],[0.7777777777777778,\"#fb9f3a\"],[0.8888888888888888,\"#fdca26\"],[1.0,\"#f0f921\"]]}],\"mesh3d\":[{\"type\":\"mesh3d\",\"colorbar\":{\"outlinewidth\":0,\"ticks\":\"\"}}],\"scatter\":[{\"fillpattern\":{\"fillmode\":\"overlay\",\"size\":10,\"solidity\":0.2},\"type\":\"scatter\"}],\"parcoords\":[{\"type\":\"parcoords\",\"line\":{\"colorbar\":{\"outlinewidth\":0,\"ticks\":\"\"}}}],\"scatterpolargl\":[{\"type\":\"scatterpolargl\",\"marker\":{\"colorbar\":{\"outlinewidth\":0,\"ticks\":\"\"}}}],\"bar\":[{\"error_x\":{\"color\":\"#2a3f5f\"},\"error_y\":{\"color\":\"#2a3f5f\"},\"marker\":{\"line\":{\"color\":\"#E5ECF6\",\"width\":0.5},\"pattern\":{\"fillmode\":\"overlay\",\"size\":10,\"solidity\":0.2}},\"type\":\"bar\"}],\"scattergeo\":[{\"type\":\"scattergeo\",\"marker\":{\"colorbar\":{\"outlinewidth\":0,\"ticks\":\"\"}}}],\"scatterpolar\":[{\"type\":\"scatterpolar\",\"marker\":{\"colorbar\":{\"outlinewidth\":0,\"ticks\":\"\"}}}],\"histogram\":[{\"marker\":{\"pattern\":{\"fillmode\":\"overlay\",\"size\":10,\"solidity\":0.2}},\"type\":\"histogram\"}],\"scattergl\":[{\"type\":\"scattergl\",\"marker\":{\"colorbar\":{\"outlinewidth\":0,\"ticks\":\"\"}}}],\"scatter3d\":[{\"type\":\"scatter3d\",\"line\":{\"colorbar\":{\"outlinewidth\":0,\"ticks\":\"\"}},\"marker\":{\"colorbar\":{\"outlinewidth\":0,\"ticks\":\"\"}}}],\"scattermapbox\":[{\"type\":\"scattermapbox\",\"marker\":{\"colorbar\":{\"outlinewidth\":0,\"ticks\":\"\"}}}],\"scatterternary\":[{\"type\":\"scatterternary\",\"marker\":{\"colorbar\":{\"outlinewidth\":0,\"ticks\":\"\"}}}],\"scattercarpet\":[{\"type\":\"scattercarpet\",\"marker\":{\"colorbar\":{\"outlinewidth\":0,\"ticks\":\"\"}}}],\"carpet\":[{\"aaxis\":{\"endlinecolor\":\"#2a3f5f\",\"gridcolor\":\"white\",\"linecolor\":\"white\",\"minorgridcolor\":\"white\",\"startlinecolor\":\"#2a3f5f\"},\"baxis\":{\"endlinecolor\":\"#2a3f5f\",\"gridcolor\":\"white\",\"linecolor\":\"white\",\"minorgridcolor\":\"white\",\"startlinecolor\":\"#2a3f5f\"},\"type\":\"carpet\"}],\"table\":[{\"cells\":{\"fill\":{\"color\":\"#EBF0F8\"},\"line\":{\"color\":\"white\"}},\"header\":{\"fill\":{\"color\":\"#C8D4E3\"},\"line\":{\"color\":\"white\"}},\"type\":\"table\"}],\"barpolar\":[{\"marker\":{\"line\":{\"color\":\"#E5ECF6\",\"width\":0.5},\"pattern\":{\"fillmode\":\"overlay\",\"size\":10,\"solidity\":0.2}},\"type\":\"barpolar\"}],\"pie\":[{\"automargin\":true,\"type\":\"pie\"}]},\"layout\":{\"autotypenumbers\":\"strict\",\"colorway\":[\"#636efa\",\"#EF553B\",\"#00cc96\",\"#ab63fa\",\"#FFA15A\",\"#19d3f3\",\"#FF6692\",\"#B6E880\",\"#FF97FF\",\"#FECB52\"],\"font\":{\"color\":\"#2a3f5f\"},\"hovermode\":\"closest\",\"hoverlabel\":{\"align\":\"left\"},\"paper_bgcolor\":\"white\",\"plot_bgcolor\":\"#E5ECF6\",\"polar\":{\"bgcolor\":\"#E5ECF6\",\"angularaxis\":{\"gridcolor\":\"white\",\"linecolor\":\"white\",\"ticks\":\"\"},\"radialaxis\":{\"gridcolor\":\"white\",\"linecolor\":\"white\",\"ticks\":\"\"}},\"ternary\":{\"bgcolor\":\"#E5ECF6\",\"aaxis\":{\"gridcolor\":\"white\",\"linecolor\":\"white\",\"ticks\":\"\"},\"baxis\":{\"gridcolor\":\"white\",\"linecolor\":\"white\",\"ticks\":\"\"},\"caxis\":{\"gridcolor\":\"white\",\"linecolor\":\"white\",\"ticks\":\"\"}},\"coloraxis\":{\"colorbar\":{\"outlinewidth\":0,\"ticks\":\"\"}},\"colorscale\":{\"sequential\":[[0.0,\"#0d0887\"],[0.1111111111111111,\"#46039f\"],[0.2222222222222222,\"#7201a8\"],[0.3333333333333333,\"#9c179e\"],[0.4444444444444444,\"#bd3786\"],[0.5555555555555556,\"#d8576b\"],[0.6666666666666666,\"#ed7953\"],[0.7777777777777778,\"#fb9f3a\"],[0.8888888888888888,\"#fdca26\"],[1.0,\"#f0f921\"]],\"sequentialminus\":[[0.0,\"#0d0887\"],[0.1111111111111111,\"#46039f\"],[0.2222222222222222,\"#7201a8\"],[0.3333333333333333,\"#9c179e\"],[0.4444444444444444,\"#bd3786\"],[0.5555555555555556,\"#d8576b\"],[0.6666666666666666,\"#ed7953\"],[0.7777777777777778,\"#fb9f3a\"],[0.8888888888888888,\"#fdca26\"],[1.0,\"#f0f921\"]],\"diverging\":[[0,\"#8e0152\"],[0.1,\"#c51b7d\"],[0.2,\"#de77ae\"],[0.3,\"#f1b6da\"],[0.4,\"#fde0ef\"],[0.5,\"#f7f7f7\"],[0.6,\"#e6f5d0\"],[0.7,\"#b8e186\"],[0.8,\"#7fbc41\"],[0.9,\"#4d9221\"],[1,\"#276419\"]]},\"xaxis\":{\"gridcolor\":\"white\",\"linecolor\":\"white\",\"ticks\":\"\",\"title\":{\"standoff\":15},\"zerolinecolor\":\"white\",\"automargin\":true,\"zerolinewidth\":2},\"yaxis\":{\"gridcolor\":\"white\",\"linecolor\":\"white\",\"ticks\":\"\",\"title\":{\"standoff\":15},\"zerolinecolor\":\"white\",\"automargin\":true,\"zerolinewidth\":2},\"scene\":{\"xaxis\":{\"backgroundcolor\":\"#E5ECF6\",\"gridcolor\":\"white\",\"linecolor\":\"white\",\"showbackground\":true,\"ticks\":\"\",\"zerolinecolor\":\"white\",\"gridwidth\":2},\"yaxis\":{\"backgroundcolor\":\"#E5ECF6\",\"gridcolor\":\"white\",\"linecolor\":\"white\",\"showbackground\":true,\"ticks\":\"\",\"zerolinecolor\":\"white\",\"gridwidth\":2},\"zaxis\":{\"backgroundcolor\":\"#E5ECF6\",\"gridcolor\":\"white\",\"linecolor\":\"white\",\"showbackground\":true,\"ticks\":\"\",\"zerolinecolor\":\"white\",\"gridwidth\":2}},\"shapedefaults\":{\"line\":{\"color\":\"#2a3f5f\"}},\"annotationdefaults\":{\"arrowcolor\":\"#2a3f5f\",\"arrowhead\":0,\"arrowwidth\":1},\"geo\":{\"bgcolor\":\"white\",\"landcolor\":\"#E5ECF6\",\"subunitcolor\":\"white\",\"showland\":true,\"showlakes\":true,\"lakecolor\":\"white\"},\"title\":{\"x\":0.05},\"mapbox\":{\"style\":\"light\"}}},\"title\":{\"text\":\"Overview for Normalized Target and WAP for 5 days\"}},                        {\"responsive\": true}                    ).then(function(){\n",
       "                            \n",
       "var gd = document.getElementById('18604842-7cbc-4063-bb53-e73fe5bfaeca');\n",
       "var x = new MutationObserver(function (mutations, observer) {{\n",
       "        var display = window.getComputedStyle(gd).display;\n",
       "        if (!display || display === 'none') {{\n",
       "            console.log([gd, 'removed!']);\n",
       "            Plotly.purge(gd);\n",
       "            observer.disconnect();\n",
       "        }}\n",
       "}});\n",
       "\n",
       "// Listen for the removal of the full notebook cells\n",
       "var notebookContainer = gd.closest('#notebook-container');\n",
       "if (notebookContainer) {{\n",
       "    x.observe(notebookContainer, {childList: true});\n",
       "}}\n",
       "\n",
       "// Listen for the clearing of the current output cell\n",
       "var outputEl = gd.closest('.output');\n",
       "if (outputEl) {{\n",
       "    x.observe(outputEl, {childList: true});\n",
       "}}\n",
       "\n",
       "                        })                };                });            </script>        </div>"
      ]
     },
     "metadata": {},
     "output_type": "display_data"
    }
   ],
   "source": [
    "total_size = stock00.eval('ask_size + bid_size').values\n",
    "\n",
    "fig = go.Figure()\n",
    "\n",
    "fig.add_trace(\n",
    "    go.Scatter(x = stock00['time_id'], \n",
    "            y = (stock00['target'] - stock00['target'].min()) \\\n",
    "               / (stock00['target'].max() - stock00['target'].min()) ,\n",
    "            name = 'total size',\n",
    "            line = dict(color = 'blue')))\n",
    "\n",
    "\n",
    "\n",
    "fig.add_trace(\n",
    "    go.Scatter(x = stock00['time_id'], \n",
    "            y = (stock00['wap'] - stock00['wap'].min()) / (stock00['wap'].max() - stock00['wap'].min()), \n",
    "            name = 'WAP',\n",
    "            line = dict(color = 'orange')))\n",
    "\n",
    "fig.update_layout(title = \"Overview for Normalized Target and WAP for 5 days\") "
   ]
  },
  {
   "cell_type": "code",
   "execution_count": 34,
   "id": "c13ad489d271ff48",
   "metadata": {
    "ExecuteTime": {
     "end_time": "2023-12-10T18:02:49.569122Z",
     "start_time": "2023-12-10T18:02:47.329548Z"
    },
    "collapsed": false,
    "jupyter": {
     "outputs_hidden": false
    }
   },
   "outputs": [],
   "source": [
    "from numba import njit, prange\n",
    "\n",
    "# 📊 Function to compute triplet imbalance in parallel using Numba\n",
    "def generate_features(df: pd.DataFrame) -> pd.DataFrame:\n",
    "    features = ['seconds_in_bucket', 'imbalance_buy_sell_flag',\n",
    "               'imbalance_size', 'matched_size', 'bid_size', 'ask_size',\n",
    "                'reference_price','far_price', 'near_price', 'ask_price', 'bid_price', 'wap',\n",
    "                'imb_s1', 'imb_s2'\n",
    "               ]\n",
    "    \n",
    "    df['imb_s1'] = df.eval('(bid_size-ask_size)/(bid_size+ask_size)')\n",
    "    df['imb_s2'] = df.eval('(imbalance_size-matched_size)/(matched_size+imbalance_size)')\n",
    "    \n",
    "    prices = ['reference_price','far_price', 'near_price', 'ask_price', 'bid_price', 'wap']\n",
    "    \n",
    "    # iceburg ask \n",
    "#     df['iceburg_ask'] = df['ask_size']\n",
    "#     for i in range(len(df)):\n",
    "#         if df['bid_size'][i] > 10 * df['ask_size'][i]: \n",
    "#             df['iceburg_ask'][i + 10] += df['bid_size'][i]\n",
    "#     features.append('iceburg_ask')\n",
    "            \n",
    "#     # iceburg bid \n",
    "#     df['iceburg_bid'] = df['bid_size']\n",
    "#     for i in range(len(df['ask_size'])):\n",
    "#         if df['ask_size'][i] > 10 * df['bid_size'][i]: \n",
    "#             df['iceburg_bid'][i + 10] += df['ask_size'][i]\n",
    "#     features.append(f'iceburg_bid')\n",
    "    \n",
    "    return df[features]\n",
    "    "
   ]
  },
  {
   "cell_type": "code",
   "execution_count": null,
   "id": "5708b98bfd787afc",
   "metadata": {
    "collapsed": false,
    "jupyter": {
     "outputs_hidden": false
    }
   },
   "outputs": [],
   "source": [
    "# TRAINING = True\n",
    "# if TRAINING:\n",
    "# #    df_train = pd.read_csv('/kaggle/input/optiver-trading-at-the-close/train.csv')\n",
    "#    df_ = generate_features(train)"
   ]
  },
  {
   "cell_type": "code",
   "execution_count": 35,
   "id": "8aabac692b9f31f5",
   "metadata": {
    "ExecuteTime": {
     "end_time": "2023-12-10T18:03:00.801626Z",
     "start_time": "2023-12-10T18:03:00.102526Z"
    },
    "collapsed": false,
    "jupyter": {
     "outputs_hidden": false
    }
   },
   "outputs": [],
   "source": [
    "TRAINING = True\n",
    "if TRAINING:\n",
    "   df_ = generate_features(train)"
   ]
  },
  {
   "cell_type": "code",
   "execution_count": 36,
   "id": "2e8648c884f721f1",
   "metadata": {
    "ExecuteTime": {
     "end_time": "2023-12-10T18:03:23.842961Z",
     "start_time": "2023-12-10T18:03:22.777732Z"
    },
    "collapsed": false,
    "jupyter": {
     "outputs_hidden": false
    }
   },
   "outputs": [],
   "source": [
    "model_path ='data/RKCP0219'\n",
    "os.makedirs('models', exist_ok=True)\n",
    "\n",
    "N_fold = 5\n",
    "\n",
    "if TRAINING:\n",
    "    X = df_.values\n",
    "    Y = train['target'].values\n",
    "\n",
    "    X = X[np.isfinite(Y)]\n",
    "    Y = Y[np.isfinite(Y)]\n",
    "\n",
    "    index = np.arange(len(X))"
   ]
  },
  {
   "cell_type": "code",
   "execution_count": 37,
   "id": "83fdfb7a555a35db",
   "metadata": {
    "ExecuteTime": {
     "end_time": "2023-12-10T18:05:09.274043Z",
     "start_time": "2023-12-10T18:03:31.195019Z"
    },
    "collapsed": false,
    "jupyter": {
     "outputs_hidden": false
    }
   },
   "outputs": [
    {
     "name": "stdout",
     "output_type": "stream",
     "text": [
      "0:\tlearn: 6.3778840\ttest: 6.5105709\tbest: 6.5105709 (0)\ttotal: 341ms\tremaining: 3.06s\n",
      "9:\tlearn: 6.3571969\ttest: 6.4881493\tbest: 6.4881493 (9)\ttotal: 2.03s\tremaining: 0us\n",
      "\n",
      "bestTest = 6.488149321\n",
      "bestIteration = 9\n",
      "0:\tlearn: 6.4165329\ttest: 6.3558684\tbest: 6.3558684 (0)\ttotal: 254ms\tremaining: 2.29s\n",
      "9:\tlearn: 6.3953477\ttest: 6.3345586\tbest: 6.3345586 (9)\ttotal: 1.86s\tremaining: 0us\n",
      "\n",
      "bestTest = 6.334558563\n",
      "bestIteration = 9\n",
      "0:\tlearn: 6.4302378\ttest: 6.3012572\tbest: 6.3012572 (0)\ttotal: 299ms\tremaining: 2.69s\n",
      "9:\tlearn: 6.4088284\ttest: 6.2800822\tbest: 6.2800822 (9)\ttotal: 1.96s\tremaining: 0us\n",
      "\n",
      "bestTest = 6.280082238\n",
      "bestIteration = 9\n",
      "0:\tlearn: 6.4152611\ttest: 6.3609269\tbest: 6.3609269 (0)\ttotal: 325ms\tremaining: 2.92s\n",
      "9:\tlearn: 6.3933081\ttest: 6.3406562\tbest: 6.3406562 (9)\ttotal: 1.97s\tremaining: 0us\n",
      "\n",
      "bestTest = 6.340656151\n",
      "bestIteration = 9\n",
      "0:\tlearn: 6.3821504\ttest: 6.4935753\tbest: 6.4935753 (0)\ttotal: 255ms\tremaining: 2.3s\n",
      "9:\tlearn: 6.3608675\ttest: 6.4724494\tbest: 6.4724494 (9)\ttotal: 1.85s\tremaining: 0us\n",
      "\n",
      "bestTest = 6.472449382\n",
      "bestIteration = 9\n"
     ]
    }
   ],
   "source": [
    "models = []\n",
    "\n",
    "def train(model_dict, modelname='lgb'):\n",
    "    if TRAINING:\n",
    "        model = model_dict[modelname]\n",
    "        model.fit(X[index%N_fold!=i], Y[index%N_fold!=i], \n",
    "                    eval_set=[(X[index%N_fold==i], Y[index%N_fold==i])], \n",
    "                    verbose=10, \n",
    "                    early_stopping_rounds=100\n",
    "                    )\n",
    "        models.append(model)\n",
    "        joblib.dump(model, './models/{modelname}_{i}.model')\n",
    "    else:\n",
    "        models.append(joblib.load(f'{model_path}/{modelname}_{i}.model'))\n",
    "    return \n",
    "\n",
    "model_dict = {\n",
    "    'cbt': cbt.CatBoostRegressor(objective='MAE', iterations=10),\n",
    "\n",
    "}\n",
    "\n",
    "for i in range(N_fold):\n",
    "    train(model_dict, 'cbt')"
   ]
  },
  {
   "cell_type": "code",
   "execution_count": 39,
   "id": "4ab64d10623fccce",
   "metadata": {
    "ExecuteTime": {
     "end_time": "2023-12-10T18:05:22.024891Z",
     "start_time": "2023-12-10T18:05:22.020562Z"
    },
    "collapsed": false,
    "jupyter": {
     "outputs_hidden": false
    }
   },
   "outputs": [
    {
     "ename": "SyntaxError",
     "evalue": "invalid syntax (439129374.py, line 1)",
     "output_type": "error",
     "traceback": [
      "\u001b[0;36m  Cell \u001b[0;32mIn[39], line 1\u001b[0;36m\u001b[0m\n\u001b[0;31m    import data/optiver2023\u001b[0m\n\u001b[0m               ^\u001b[0m\n\u001b[0;31mSyntaxError\u001b[0m\u001b[0;31m:\u001b[0m invalid syntax\n"
     ]
    }
   ],
   "source": [
    "import optiver2023\n",
    "env = optiver2023.make_env()\n",
    "iter_test = env.iter_test()"
   ]
  },
  {
   "cell_type": "code",
   "execution_count": 38,
   "id": "ecfedbaeada4bd94",
   "metadata": {
    "ExecuteTime": {
     "end_time": "2023-12-10T18:05:09.295935Z",
     "start_time": "2023-12-10T18:05:09.284923Z"
    },
    "collapsed": false,
    "jupyter": {
     "outputs_hidden": false
    }
   },
   "outputs": [
    {
     "ename": "NameError",
     "evalue": "name 'iter_test' is not defined",
     "output_type": "error",
     "traceback": [
      "\u001b[0;31m---------------------------------------------------------------------------\u001b[0m",
      "\u001b[0;31mNameError\u001b[0m                                 Traceback (most recent call last)",
      "Cell \u001b[0;32mIn[38], line 2\u001b[0m\n\u001b[1;32m      1\u001b[0m counter \u001b[38;5;241m=\u001b[39m \u001b[38;5;241m0\u001b[39m\n\u001b[0;32m----> 2\u001b[0m \u001b[38;5;28;01mfor\u001b[39;00m (test, revealed_targets, sample_prediction) \u001b[38;5;129;01min\u001b[39;00m iter_test:\n\u001b[1;32m      3\u001b[0m     feat \u001b[38;5;241m=\u001b[39m generate_features(test)\n\u001b[1;32m      5\u001b[0m     sample_prediction[\u001b[38;5;124m'\u001b[39m\u001b[38;5;124mtarget\u001b[39m\u001b[38;5;124m'\u001b[39m] \u001b[38;5;241m=\u001b[39m np\u001b[38;5;241m.\u001b[39mmean([model\u001b[38;5;241m.\u001b[39mpredict(feat) \u001b[38;5;28;01mfor\u001b[39;00m model \u001b[38;5;129;01min\u001b[39;00m models], \u001b[38;5;241m0\u001b[39m)\n",
      "\u001b[0;31mNameError\u001b[0m: name 'iter_test' is not defined"
     ]
    }
   ],
   "source": [
    "counter = 0\n",
    "for (test, revealed_targets, sample_prediction) in iter_test:\n",
    "    feat = generate_features(test)\n",
    "    \n",
    "    sample_prediction['target'] = np.mean([model.predict(feat) for model in models], 0)\n",
    "    env.predict(sample_prediction)\n",
    "    counter += 1"
   ]
  },
  {
   "cell_type": "code",
   "execution_count": null,
   "id": "9b01092a48078aa3",
   "metadata": {
    "collapsed": false,
    "jupyter": {
     "outputs_hidden": false
    }
   },
   "outputs": [],
   "source": []
  }
 ],
 "metadata": {
  "kernelspec": {
   "display_name": "Python 3 (ipykernel)",
   "language": "python",
   "name": "python3"
  },
  "language_info": {
   "codemirror_mode": {
    "name": "ipython",
    "version": 3
   },
   "file_extension": ".py",
   "mimetype": "text/x-python",
   "name": "python",
   "nbconvert_exporter": "python",
   "pygments_lexer": "ipython3",
   "version": "3.11.2"
  }
 },
 "nbformat": 4,
 "nbformat_minor": 5
}
