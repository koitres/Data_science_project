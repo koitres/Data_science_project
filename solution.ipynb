{
 "cells": [
  {
   "cell_type": "code",
   "execution_count": 1,
   "id": "initial_id",
   "metadata": {
    "collapsed": true,
    "jupyter": {
     "outputs_hidden": true
    },
    "ExecuteTime": {
     "end_time": "2023-12-10T22:26:38.689886Z",
     "start_time": "2023-12-10T22:26:23.584030Z"
    }
   },
   "outputs": [
    {
     "name": "stdout",
     "output_type": "stream",
     "text": [
      "Requirement already satisfied: pandas in /Users/johannmkammiste/anaconda3/lib/python3.11/site-packages (1.5.3)\r\n",
      "Requirement already satisfied: python-dateutil>=2.8.1 in /Users/johannmkammiste/anaconda3/lib/python3.11/site-packages (from pandas) (2.8.2)\r\n",
      "Requirement already satisfied: pytz>=2020.1 in /Users/johannmkammiste/anaconda3/lib/python3.11/site-packages (from pandas) (2022.7)\r\n",
      "Requirement already satisfied: numpy>=1.21.0 in /Users/johannmkammiste/anaconda3/lib/python3.11/site-packages (from pandas) (1.24.3)\r\n",
      "Requirement already satisfied: six>=1.5 in /Users/johannmkammiste/anaconda3/lib/python3.11/site-packages (from python-dateutil>=2.8.1->pandas) (1.16.0)\r\n",
      "Requirement already satisfied: scikit-learn in /Users/johannmkammiste/anaconda3/lib/python3.11/site-packages (1.3.0)\r\n",
      "Requirement already satisfied: numpy>=1.17.3 in /Users/johannmkammiste/anaconda3/lib/python3.11/site-packages (from scikit-learn) (1.24.3)\r\n",
      "Requirement already satisfied: scipy>=1.5.0 in /Users/johannmkammiste/anaconda3/lib/python3.11/site-packages (from scikit-learn) (1.10.1)\r\n",
      "Requirement already satisfied: joblib>=1.1.1 in /Users/johannmkammiste/anaconda3/lib/python3.11/site-packages (from scikit-learn) (1.2.0)\r\n",
      "Requirement already satisfied: threadpoolctl>=2.0.0 in /Users/johannmkammiste/anaconda3/lib/python3.11/site-packages (from scikit-learn) (2.2.0)\r\n",
      "Requirement already satisfied: seaborn in /Users/johannmkammiste/anaconda3/lib/python3.11/site-packages (0.12.2)\r\n",
      "Requirement already satisfied: numpy!=1.24.0,>=1.17 in /Users/johannmkammiste/anaconda3/lib/python3.11/site-packages (from seaborn) (1.24.3)\r\n",
      "Requirement already satisfied: pandas>=0.25 in /Users/johannmkammiste/anaconda3/lib/python3.11/site-packages (from seaborn) (1.5.3)\r\n",
      "Requirement already satisfied: matplotlib!=3.6.1,>=3.1 in /Users/johannmkammiste/anaconda3/lib/python3.11/site-packages (from seaborn) (3.7.1)\r\n",
      "Requirement already satisfied: contourpy>=1.0.1 in /Users/johannmkammiste/anaconda3/lib/python3.11/site-packages (from matplotlib!=3.6.1,>=3.1->seaborn) (1.0.5)\r\n",
      "Requirement already satisfied: cycler>=0.10 in /Users/johannmkammiste/anaconda3/lib/python3.11/site-packages (from matplotlib!=3.6.1,>=3.1->seaborn) (0.11.0)\r\n",
      "Requirement already satisfied: fonttools>=4.22.0 in /Users/johannmkammiste/anaconda3/lib/python3.11/site-packages (from matplotlib!=3.6.1,>=3.1->seaborn) (4.25.0)\r\n",
      "Requirement already satisfied: kiwisolver>=1.0.1 in /Users/johannmkammiste/anaconda3/lib/python3.11/site-packages (from matplotlib!=3.6.1,>=3.1->seaborn) (1.4.4)\r\n",
      "Requirement already satisfied: packaging>=20.0 in /Users/johannmkammiste/anaconda3/lib/python3.11/site-packages (from matplotlib!=3.6.1,>=3.1->seaborn) (23.0)\r\n",
      "Requirement already satisfied: pillow>=6.2.0 in /Users/johannmkammiste/anaconda3/lib/python3.11/site-packages (from matplotlib!=3.6.1,>=3.1->seaborn) (9.4.0)\r\n",
      "Requirement already satisfied: pyparsing>=2.3.1 in /Users/johannmkammiste/anaconda3/lib/python3.11/site-packages (from matplotlib!=3.6.1,>=3.1->seaborn) (3.0.9)\r\n",
      "Requirement already satisfied: python-dateutil>=2.7 in /Users/johannmkammiste/anaconda3/lib/python3.11/site-packages (from matplotlib!=3.6.1,>=3.1->seaborn) (2.8.2)\r\n",
      "Requirement already satisfied: pytz>=2020.1 in /Users/johannmkammiste/anaconda3/lib/python3.11/site-packages (from pandas>=0.25->seaborn) (2022.7)\r\n",
      "Requirement already satisfied: six>=1.5 in /Users/johannmkammiste/anaconda3/lib/python3.11/site-packages (from python-dateutil>=2.7->matplotlib!=3.6.1,>=3.1->seaborn) (1.16.0)\r\n",
      "zsh:1: no matches found: lightgbm[scikit-learn]\r\n",
      "Requirement already satisfied: plotly in /Users/johannmkammiste/anaconda3/lib/python3.11/site-packages (5.9.0)\r\n",
      "Requirement already satisfied: tenacity>=6.2.0 in /Users/johannmkammiste/anaconda3/lib/python3.11/site-packages (from plotly) (8.2.2)\r\n",
      "Requirement already satisfied: xgboost in /Users/johannmkammiste/anaconda3/lib/python3.11/site-packages (2.0.2)\r\n",
      "Requirement already satisfied: numpy in /Users/johannmkammiste/anaconda3/lib/python3.11/site-packages (from xgboost) (1.24.3)\r\n",
      "Requirement already satisfied: scipy in /Users/johannmkammiste/anaconda3/lib/python3.11/site-packages (from xgboost) (1.10.1)\r\n",
      "Requirement already satisfied: catboost in /Users/johannmkammiste/anaconda3/lib/python3.11/site-packages (1.2.2)\r\n",
      "Requirement already satisfied: graphviz in /Users/johannmkammiste/anaconda3/lib/python3.11/site-packages (from catboost) (0.20.1)\r\n",
      "Requirement already satisfied: matplotlib in /Users/johannmkammiste/anaconda3/lib/python3.11/site-packages (from catboost) (3.7.1)\r\n",
      "Requirement already satisfied: numpy>=1.16.0 in /Users/johannmkammiste/anaconda3/lib/python3.11/site-packages (from catboost) (1.24.3)\r\n",
      "Requirement already satisfied: pandas>=0.24 in /Users/johannmkammiste/anaconda3/lib/python3.11/site-packages (from catboost) (1.5.3)\r\n",
      "Requirement already satisfied: scipy in /Users/johannmkammiste/anaconda3/lib/python3.11/site-packages (from catboost) (1.10.1)\r\n",
      "Requirement already satisfied: plotly in /Users/johannmkammiste/anaconda3/lib/python3.11/site-packages (from catboost) (5.9.0)\r\n",
      "Requirement already satisfied: six in /Users/johannmkammiste/anaconda3/lib/python3.11/site-packages (from catboost) (1.16.0)\r\n",
      "Requirement already satisfied: python-dateutil>=2.8.1 in /Users/johannmkammiste/anaconda3/lib/python3.11/site-packages (from pandas>=0.24->catboost) (2.8.2)\r\n",
      "Requirement already satisfied: pytz>=2020.1 in /Users/johannmkammiste/anaconda3/lib/python3.11/site-packages (from pandas>=0.24->catboost) (2022.7)\r\n",
      "Requirement already satisfied: contourpy>=1.0.1 in /Users/johannmkammiste/anaconda3/lib/python3.11/site-packages (from matplotlib->catboost) (1.0.5)\r\n",
      "Requirement already satisfied: cycler>=0.10 in /Users/johannmkammiste/anaconda3/lib/python3.11/site-packages (from matplotlib->catboost) (0.11.0)\r\n",
      "Requirement already satisfied: fonttools>=4.22.0 in /Users/johannmkammiste/anaconda3/lib/python3.11/site-packages (from matplotlib->catboost) (4.25.0)\r\n",
      "Requirement already satisfied: kiwisolver>=1.0.1 in /Users/johannmkammiste/anaconda3/lib/python3.11/site-packages (from matplotlib->catboost) (1.4.4)\r\n",
      "Requirement already satisfied: packaging>=20.0 in /Users/johannmkammiste/anaconda3/lib/python3.11/site-packages (from matplotlib->catboost) (23.0)\r\n",
      "Requirement already satisfied: pillow>=6.2.0 in /Users/johannmkammiste/anaconda3/lib/python3.11/site-packages (from matplotlib->catboost) (9.4.0)\r\n",
      "Requirement already satisfied: pyparsing>=2.3.1 in /Users/johannmkammiste/anaconda3/lib/python3.11/site-packages (from matplotlib->catboost) (3.0.9)\r\n",
      "Requirement already satisfied: tenacity>=6.2.0 in /Users/johannmkammiste/anaconda3/lib/python3.11/site-packages (from plotly->catboost) (8.2.2)\r\n",
      "Requirement already satisfied: joblib in /Users/johannmkammiste/anaconda3/lib/python3.11/site-packages (1.2.0)\r\n",
      "Requirement already satisfied: kaggle in /Users/johannmkammiste/anaconda3/lib/python3.11/site-packages (1.5.16)\r\n",
      "Requirement already satisfied: six>=1.10 in /Users/johannmkammiste/anaconda3/lib/python3.11/site-packages (from kaggle) (1.16.0)\r\n",
      "Requirement already satisfied: certifi in /Users/johannmkammiste/anaconda3/lib/python3.11/site-packages (from kaggle) (2023.11.17)\r\n",
      "Requirement already satisfied: python-dateutil in /Users/johannmkammiste/anaconda3/lib/python3.11/site-packages (from kaggle) (2.8.2)\r\n",
      "Requirement already satisfied: requests in /Users/johannmkammiste/anaconda3/lib/python3.11/site-packages (from kaggle) (2.31.0)\r\n",
      "Requirement already satisfied: tqdm in /Users/johannmkammiste/anaconda3/lib/python3.11/site-packages (from kaggle) (4.65.0)\r\n",
      "Requirement already satisfied: python-slugify in /Users/johannmkammiste/anaconda3/lib/python3.11/site-packages (from kaggle) (5.0.2)\r\n",
      "Requirement already satisfied: urllib3 in /Users/johannmkammiste/anaconda3/lib/python3.11/site-packages (from kaggle) (1.26.16)\r\n",
      "Requirement already satisfied: bleach in /Users/johannmkammiste/anaconda3/lib/python3.11/site-packages (from kaggle) (4.1.0)\r\n",
      "Requirement already satisfied: packaging in /Users/johannmkammiste/anaconda3/lib/python3.11/site-packages (from bleach->kaggle) (23.0)\r\n",
      "Requirement already satisfied: webencodings in /Users/johannmkammiste/anaconda3/lib/python3.11/site-packages (from bleach->kaggle) (0.5.1)\r\n",
      "Requirement already satisfied: text-unidecode>=1.3 in /Users/johannmkammiste/anaconda3/lib/python3.11/site-packages (from python-slugify->kaggle) (1.3)\r\n",
      "Requirement already satisfied: charset-normalizer<4,>=2 in /Users/johannmkammiste/anaconda3/lib/python3.11/site-packages (from requests->kaggle) (2.0.4)\r\n",
      "Requirement already satisfied: idna<4,>=2.5 in /Users/johannmkammiste/anaconda3/lib/python3.11/site-packages (from requests->kaggle) (3.4)\r\n"
     ]
    }
   ],
   "source": [
    "!pip install pandas\n",
    "!pip install scikit-learn\n",
    "!pip install seaborn\n",
    "!pip install lightgbm[scikit-learn]\n",
    "!pip install plotly\n",
    "!pip install xgboost\n",
    "!pip install catboost\n",
    "!pip install joblib\n",
    "!pip install kaggle"
   ]
  },
  {
   "cell_type": "code",
   "execution_count": 4,
   "id": "6d3434d62fd41d99",
   "metadata": {
    "ExecuteTime": {
     "end_time": "2023-12-10T22:26:50.942849Z",
     "start_time": "2023-12-10T22:26:50.936251Z"
    }
   },
   "outputs": [
    {
     "name": "stdout",
     "output_type": "stream",
     "text": [
      "data/__init__.py\n",
      "data/public_timeseries_testing_util.py\n",
      "data/train.csv\n",
      "data/models/{modelname}_{i}.model\n",
      "data/example_test_files/revealed_targets.csv\n",
      "data/example_test_files/test.csv\n",
      "data/example_test_files/sample_submission.csv\n",
      "data/optiver2023/__init__.py\n",
      "data/optiver2023/competition.cpython-310-x86_64-linux-gnu.so\n",
      "data/optiver2023/__pycache__/__init__.cpython-311.pyc\n",
      "data/.ipynb_checkpoints/public_timeseries_testing_util-checkpoint.py\n",
      "data/catboost_info/learn_error.tsv\n",
      "data/catboost_info/test_error.tsv\n",
      "data/catboost_info/time_left.tsv\n",
      "data/catboost_info/catboost_training.json\n",
      "data/catboost_info/learn/events.out.tfevents\n",
      "data/catboost_info/test/events.out.tfevents\n"
     ]
    }
   ],
   "source": [
    "#imports\n",
    "# Data Analytic Tools\n",
    "import matplotlib.pyplot as plt \n",
    "import pandas as pd\n",
    "import seaborn as sns \n",
    "import plotly.express as px\n",
    "import plotly.graph_objects as go\n",
    "%matplotlib inline\n",
    "%config InlineBackend.figure_format='retina'\n",
    "\n",
    "# Computing Tools \n",
    "import lightgbm as lgb \n",
    "import xgboost as xgb \n",
    "import catboost as cbt \n",
    "import numpy as np \n",
    "import joblib \n",
    "import os\n",
    "from sklearn.model_selection import train_test_split\n",
    "from sklearn.metrics import mean_absolute_error\n",
    "\n",
    "\n",
    "for dirname, _, filenames in os.walk('data/'):\n",
    "    for filename in filenames:\n",
    "        print(os.path.join(dirname, filename))"
   ]
  },
  {
   "cell_type": "code",
   "execution_count": 5,
   "id": "66df93101e0f7265",
   "metadata": {
    "ExecuteTime": {
     "end_time": "2023-12-10T22:26:57.431167Z",
     "start_time": "2023-12-10T22:26:51.081468Z"
    }
   },
   "outputs": [],
   "source": [
    "train = pd.read_csv('data/train.csv')\n",
    "\n",
    "train.head()\n",
    "\n",
    "train.isnull().sum()\n",
    "\n",
    "train = train.dropna(subset=['target'])\n",
    "targets = train['target'].values\n",
    "train = train.drop('time_id', axis=1)\n",
    "train = train.drop('row_id', axis=1)\n",
    "# Drop the index inplace \n",
    "train.reset_index(drop=True, inplace=True)\n",
    "X_train, X_test, y_train, y_test = train_test_split(train, targets, train_size=0.7, random_state=3)"
   ]
  },
  {
   "cell_type": "code",
   "execution_count": 6,
   "id": "c13ad489d271ff48",
   "metadata": {
    "ExecuteTime": {
     "end_time": "2023-12-10T22:27:07.306906Z",
     "start_time": "2023-12-10T22:27:06.963993Z"
    }
   },
   "outputs": [],
   "source": [
    "from numba import njit, prange\n",
    "\n",
    "def generate_features(df: pd.DataFrame) -> pd.DataFrame:\n",
    "    features = ['seconds_in_bucket', 'imbalance_buy_sell_flag',\n",
    "               'imbalance_size', 'matched_size', 'bid_size', 'ask_size',\n",
    "                'reference_price','far_price', 'near_price', 'ask_price', 'bid_price', 'wap',\n",
    "                'imb_s1', 'imb_s2'\n",
    "               ]\n",
    "\n",
    "    df['imb_s1'] = df.eval('(bid_size-ask_size)/(bid_size+ask_size)')\n",
    "    df['imb_s2'] = df.eval('(imbalance_size-matched_size)/(matched_size+imbalance_size)')\n",
    "    \n",
    "    prices = ['reference_price','far_price', 'near_price', 'ask_price', 'bid_price', 'wap']\n",
    "    \n",
    "    return df[features]\n",
    "    "
   ]
  },
  {
   "cell_type": "code",
   "execution_count": 7,
   "id": "8aabac692b9f31f5",
   "metadata": {
    "ExecuteTime": {
     "end_time": "2023-12-10T22:27:08.411562Z",
     "start_time": "2023-12-10T22:27:08.038017Z"
    }
   },
   "outputs": [],
   "source": [
    "TRAINING = True\n",
    "if TRAINING:\n",
    "   df_ = generate_features(X_train)\n"
   ]
  },
  {
   "cell_type": "code",
   "execution_count": 8,
   "id": "2e8648c884f721f1",
   "metadata": {
    "ExecuteTime": {
     "end_time": "2023-12-10T22:27:52.510842Z",
     "start_time": "2023-12-10T22:27:33.478862Z"
    }
   },
   "outputs": [
    {
     "name": "stdout",
     "output_type": "stream",
     "text": [
      "0:\tlearn: 6.4081870\ttest: 6.4037484\tbest: 6.4037484 (0)\ttotal: 160ms\tremaining: 1.44s\n",
      "1:\tlearn: 6.4052824\ttest: 6.4008356\tbest: 6.4008356 (1)\ttotal: 239ms\tremaining: 958ms\n",
      "2:\tlearn: 6.4026341\ttest: 6.3981684\tbest: 6.3981684 (2)\ttotal: 318ms\tremaining: 743ms\n",
      "3:\tlearn: 6.4001768\ttest: 6.3956939\tbest: 6.3956939 (3)\ttotal: 396ms\tremaining: 594ms\n",
      "4:\tlearn: 6.3977608\ttest: 6.3932777\tbest: 6.3932777 (4)\ttotal: 475ms\tremaining: 475ms\n",
      "5:\tlearn: 6.3954941\ttest: 6.3909847\tbest: 6.3909847 (5)\ttotal: 553ms\tremaining: 369ms\n",
      "6:\tlearn: 6.3932770\ttest: 6.3887697\tbest: 6.3887697 (6)\ttotal: 629ms\tremaining: 269ms\n",
      "7:\tlearn: 6.3911895\ttest: 6.3866636\tbest: 6.3866636 (7)\ttotal: 705ms\tremaining: 176ms\n",
      "8:\tlearn: 6.3892143\ttest: 6.3846931\tbest: 6.3846931 (8)\ttotal: 783ms\tremaining: 87ms\n",
      "9:\tlearn: 6.3873532\ttest: 6.3828202\tbest: 6.3828202 (9)\ttotal: 861ms\tremaining: 0us\n",
      "\n",
      "bestTest = 6.382820243\n",
      "bestIteration = 9\n",
      "0:\tlearn: 6.4036671\ttest: 6.4081266\tbest: 6.4081266 (0)\ttotal: 126ms\tremaining: 1.13s\n",
      "1:\tlearn: 6.4007537\ttest: 6.4052424\tbest: 6.4052424 (1)\ttotal: 222ms\tremaining: 889ms\n",
      "2:\tlearn: 6.3980508\ttest: 6.4025675\tbest: 6.4025675 (2)\ttotal: 308ms\tremaining: 719ms\n",
      "3:\tlearn: 6.3954525\ttest: 6.3999970\tbest: 6.3999970 (3)\ttotal: 394ms\tremaining: 591ms\n",
      "4:\tlearn: 6.3929933\ttest: 6.3975604\tbest: 6.3975604 (4)\ttotal: 475ms\tremaining: 475ms\n",
      "5:\tlearn: 6.3905884\ttest: 6.3951835\tbest: 6.3951835 (5)\ttotal: 557ms\tremaining: 371ms\n",
      "6:\tlearn: 6.3883063\ttest: 6.3929270\tbest: 6.3929270 (6)\ttotal: 635ms\tremaining: 272ms\n",
      "7:\tlearn: 6.3861334\ttest: 6.3907872\tbest: 6.3907872 (7)\ttotal: 714ms\tremaining: 178ms\n",
      "8:\tlearn: 6.3841796\ttest: 6.3888452\tbest: 6.3888452 (8)\ttotal: 792ms\tremaining: 87.9ms\n",
      "9:\tlearn: 6.3823066\ttest: 6.3870014\tbest: 6.3870014 (9)\ttotal: 872ms\tremaining: 0us\n",
      "\n",
      "bestTest = 6.387001407\n",
      "bestIteration = 9\n"
     ]
    }
   ],
   "source": [
    "model_path ='data/RKCP0219'\n",
    "os.makedirs('models', exist_ok=True)\n",
    "\n",
    "N_fold = 2\n",
    "\n",
    "if TRAINING:\n",
    "    X = df_.values\n",
    "    Y = y_train\n",
    "    X = X[np.isfinite(Y)]\n",
    "    Y = Y[np.isfinite(Y)]\n",
    "    index = np.arange(len(X))\n",
    "    \n",
    "models = []\n",
    "scores = pd.DataFrame(columns=['name', 'score'])\n",
    "\n",
    "def train_and_test(model_dict, modelname='lgb'):\n",
    "    if TRAINING:\n",
    "        model = model_dict[modelname]\n",
    "        model.fit(X[index%N_fold!=i], Y[index%N_fold!=i], \n",
    "                    eval_set=[(X[index%N_fold==i], Y[index%N_fold==i])], \n",
    "                    # verbose=10, \n",
    "                    # early_stopping_rounds=100\n",
    "                    )\n",
    "        models.append(model)\n",
    "        joblib.dump(model, f'data/models/{modelname}_{i}.model')\n",
    "        feat = generate_features(X_test) \n",
    "        # Make predictions using the trained models and compute the mean\n",
    "        train_preds = model.predict(X_train)\n",
    "        train_score = mean_absolute_error(y_train, train_preds)\n",
    "        scores.loc[len(scores)]=[modelname, train_score] \n",
    "\n",
    "    else:\n",
    "        models.append(joblib.load(f'{model_path}/{modelname}_{i}.model'))\n",
    "    return \n",
    "\n",
    "model_dict = {\n",
    "    'lgb': lgb.LGBMRegressor(objective='regression_l1', n_estimators=500),\n",
    "    'xgb': xgb.XGBRegressor(tree_method='hist', objective='reg:absoluteerror', n_estimators=500),\n",
    "    'cbt': cbt.CatBoostRegressor(objective='MAE', iterations=10),\n",
    "}\n",
    "\n",
    "for i in range(N_fold):\n",
    "    # train_and_test(model_dict, 'lgb')\n",
    "    # train_and_test(model_dict, 'xgb')\n",
    "    train_and_test(model_dict, 'cbt')"
   ]
  },
  {
   "cell_type": "code",
   "execution_count": 9,
   "outputs": [
    {
     "data": {
      "text/plain": "  name     score\n0  cbt  6.420514\n1  cbt  6.418807",
      "text/html": "<div>\n<style scoped>\n    .dataframe tbody tr th:only-of-type {\n        vertical-align: middle;\n    }\n\n    .dataframe tbody tr th {\n        vertical-align: top;\n    }\n\n    .dataframe thead th {\n        text-align: right;\n    }\n</style>\n<table border=\"1\" class=\"dataframe\">\n  <thead>\n    <tr style=\"text-align: right;\">\n      <th></th>\n      <th>name</th>\n      <th>score</th>\n    </tr>\n  </thead>\n  <tbody>\n    <tr>\n      <th>0</th>\n      <td>cbt</td>\n      <td>6.420514</td>\n    </tr>\n    <tr>\n      <th>1</th>\n      <td>cbt</td>\n      <td>6.418807</td>\n    </tr>\n  </tbody>\n</table>\n</div>"
     },
     "execution_count": 9,
     "metadata": {},
     "output_type": "execute_result"
    }
   ],
   "source": [
    "#Testing\n",
    "scores"
   ],
   "metadata": {
    "collapsed": false,
    "ExecuteTime": {
     "end_time": "2023-12-10T22:27:52.523612Z",
     "start_time": "2023-12-10T22:27:52.513511Z"
    }
   },
   "id": "b5362dd0a1081c83"
  },
  {
   "cell_type": "code",
   "execution_count": 10,
   "id": "4ab64d10623fccce",
   "metadata": {
    "ExecuteTime": {
     "end_time": "2023-12-10T22:27:52.531858Z",
     "start_time": "2023-12-10T22:27:52.521234Z"
    }
   },
   "outputs": [
    {
     "ename": "ModuleNotFoundError",
     "evalue": "No module named 'optiver2023'",
     "output_type": "error",
     "traceback": [
      "\u001B[0;31m---------------------------------------------------------------------------\u001B[0m",
      "\u001B[0;31mModuleNotFoundError\u001B[0m                       Traceback (most recent call last)",
      "Cell \u001B[0;32mIn[10], line 1\u001B[0m\n\u001B[0;32m----> 1\u001B[0m \u001B[38;5;28;01mimport\u001B[39;00m \u001B[38;5;21;01moptiver2023\u001B[39;00m\n\u001B[1;32m      2\u001B[0m env \u001B[38;5;241m=\u001B[39m optiver2023\u001B[38;5;241m.\u001B[39mmake_env()\n\u001B[1;32m      3\u001B[0m iter_test \u001B[38;5;241m=\u001B[39m env\u001B[38;5;241m.\u001B[39miter_test()\n",
      "\u001B[0;31mModuleNotFoundError\u001B[0m: No module named 'optiver2023'"
     ]
    }
   ],
   "source": [
    "import optiver2023\n",
    "env = optiver2023.make_env()\n",
    "iter_test = env.iter_test() "
   ]
  },
  {
   "cell_type": "code",
   "execution_count": null,
   "id": "ecfedbaeada4bd94",
   "metadata": {
    "ExecuteTime": {
     "start_time": "2023-12-10T22:27:52.529916Z"
    }
   },
   "outputs": [],
   "source": [
    "counter = 0\n",
    "for (test, revealed_targets, sample_prediction) in iter_test:\n",
    "    feat = generate_features(test)\n",
    "\n",
    "    sample_prediction['target'] = np.mean([model.predict(feat) for model in models], 0)\n",
    "    env.predict(sample_prediction)\n",
    "    counter += 1"
   ]
  },
  {
   "cell_type": "code",
   "execution_count": null,
   "id": "9b01092a48078aa3",
   "metadata": {
    "ExecuteTime": {
     "start_time": "2023-12-10T22:26:39.810075Z"
    }
   },
   "outputs": [],
   "source": []
  }
 ],
 "metadata": {
  "kernelspec": {
   "display_name": "Python 3 (ipykernel)",
   "language": "python",
   "name": "python3"
  },
  "language_info": {
   "codemirror_mode": {
    "name": "ipython",
    "version": 3
   },
   "file_extension": ".py",
   "mimetype": "text/x-python",
   "name": "python",
   "nbconvert_exporter": "python",
   "pygments_lexer": "ipython3",
   "version": "3.11.4"
  }
 },
 "nbformat": 4,
 "nbformat_minor": 5
}
