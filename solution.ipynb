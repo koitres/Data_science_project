{
 "cells": [
  {
   "cell_type": "code",
   "execution_count": 1,
   "id": "initial_id",
   "metadata": {
    "collapsed": true,
    "jupyter": {
     "outputs_hidden": true
    },
    "ExecuteTime": {
     "end_time": "2023-12-10T22:26:38.689886Z",
     "start_time": "2023-12-10T22:26:23.584030Z"
    }
   },
   "outputs": [
    {
     "name": "stdout",
     "output_type": "stream",
     "text": [
      "Requirement already satisfied: pandas in /Users/johannmkammiste/anaconda3/lib/python3.11/site-packages (1.5.3)\r\n",
      "Requirement already satisfied: python-dateutil>=2.8.1 in /Users/johannmkammiste/anaconda3/lib/python3.11/site-packages (from pandas) (2.8.2)\r\n",
      "Requirement already satisfied: pytz>=2020.1 in /Users/johannmkammiste/anaconda3/lib/python3.11/site-packages (from pandas) (2022.7)\r\n",
      "Requirement already satisfied: numpy>=1.21.0 in /Users/johannmkammiste/anaconda3/lib/python3.11/site-packages (from pandas) (1.24.3)\r\n",
      "Requirement already satisfied: six>=1.5 in /Users/johannmkammiste/anaconda3/lib/python3.11/site-packages (from python-dateutil>=2.8.1->pandas) (1.16.0)\r\n",
      "Requirement already satisfied: scikit-learn in /Users/johannmkammiste/anaconda3/lib/python3.11/site-packages (1.3.0)\r\n",
      "Requirement already satisfied: numpy>=1.17.3 in /Users/johannmkammiste/anaconda3/lib/python3.11/site-packages (from scikit-learn) (1.24.3)\r\n",
      "Requirement already satisfied: scipy>=1.5.0 in /Users/johannmkammiste/anaconda3/lib/python3.11/site-packages (from scikit-learn) (1.10.1)\r\n",
      "Requirement already satisfied: joblib>=1.1.1 in /Users/johannmkammiste/anaconda3/lib/python3.11/site-packages (from scikit-learn) (1.2.0)\r\n",
      "Requirement already satisfied: threadpoolctl>=2.0.0 in /Users/johannmkammiste/anaconda3/lib/python3.11/site-packages (from scikit-learn) (2.2.0)\r\n",
      "Requirement already satisfied: seaborn in /Users/johannmkammiste/anaconda3/lib/python3.11/site-packages (0.12.2)\r\n",
      "Requirement already satisfied: numpy!=1.24.0,>=1.17 in /Users/johannmkammiste/anaconda3/lib/python3.11/site-packages (from seaborn) (1.24.3)\r\n",
      "Requirement already satisfied: pandas>=0.25 in /Users/johannmkammiste/anaconda3/lib/python3.11/site-packages (from seaborn) (1.5.3)\r\n",
      "Requirement already satisfied: matplotlib!=3.6.1,>=3.1 in /Users/johannmkammiste/anaconda3/lib/python3.11/site-packages (from seaborn) (3.7.1)\r\n",
      "Requirement already satisfied: contourpy>=1.0.1 in /Users/johannmkammiste/anaconda3/lib/python3.11/site-packages (from matplotlib!=3.6.1,>=3.1->seaborn) (1.0.5)\r\n",
      "Requirement already satisfied: cycler>=0.10 in /Users/johannmkammiste/anaconda3/lib/python3.11/site-packages (from matplotlib!=3.6.1,>=3.1->seaborn) (0.11.0)\r\n",
      "Requirement already satisfied: fonttools>=4.22.0 in /Users/johannmkammiste/anaconda3/lib/python3.11/site-packages (from matplotlib!=3.6.1,>=3.1->seaborn) (4.25.0)\r\n",
      "Requirement already satisfied: kiwisolver>=1.0.1 in /Users/johannmkammiste/anaconda3/lib/python3.11/site-packages (from matplotlib!=3.6.1,>=3.1->seaborn) (1.4.4)\r\n",
      "Requirement already satisfied: packaging>=20.0 in /Users/johannmkammiste/anaconda3/lib/python3.11/site-packages (from matplotlib!=3.6.1,>=3.1->seaborn) (23.0)\r\n",
      "Requirement already satisfied: pillow>=6.2.0 in /Users/johannmkammiste/anaconda3/lib/python3.11/site-packages (from matplotlib!=3.6.1,>=3.1->seaborn) (9.4.0)\r\n",
      "Requirement already satisfied: pyparsing>=2.3.1 in /Users/johannmkammiste/anaconda3/lib/python3.11/site-packages (from matplotlib!=3.6.1,>=3.1->seaborn) (3.0.9)\r\n",
      "Requirement already satisfied: python-dateutil>=2.7 in /Users/johannmkammiste/anaconda3/lib/python3.11/site-packages (from matplotlib!=3.6.1,>=3.1->seaborn) (2.8.2)\r\n",
      "Requirement already satisfied: pytz>=2020.1 in /Users/johannmkammiste/anaconda3/lib/python3.11/site-packages (from pandas>=0.25->seaborn) (2022.7)\r\n",
      "Requirement already satisfied: six>=1.5 in /Users/johannmkammiste/anaconda3/lib/python3.11/site-packages (from python-dateutil>=2.7->matplotlib!=3.6.1,>=3.1->seaborn) (1.16.0)\r\n",
      "zsh:1: no matches found: lightgbm[scikit-learn]\r\n",
      "Requirement already satisfied: plotly in /Users/johannmkammiste/anaconda3/lib/python3.11/site-packages (5.9.0)\r\n",
      "Requirement already satisfied: tenacity>=6.2.0 in /Users/johannmkammiste/anaconda3/lib/python3.11/site-packages (from plotly) (8.2.2)\r\n",
      "Requirement already satisfied: xgboost in /Users/johannmkammiste/anaconda3/lib/python3.11/site-packages (2.0.2)\r\n",
      "Requirement already satisfied: numpy in /Users/johannmkammiste/anaconda3/lib/python3.11/site-packages (from xgboost) (1.24.3)\r\n",
      "Requirement already satisfied: scipy in /Users/johannmkammiste/anaconda3/lib/python3.11/site-packages (from xgboost) (1.10.1)\r\n",
      "Requirement already satisfied: catboost in /Users/johannmkammiste/anaconda3/lib/python3.11/site-packages (1.2.2)\r\n",
      "Requirement already satisfied: graphviz in /Users/johannmkammiste/anaconda3/lib/python3.11/site-packages (from catboost) (0.20.1)\r\n",
      "Requirement already satisfied: matplotlib in /Users/johannmkammiste/anaconda3/lib/python3.11/site-packages (from catboost) (3.7.1)\r\n",
      "Requirement already satisfied: numpy>=1.16.0 in /Users/johannmkammiste/anaconda3/lib/python3.11/site-packages (from catboost) (1.24.3)\r\n",
      "Requirement already satisfied: pandas>=0.24 in /Users/johannmkammiste/anaconda3/lib/python3.11/site-packages (from catboost) (1.5.3)\r\n",
      "Requirement already satisfied: scipy in /Users/johannmkammiste/anaconda3/lib/python3.11/site-packages (from catboost) (1.10.1)\r\n",
      "Requirement already satisfied: plotly in /Users/johannmkammiste/anaconda3/lib/python3.11/site-packages (from catboost) (5.9.0)\r\n",
      "Requirement already satisfied: six in /Users/johannmkammiste/anaconda3/lib/python3.11/site-packages (from catboost) (1.16.0)\r\n",
      "Requirement already satisfied: python-dateutil>=2.8.1 in /Users/johannmkammiste/anaconda3/lib/python3.11/site-packages (from pandas>=0.24->catboost) (2.8.2)\r\n",
      "Requirement already satisfied: pytz>=2020.1 in /Users/johannmkammiste/anaconda3/lib/python3.11/site-packages (from pandas>=0.24->catboost) (2022.7)\r\n",
      "Requirement already satisfied: contourpy>=1.0.1 in /Users/johannmkammiste/anaconda3/lib/python3.11/site-packages (from matplotlib->catboost) (1.0.5)\r\n",
      "Requirement already satisfied: cycler>=0.10 in /Users/johannmkammiste/anaconda3/lib/python3.11/site-packages (from matplotlib->catboost) (0.11.0)\r\n",
      "Requirement already satisfied: fonttools>=4.22.0 in /Users/johannmkammiste/anaconda3/lib/python3.11/site-packages (from matplotlib->catboost) (4.25.0)\r\n",
      "Requirement already satisfied: kiwisolver>=1.0.1 in /Users/johannmkammiste/anaconda3/lib/python3.11/site-packages (from matplotlib->catboost) (1.4.4)\r\n",
      "Requirement already satisfied: packaging>=20.0 in /Users/johannmkammiste/anaconda3/lib/python3.11/site-packages (from matplotlib->catboost) (23.0)\r\n",
      "Requirement already satisfied: pillow>=6.2.0 in /Users/johannmkammiste/anaconda3/lib/python3.11/site-packages (from matplotlib->catboost) (9.4.0)\r\n",
      "Requirement already satisfied: pyparsing>=2.3.1 in /Users/johannmkammiste/anaconda3/lib/python3.11/site-packages (from matplotlib->catboost) (3.0.9)\r\n",
      "Requirement already satisfied: tenacity>=6.2.0 in /Users/johannmkammiste/anaconda3/lib/python3.11/site-packages (from plotly->catboost) (8.2.2)\r\n",
      "Requirement already satisfied: joblib in /Users/johannmkammiste/anaconda3/lib/python3.11/site-packages (1.2.0)\r\n",
      "Requirement already satisfied: kaggle in /Users/johannmkammiste/anaconda3/lib/python3.11/site-packages (1.5.16)\r\n",
      "Requirement already satisfied: six>=1.10 in /Users/johannmkammiste/anaconda3/lib/python3.11/site-packages (from kaggle) (1.16.0)\r\n",
      "Requirement already satisfied: certifi in /Users/johannmkammiste/anaconda3/lib/python3.11/site-packages (from kaggle) (2023.11.17)\r\n",
      "Requirement already satisfied: python-dateutil in /Users/johannmkammiste/anaconda3/lib/python3.11/site-packages (from kaggle) (2.8.2)\r\n",
      "Requirement already satisfied: requests in /Users/johannmkammiste/anaconda3/lib/python3.11/site-packages (from kaggle) (2.31.0)\r\n",
      "Requirement already satisfied: tqdm in /Users/johannmkammiste/anaconda3/lib/python3.11/site-packages (from kaggle) (4.65.0)\r\n",
      "Requirement already satisfied: python-slugify in /Users/johannmkammiste/anaconda3/lib/python3.11/site-packages (from kaggle) (5.0.2)\r\n",
      "Requirement already satisfied: urllib3 in /Users/johannmkammiste/anaconda3/lib/python3.11/site-packages (from kaggle) (1.26.16)\r\n",
      "Requirement already satisfied: bleach in /Users/johannmkammiste/anaconda3/lib/python3.11/site-packages (from kaggle) (4.1.0)\r\n",
      "Requirement already satisfied: packaging in /Users/johannmkammiste/anaconda3/lib/python3.11/site-packages (from bleach->kaggle) (23.0)\r\n",
      "Requirement already satisfied: webencodings in /Users/johannmkammiste/anaconda3/lib/python3.11/site-packages (from bleach->kaggle) (0.5.1)\r\n",
      "Requirement already satisfied: text-unidecode>=1.3 in /Users/johannmkammiste/anaconda3/lib/python3.11/site-packages (from python-slugify->kaggle) (1.3)\r\n",
      "Requirement already satisfied: charset-normalizer<4,>=2 in /Users/johannmkammiste/anaconda3/lib/python3.11/site-packages (from requests->kaggle) (2.0.4)\r\n",
      "Requirement already satisfied: idna<4,>=2.5 in /Users/johannmkammiste/anaconda3/lib/python3.11/site-packages (from requests->kaggle) (3.4)\r\n"
     ]
    }
   ],
   "source": [
    "!pip install pandas\n",
    "!pip install scikit-learn\n",
    "!pip install seaborn\n",
    "!pip install lightgbm[scikit-learn]\n",
    "!pip install plotly\n",
    "!pip install xgboost\n",
    "!pip install catboost\n",
    "!pip install joblib\n",
    "!pip install kaggle"
   ]
  },
  {
   "cell_type": "code",
   "execution_count": 4,
   "id": "6d3434d62fd41d99",
   "metadata": {
    "ExecuteTime": {
     "end_time": "2023-12-10T22:26:50.942849Z",
     "start_time": "2023-12-10T22:26:50.936251Z"
    }
   },
   "outputs": [
    {
     "name": "stdout",
     "output_type": "stream",
     "text": [
      "data/__init__.py\n",
      "data/public_timeseries_testing_util.py\n",
      "data/train.csv\n",
      "data/models/{modelname}_{i}.model\n",
      "data/example_test_files/revealed_targets.csv\n",
      "data/example_test_files/test.csv\n",
      "data/example_test_files/sample_submission.csv\n",
      "data/optiver2023/__init__.py\n",
      "data/optiver2023/competition.cpython-310-x86_64-linux-gnu.so\n",
      "data/optiver2023/__pycache__/__init__.cpython-311.pyc\n",
      "data/.ipynb_checkpoints/public_timeseries_testing_util-checkpoint.py\n",
      "data/catboost_info/learn_error.tsv\n",
      "data/catboost_info/test_error.tsv\n",
      "data/catboost_info/time_left.tsv\n",
      "data/catboost_info/catboost_training.json\n",
      "data/catboost_info/learn/events.out.tfevents\n",
      "data/catboost_info/test/events.out.tfevents\n"
     ]
    }
   ],
   "source": [
    "#imports\n",
    "# Data Analytic Tools\n",
    "import matplotlib.pyplot as plt \n",
    "import pandas as pd\n",
    "import seaborn as sns \n",
    "import plotly.express as px\n",
    "import plotly.graph_objects as go\n",
    "%matplotlib inline\n",
    "%config InlineBackend.figure_format='retina'\n",
    "\n",
    "# Computing Tools \n",
    "import lightgbm as lgb \n",
    "import xgboost as xgb \n",
    "import catboost as cbt \n",
    "import numpy as np \n",
    "import joblib \n",
    "import os\n",
    "from sklearn.model_selection import train_test_split\n",
    "from sklearn.metrics import mean_absolute_error\n",
    "\n",
    "\n",
    "for dirname, _, filenames in os.walk('data/'):\n",
    "    for filename in filenames:\n",
    "        print(os.path.join(dirname, filename))"
   ]
  },
  {
   "cell_type": "code",
   "execution_count": 5,
   "id": "66df93101e0f7265",
   "metadata": {
    "ExecuteTime": {
     "end_time": "2023-12-10T22:26:57.431167Z",
     "start_time": "2023-12-10T22:26:51.081468Z"
    }
   },
   "outputs": [],
   "source": [
    "train = pd.read_csv('data/train.csv')\n",
    "\n",
    "train.head()\n",
    "\n",
    "train.isnull().sum()\n",
    "\n",
    "train = train.dropna(subset=['target'])\n",
    "targets = train['target'].values\n",
    "train = train.drop('time_id', axis=1)\n",
    "train = train.drop('row_id', axis=1)\n",
    "# Drop the index inplace \n",
    "train.reset_index(drop=True, inplace=True)\n",
    "X_train, X_test, y_train, y_test = train_test_split(train, targets, train_size=0.7, random_state=3)"
   ]
  },
  {
   "cell_type": "code",
   "execution_count": 6,
   "id": "c13ad489d271ff48",
   "metadata": {
    "ExecuteTime": {
     "end_time": "2023-12-10T22:27:07.306906Z",
     "start_time": "2023-12-10T22:27:06.963993Z"
    }
   },
   "outputs": [],
   "source": [
    "from numba import njit, prange\n",
    "\n",
    "def generate_features(df: pd.DataFrame) -> pd.DataFrame:\n",
    "    features = ['seconds_in_bucket', 'imbalance_buy_sell_flag',\n",
    "               'imbalance_size', 'matched_size', 'bid_size', 'ask_size',\n",
    "                'reference_price','far_price', 'near_price', 'ask_price', 'bid_price', 'wap',\n",
    "                'imb_s1', 'imb_s2'\n",
    "               ]\n",
    "\n",
    "    df['imb_s1'] = df.eval('(bid_size-ask_size)/(bid_size+ask_size)')\n",
    "    df['imb_s2'] = df.eval('(imbalance_size-matched_size)/(matched_size+imbalance_size)')\n",
    "    \n",
    "    prices = ['reference_price','far_price', 'near_price', 'ask_price', 'bid_price', 'wap']\n",
    "\n",
    "    \n",
    "    for i,a in enumerate(prices):\n",
    "        for j,b in enumerate(prices):\n",
    "            if i>j:\n",
    "                df[f'{a}_{b}_imb'] = df.eval(f'({a}-{b})/({a}+{b})')\n",
    "                features.append(f'{a}_{b}_imb')    \n",
    "                    \n",
    "    for i,a in enumerate(prices):\n",
    "        for j,b in enumerate(prices):\n",
    "            for k,c in enumerate(prices):\n",
    "                if i>j and j>k:\n",
    "                    max_ = df[[a,b,c]].max(axis=1)\n",
    "                    min_ = df[[a,b,c]].min(axis=1)\n",
    "                    mid_ = df[[a,b,c]].sum(axis=1)-min_-max_\n",
    "\n",
    "                    df[f'{a}_{b}_{c}_imb2'] = (max_-mid_)/(mid_-min_)\n",
    "                    features.append(f'{a}_{b}_{c}_imb2')\n",
    "    \n",
    "    \n",
    "    return df[features]\n",
    "    "
   ]
  },
  {
   "cell_type": "code",
   "execution_count": 7,
   "id": "8aabac692b9f31f5",
   "metadata": {
    "ExecuteTime": {
     "end_time": "2023-12-10T22:27:08.411562Z",
     "start_time": "2023-12-10T22:27:08.038017Z"
    }
   },
   "outputs": [],
   "source": [
    "TRAINING = True\n",
    "if TRAINING:\n",
    "   df_ = generate_features(X_train)"
   ]
  },
  {
   "cell_type": "code",
   "execution_count": 23,
   "id": "2e8648c884f721f1",
   "metadata": {
    "ExecuteTime": {
     "end_time": "2023-12-10T23:26:48.873815Z",
     "start_time": "2023-12-10T23:02:40.759725Z"
    }
   },
   "outputs": [
    {
     "name": "stdout",
     "output_type": "stream",
     "text": [
      "[LightGBM] [Info] Auto-choosing row-wise multi-threading, the overhead of testing was 0.016045 seconds.\n",
      "You can set `force_row_wise=true` to remove the overhead.\n",
      "And if memory is not enough, you can set `force_col_wise=true`.\n",
      "[LightGBM] [Info] Total Bins 3118\n",
      "[LightGBM] [Info] Number of data points in the train set: 2749893, number of used features: 14\n",
      "[LightGBM] [Info] Start training from score -0.060201\n"
     ]
    },
    {
     "name": "stderr",
     "output_type": "stream",
     "text": [
      "/Users/johannmkammiste/anaconda3/lib/python3.11/site-packages/xgboost/sklearn.py:885: UserWarning: `early_stopping_rounds` in `fit` method is deprecated for better compatibility with scikit-learn, use `early_stopping_rounds` in constructor or`set_params` instead.\n",
      "  warnings.warn(\n"
     ]
    },
    {
     "name": "stdout",
     "output_type": "stream",
     "text": [
      "[0]\tvalidation_0-mae:6.38074\n",
      "[10]\tvalidation_0-mae:6.32218\n",
      "[20]\tvalidation_0-mae:6.30817\n",
      "[30]\tvalidation_0-mae:6.29795\n",
      "[40]\tvalidation_0-mae:6.29174\n",
      "[50]\tvalidation_0-mae:6.28731\n",
      "[60]\tvalidation_0-mae:6.28374\n",
      "[70]\tvalidation_0-mae:6.28069\n",
      "[80]\tvalidation_0-mae:6.27830\n",
      "[90]\tvalidation_0-mae:6.27637\n",
      "[100]\tvalidation_0-mae:6.27502\n",
      "[110]\tvalidation_0-mae:6.27323\n",
      "[120]\tvalidation_0-mae:6.27207\n",
      "[130]\tvalidation_0-mae:6.27062\n",
      "[140]\tvalidation_0-mae:6.26938\n",
      "[150]\tvalidation_0-mae:6.26821\n",
      "[160]\tvalidation_0-mae:6.26747\n",
      "[170]\tvalidation_0-mae:6.26672\n",
      "[180]\tvalidation_0-mae:6.26606\n",
      "[190]\tvalidation_0-mae:6.26514\n",
      "[200]\tvalidation_0-mae:6.26466\n",
      "[210]\tvalidation_0-mae:6.26417\n",
      "[220]\tvalidation_0-mae:6.26357\n",
      "[230]\tvalidation_0-mae:6.26281\n",
      "[240]\tvalidation_0-mae:6.26219\n",
      "[250]\tvalidation_0-mae:6.26122\n",
      "[260]\tvalidation_0-mae:6.26074\n",
      "[270]\tvalidation_0-mae:6.26002\n",
      "[280]\tvalidation_0-mae:6.25962\n",
      "[290]\tvalidation_0-mae:6.25913\n",
      "[300]\tvalidation_0-mae:6.25864\n",
      "[310]\tvalidation_0-mae:6.25808\n",
      "[320]\tvalidation_0-mae:6.25763\n",
      "[330]\tvalidation_0-mae:6.25708\n",
      "[340]\tvalidation_0-mae:6.25691\n",
      "[350]\tvalidation_0-mae:6.25645\n",
      "[360]\tvalidation_0-mae:6.25602\n",
      "[370]\tvalidation_0-mae:6.25557\n",
      "[380]\tvalidation_0-mae:6.25524\n",
      "[390]\tvalidation_0-mae:6.25498\n",
      "[400]\tvalidation_0-mae:6.25469\n",
      "[410]\tvalidation_0-mae:6.25458\n",
      "[420]\tvalidation_0-mae:6.25440\n",
      "[430]\tvalidation_0-mae:6.25438\n",
      "[440]\tvalidation_0-mae:6.25420\n",
      "[450]\tvalidation_0-mae:6.25411\n",
      "[460]\tvalidation_0-mae:6.25403\n",
      "[470]\tvalidation_0-mae:6.25380\n",
      "[480]\tvalidation_0-mae:6.25345\n",
      "[490]\tvalidation_0-mae:6.25331\n",
      "[499]\tvalidation_0-mae:6.25298\n",
      "0:\tlearn: 6.4054322\ttest: 6.4076602\tbest: 6.4076602 (0)\ttotal: 218ms\tremaining: 1.97s\n",
      "9:\tlearn: 6.3844335\ttest: 6.3865685\tbest: 6.3865685 (9)\ttotal: 1.28s\tremaining: 0us\n",
      "\n",
      "bestTest = 6.386568475\n",
      "bestIteration = 9\n",
      "[LightGBM] [Info] Auto-choosing row-wise multi-threading, the overhead of testing was 0.017712 seconds.\n",
      "You can set `force_row_wise=true` to remove the overhead.\n",
      "And if memory is not enough, you can set `force_col_wise=true`.\n",
      "[LightGBM] [Info] Total Bins 3118\n",
      "[LightGBM] [Info] Number of data points in the train set: 2749893, number of used features: 14\n",
      "[LightGBM] [Info] Start training from score -0.069737\n"
     ]
    },
    {
     "name": "stderr",
     "output_type": "stream",
     "text": [
      "/Users/johannmkammiste/anaconda3/lib/python3.11/site-packages/xgboost/sklearn.py:885: UserWarning: `early_stopping_rounds` in `fit` method is deprecated for better compatibility with scikit-learn, use `early_stopping_rounds` in constructor or`set_params` instead.\n",
      "  warnings.warn(\n"
     ]
    },
    {
     "name": "stdout",
     "output_type": "stream",
     "text": [
      "[0]\tvalidation_0-mae:6.37639\n",
      "[10]\tvalidation_0-mae:6.32048\n",
      "[20]\tvalidation_0-mae:6.30514\n",
      "[30]\tvalidation_0-mae:6.29528\n",
      "[40]\tvalidation_0-mae:6.28985\n",
      "[50]\tvalidation_0-mae:6.28552\n",
      "[60]\tvalidation_0-mae:6.28204\n",
      "[70]\tvalidation_0-mae:6.27930\n",
      "[80]\tvalidation_0-mae:6.27699\n",
      "[90]\tvalidation_0-mae:6.27558\n",
      "[100]\tvalidation_0-mae:6.27378\n",
      "[110]\tvalidation_0-mae:6.27263\n",
      "[120]\tvalidation_0-mae:6.27138\n",
      "[130]\tvalidation_0-mae:6.27019\n",
      "[140]\tvalidation_0-mae:6.26909\n",
      "[150]\tvalidation_0-mae:6.26781\n",
      "[160]\tvalidation_0-mae:6.26683\n",
      "[170]\tvalidation_0-mae:6.26569\n",
      "[180]\tvalidation_0-mae:6.26487\n",
      "[190]\tvalidation_0-mae:6.26416\n",
      "[200]\tvalidation_0-mae:6.26334\n",
      "[210]\tvalidation_0-mae:6.26255\n",
      "[220]\tvalidation_0-mae:6.26179\n",
      "[230]\tvalidation_0-mae:6.26139\n",
      "[240]\tvalidation_0-mae:6.26095\n",
      "[250]\tvalidation_0-mae:6.26041\n",
      "[260]\tvalidation_0-mae:6.25969\n",
      "[270]\tvalidation_0-mae:6.25924\n",
      "[280]\tvalidation_0-mae:6.25886\n",
      "[290]\tvalidation_0-mae:6.25859\n",
      "[300]\tvalidation_0-mae:6.25803\n",
      "[310]\tvalidation_0-mae:6.25785\n",
      "[320]\tvalidation_0-mae:6.25759\n",
      "[330]\tvalidation_0-mae:6.25740\n",
      "[340]\tvalidation_0-mae:6.25718\n",
      "[350]\tvalidation_0-mae:6.25699\n",
      "[360]\tvalidation_0-mae:6.25661\n",
      "[370]\tvalidation_0-mae:6.25637\n",
      "[380]\tvalidation_0-mae:6.25626\n",
      "[390]\tvalidation_0-mae:6.25617\n",
      "[400]\tvalidation_0-mae:6.25587\n",
      "[410]\tvalidation_0-mae:6.25581\n",
      "[420]\tvalidation_0-mae:6.25563\n",
      "[430]\tvalidation_0-mae:6.25541\n",
      "[440]\tvalidation_0-mae:6.25528\n",
      "[450]\tvalidation_0-mae:6.25515\n",
      "[460]\tvalidation_0-mae:6.25500\n",
      "[470]\tvalidation_0-mae:6.25478\n",
      "[480]\tvalidation_0-mae:6.25463\n",
      "[490]\tvalidation_0-mae:6.25451\n",
      "[499]\tvalidation_0-mae:6.25445\n",
      "0:\tlearn: 6.4067408\ttest: 6.4035506\tbest: 6.4035506 (0)\ttotal: 184ms\tremaining: 1.66s\n",
      "9:\tlearn: 6.3854387\ttest: 6.3826215\tbest: 6.3826215 (9)\ttotal: 1.22s\tremaining: 0us\n",
      "\n",
      "bestTest = 6.382621539\n",
      "bestIteration = 9\n",
      "[LightGBM] [Info] Auto-choosing row-wise multi-threading, the overhead of testing was 0.014522 seconds.\n",
      "You can set `force_row_wise=true` to remove the overhead.\n",
      "And if memory is not enough, you can set `force_col_wise=true`.\n",
      "[LightGBM] [Info] Total Bins 3118\n",
      "[LightGBM] [Info] Number of data points in the train set: 2749893, number of used features: 14\n",
      "[LightGBM] [Info] Start training from score -0.060201\n"
     ]
    },
    {
     "name": "stderr",
     "output_type": "stream",
     "text": [
      "/Users/johannmkammiste/anaconda3/lib/python3.11/site-packages/xgboost/sklearn.py:885: UserWarning: `early_stopping_rounds` in `fit` method is deprecated for better compatibility with scikit-learn, use `early_stopping_rounds` in constructor or`set_params` instead.\n",
      "  warnings.warn(\n"
     ]
    },
    {
     "name": "stdout",
     "output_type": "stream",
     "text": [
      "[0]\tvalidation_0-mae:6.37251\n",
      "[10]\tvalidation_0-mae:6.31349\n",
      "[20]\tvalidation_0-mae:6.29910\n",
      "[30]\tvalidation_0-mae:6.28860\n",
      "[40]\tvalidation_0-mae:6.28250\n",
      "[50]\tvalidation_0-mae:6.27871\n",
      "[60]\tvalidation_0-mae:6.27499\n",
      "[70]\tvalidation_0-mae:6.27251\n",
      "[80]\tvalidation_0-mae:6.26998\n",
      "[90]\tvalidation_0-mae:6.26802\n",
      "[100]\tvalidation_0-mae:6.26655\n",
      "[110]\tvalidation_0-mae:6.26477\n",
      "[120]\tvalidation_0-mae:6.26362\n",
      "[130]\tvalidation_0-mae:6.26238\n",
      "[140]\tvalidation_0-mae:6.26109\n",
      "[150]\tvalidation_0-mae:6.25997\n",
      "[160]\tvalidation_0-mae:6.25892\n",
      "[170]\tvalidation_0-mae:6.25767\n",
      "[180]\tvalidation_0-mae:6.25684\n",
      "[190]\tvalidation_0-mae:6.25614\n",
      "[200]\tvalidation_0-mae:6.25557\n",
      "[210]\tvalidation_0-mae:6.25529\n",
      "[220]\tvalidation_0-mae:6.25448\n",
      "[230]\tvalidation_0-mae:6.25390\n",
      "[240]\tvalidation_0-mae:6.25339\n",
      "[250]\tvalidation_0-mae:6.25268\n",
      "[260]\tvalidation_0-mae:6.25198\n",
      "[270]\tvalidation_0-mae:6.25167\n",
      "[280]\tvalidation_0-mae:6.25093\n",
      "[290]\tvalidation_0-mae:6.25054\n",
      "[300]\tvalidation_0-mae:6.24997\n",
      "[310]\tvalidation_0-mae:6.24966\n",
      "[320]\tvalidation_0-mae:6.24909\n",
      "[330]\tvalidation_0-mae:6.24873\n",
      "[340]\tvalidation_0-mae:6.24817\n",
      "[350]\tvalidation_0-mae:6.24808\n",
      "[360]\tvalidation_0-mae:6.24767\n",
      "[370]\tvalidation_0-mae:6.24723\n",
      "[380]\tvalidation_0-mae:6.24687\n",
      "[390]\tvalidation_0-mae:6.24664\n",
      "[400]\tvalidation_0-mae:6.24634\n",
      "[410]\tvalidation_0-mae:6.24615\n",
      "[420]\tvalidation_0-mae:6.24590\n",
      "[430]\tvalidation_0-mae:6.24578\n",
      "[440]\tvalidation_0-mae:6.24565\n",
      "[450]\tvalidation_0-mae:6.24548\n",
      "[460]\tvalidation_0-mae:6.24526\n",
      "[470]\tvalidation_0-mae:6.24500\n",
      "[480]\tvalidation_0-mae:6.24490\n",
      "[490]\tvalidation_0-mae:6.24465\n",
      "[499]\tvalidation_0-mae:6.24460\n",
      "0:\tlearn: 6.4080554\ttest: 6.3998777\tbest: 6.3998777 (0)\ttotal: 201ms\tremaining: 1.81s\n",
      "9:\tlearn: 6.3869158\ttest: 6.3787020\tbest: 6.3787020 (9)\ttotal: 1.27s\tremaining: 0us\n",
      "\n",
      "bestTest = 6.378702006\n",
      "bestIteration = 9\n",
      "[LightGBM] [Info] Auto-choosing row-wise multi-threading, the overhead of testing was 0.017660 seconds.\n",
      "You can set `force_row_wise=true` to remove the overhead.\n",
      "And if memory is not enough, you can set `force_col_wise=true`.\n",
      "[LightGBM] [Info] Total Bins 3118\n",
      "[LightGBM] [Info] Number of data points in the train set: 2749893, number of used features: 14\n",
      "[LightGBM] [Info] Start training from score -0.060201\n"
     ]
    },
    {
     "name": "stderr",
     "output_type": "stream",
     "text": [
      "/Users/johannmkammiste/anaconda3/lib/python3.11/site-packages/xgboost/sklearn.py:885: UserWarning: `early_stopping_rounds` in `fit` method is deprecated for better compatibility with scikit-learn, use `early_stopping_rounds` in constructor or`set_params` instead.\n",
      "  warnings.warn(\n"
     ]
    },
    {
     "name": "stdout",
     "output_type": "stream",
     "text": [
      "[0]\tvalidation_0-mae:6.38605\n",
      "[10]\tvalidation_0-mae:6.32888\n",
      "[20]\tvalidation_0-mae:6.31523\n",
      "[30]\tvalidation_0-mae:6.30468\n",
      "[40]\tvalidation_0-mae:6.29830\n",
      "[50]\tvalidation_0-mae:6.29473\n",
      "[60]\tvalidation_0-mae:6.29101\n",
      "[70]\tvalidation_0-mae:6.28848\n",
      "[80]\tvalidation_0-mae:6.28631\n",
      "[90]\tvalidation_0-mae:6.28424\n",
      "[100]\tvalidation_0-mae:6.28267\n",
      "[110]\tvalidation_0-mae:6.28128\n",
      "[120]\tvalidation_0-mae:6.27967\n",
      "[130]\tvalidation_0-mae:6.27855\n",
      "[140]\tvalidation_0-mae:6.27717\n",
      "[150]\tvalidation_0-mae:6.27601\n",
      "[160]\tvalidation_0-mae:6.27517\n",
      "[170]\tvalidation_0-mae:6.27427\n",
      "[180]\tvalidation_0-mae:6.27338\n",
      "[190]\tvalidation_0-mae:6.27285\n",
      "[200]\tvalidation_0-mae:6.27217\n",
      "[210]\tvalidation_0-mae:6.27109\n",
      "[220]\tvalidation_0-mae:6.27037\n",
      "[230]\tvalidation_0-mae:6.26956\n",
      "[240]\tvalidation_0-mae:6.26885\n",
      "[250]\tvalidation_0-mae:6.26803\n",
      "[260]\tvalidation_0-mae:6.26735\n",
      "[270]\tvalidation_0-mae:6.26692\n",
      "[280]\tvalidation_0-mae:6.26621\n",
      "[290]\tvalidation_0-mae:6.26567\n",
      "[300]\tvalidation_0-mae:6.26507\n",
      "[310]\tvalidation_0-mae:6.26445\n",
      "[320]\tvalidation_0-mae:6.26391\n",
      "[330]\tvalidation_0-mae:6.26356\n",
      "[340]\tvalidation_0-mae:6.26303\n",
      "[350]\tvalidation_0-mae:6.26250\n",
      "[360]\tvalidation_0-mae:6.26206\n",
      "[370]\tvalidation_0-mae:6.26159\n",
      "[380]\tvalidation_0-mae:6.26142\n",
      "[390]\tvalidation_0-mae:6.26117\n",
      "[400]\tvalidation_0-mae:6.26105\n",
      "[410]\tvalidation_0-mae:6.26105\n",
      "[420]\tvalidation_0-mae:6.26088\n",
      "[430]\tvalidation_0-mae:6.26085\n",
      "[440]\tvalidation_0-mae:6.26068\n",
      "[450]\tvalidation_0-mae:6.26053\n",
      "[460]\tvalidation_0-mae:6.26026\n",
      "[470]\tvalidation_0-mae:6.26015\n",
      "[480]\tvalidation_0-mae:6.26000\n",
      "[490]\tvalidation_0-mae:6.25975\n",
      "[499]\tvalidation_0-mae:6.25970\n",
      "0:\tlearn: 6.4036970\ttest: 6.4128754\tbest: 6.4128754 (0)\ttotal: 222ms\tremaining: 2s\n",
      "9:\tlearn: 6.3825490\ttest: 6.3917030\tbest: 6.3917030 (9)\ttotal: 1.28s\tremaining: 0us\n",
      "\n",
      "bestTest = 6.391703008\n",
      "bestIteration = 9\n"
     ]
    }
   ],
   "source": [
    "model_path ='data/RKCP0219'\n",
    "os.makedirs('models', exist_ok=True)\n",
    "\n",
    "N_fold = 4\n",
    "\n",
    "if TRAINING:\n",
    "    X = df_.values\n",
    "    Y = y_train\n",
    "    X = X[np.isfinite(Y)]\n",
    "    Y = Y[np.isfinite(Y)]\n",
    "    index = np.arange(len(X))\n",
    "    \n",
    "models = []\n",
    "scores = pd.DataFrame(columns=['name', 'mean absolute error'])\n",
    "\n",
    "def train_and_test(model_dict, modelname='lgb'):\n",
    "    if TRAINING:\n",
    "        model = model_dict[modelname]\n",
    "        if modelname=='lgb':\n",
    "            model.fit(X[index%N_fold!=i], Y[index%N_fold!=i], \n",
    "                    eval_set=[(X[index%N_fold==i], Y[index%N_fold==i])])\n",
    "        else:\n",
    "            model.fit(X[index%N_fold!=i], Y[index%N_fold!=i], \n",
    "                    eval_set=[(X[index%N_fold==i], Y[index%N_fold==i])], \n",
    "                    verbose=10, \n",
    "                    early_stopping_rounds=100\n",
    "                    )\n",
    "        \n",
    "        models.append(model)\n",
    "        joblib.dump(model, f'data/models/{modelname}_{i}.model')\n",
    "        \n",
    "        feat = generate_features(X_test) \n",
    "        # Make predictions using the trained models and compute the mean\n",
    "        test_preds = model.predict(feat)\n",
    "        test_score = mean_absolute_error(y_test, test_preds)\n",
    "        scores.loc[len(scores)]=[modelname, test_score] \n",
    "\n",
    "    else:\n",
    "        models.append(joblib.load(f'{model_path}/{modelname}_{i}.model'))\n",
    "    return \n",
    "\n",
    "model_dict = {\n",
    "    'lgb': lgb.LGBMRegressor(objective='regression_l1', n_estimators=500),\n",
    "    'xgb': xgb.XGBRegressor(tree_method='hist', objective='reg:absoluteerror', n_estimators=500),\n",
    "    'cbt': cbt.CatBoostRegressor(objective='MAE', iterations=10),\n",
    "}\n",
    "\n",
    "for i in range(N_fold):\n",
    "    train_and_test(model_dict, 'lgb')\n",
    "    train_and_test(model_dict, 'xgb')\n",
    "    train_and_test(model_dict, 'cbt')"
   ]
  },
  {
   "cell_type": "code",
   "execution_count": 24,
   "outputs": [
    {
     "data": {
      "text/plain": "   name  mean absolute error\n0   lgb             6.265238\n1   xgb             6.248527\n2   cbt             6.379824\n3   lgb             6.264602\n4   xgb             6.248145\n5   cbt             6.379606\n6   lgb             6.264306\n7   xgb             6.248612\n8   cbt             6.379726\n9   lgb             6.265185\n10  xgb             6.248738\n11  cbt             6.379689",
      "text/html": "<div>\n<style scoped>\n    .dataframe tbody tr th:only-of-type {\n        vertical-align: middle;\n    }\n\n    .dataframe tbody tr th {\n        vertical-align: top;\n    }\n\n    .dataframe thead th {\n        text-align: right;\n    }\n</style>\n<table border=\"1\" class=\"dataframe\">\n  <thead>\n    <tr style=\"text-align: right;\">\n      <th></th>\n      <th>name</th>\n      <th>mean absolute error</th>\n    </tr>\n  </thead>\n  <tbody>\n    <tr>\n      <th>0</th>\n      <td>lgb</td>\n      <td>6.265238</td>\n    </tr>\n    <tr>\n      <th>1</th>\n      <td>xgb</td>\n      <td>6.248527</td>\n    </tr>\n    <tr>\n      <th>2</th>\n      <td>cbt</td>\n      <td>6.379824</td>\n    </tr>\n    <tr>\n      <th>3</th>\n      <td>lgb</td>\n      <td>6.264602</td>\n    </tr>\n    <tr>\n      <th>4</th>\n      <td>xgb</td>\n      <td>6.248145</td>\n    </tr>\n    <tr>\n      <th>5</th>\n      <td>cbt</td>\n      <td>6.379606</td>\n    </tr>\n    <tr>\n      <th>6</th>\n      <td>lgb</td>\n      <td>6.264306</td>\n    </tr>\n    <tr>\n      <th>7</th>\n      <td>xgb</td>\n      <td>6.248612</td>\n    </tr>\n    <tr>\n      <th>8</th>\n      <td>cbt</td>\n      <td>6.379726</td>\n    </tr>\n    <tr>\n      <th>9</th>\n      <td>lgb</td>\n      <td>6.265185</td>\n    </tr>\n    <tr>\n      <th>10</th>\n      <td>xgb</td>\n      <td>6.248738</td>\n    </tr>\n    <tr>\n      <th>11</th>\n      <td>cbt</td>\n      <td>6.379689</td>\n    </tr>\n  </tbody>\n</table>\n</div>"
     },
     "execution_count": 24,
     "metadata": {},
     "output_type": "execute_result"
    }
   ],
   "source": [
    "#Testing\n",
    "scores"
   ],
   "metadata": {
    "collapsed": false,
    "ExecuteTime": {
     "end_time": "2023-12-10T23:26:48.882755Z",
     "start_time": "2023-12-10T23:26:48.881379Z"
    }
   },
   "id": "b5362dd0a1081c83"
  },
  {
   "cell_type": "code",
   "execution_count": 25,
   "id": "4ab64d10623fccce",
   "metadata": {
    "ExecuteTime": {
     "end_time": "2023-12-10T23:27:21.956600Z",
     "start_time": "2023-12-10T23:27:21.936960Z"
    }
   },
   "outputs": [
    {
     "ename": "ModuleNotFoundError",
     "evalue": "No module named 'optiver2023'",
     "output_type": "error",
     "traceback": [
      "\u001B[0;31m---------------------------------------------------------------------------\u001B[0m",
      "\u001B[0;31mModuleNotFoundError\u001B[0m                       Traceback (most recent call last)",
      "Cell \u001B[0;32mIn[25], line 1\u001B[0m\n\u001B[0;32m----> 1\u001B[0m \u001B[38;5;28;01mimport\u001B[39;00m \u001B[38;5;21;01moptiver2023\u001B[39;00m\n\u001B[1;32m      2\u001B[0m env \u001B[38;5;241m=\u001B[39m optiver2023\u001B[38;5;241m.\u001B[39mmake_env()\n\u001B[1;32m      3\u001B[0m iter_test \u001B[38;5;241m=\u001B[39m env\u001B[38;5;241m.\u001B[39miter_test()\n",
      "\u001B[0;31mModuleNotFoundError\u001B[0m: No module named 'optiver2023'"
     ]
    }
   ],
   "source": [
    "import optiver2023\n",
    "env = optiver2023.make_env()\n",
    "iter_test = env.iter_test() "
   ]
  },
  {
   "cell_type": "code",
   "execution_count": 26,
   "id": "ecfedbaeada4bd94",
   "metadata": {
    "ExecuteTime": {
     "end_time": "2023-12-10T23:27:22.036496Z",
     "start_time": "2023-12-10T23:27:22.026723Z"
    }
   },
   "outputs": [
    {
     "ename": "NameError",
     "evalue": "name 'iter_test' is not defined",
     "output_type": "error",
     "traceback": [
      "\u001B[0;31m---------------------------------------------------------------------------\u001B[0m",
      "\u001B[0;31mNameError\u001B[0m                                 Traceback (most recent call last)",
      "Cell \u001B[0;32mIn[26], line 2\u001B[0m\n\u001B[1;32m      1\u001B[0m counter \u001B[38;5;241m=\u001B[39m \u001B[38;5;241m0\u001B[39m\n\u001B[0;32m----> 2\u001B[0m \u001B[38;5;28;01mfor\u001B[39;00m (test, revealed_targets, sample_prediction) \u001B[38;5;129;01min\u001B[39;00m iter_test:\n\u001B[1;32m      3\u001B[0m     feat \u001B[38;5;241m=\u001B[39m generate_features(test)\n\u001B[1;32m      5\u001B[0m     sample_prediction[\u001B[38;5;124m'\u001B[39m\u001B[38;5;124mtarget\u001B[39m\u001B[38;5;124m'\u001B[39m] \u001B[38;5;241m=\u001B[39m np\u001B[38;5;241m.\u001B[39mmean([model\u001B[38;5;241m.\u001B[39mpredict(feat) \u001B[38;5;28;01mfor\u001B[39;00m model \u001B[38;5;129;01min\u001B[39;00m models], \u001B[38;5;241m0\u001B[39m)\n",
      "\u001B[0;31mNameError\u001B[0m: name 'iter_test' is not defined"
     ]
    }
   ],
   "source": [
    "counter = 0\n",
    "for (test, revealed_targets, sample_prediction) in iter_test:\n",
    "    feat = generate_features(test)\n",
    "\n",
    "    sample_prediction['target'] = np.mean([model.predict(feat) for model in models], 0)\n",
    "    env.predict(sample_prediction)\n",
    "    counter += 1"
   ]
  },
  {
   "cell_type": "code",
   "execution_count": null,
   "id": "9b01092a48078aa3",
   "metadata": {
    "ExecuteTime": {
     "start_time": "2023-12-10T22:26:39.810075Z"
    }
   },
   "outputs": [],
   "source": []
  }
 ],
 "metadata": {
  "kernelspec": {
   "display_name": "Python 3 (ipykernel)",
   "language": "python",
   "name": "python3"
  },
  "language_info": {
   "codemirror_mode": {
    "name": "ipython",
    "version": 3
   },
   "file_extension": ".py",
   "mimetype": "text/x-python",
   "name": "python",
   "nbconvert_exporter": "python",
   "pygments_lexer": "ipython3",
   "version": "3.11.4"
  }
 },
 "nbformat": 4,
 "nbformat_minor": 5
}
